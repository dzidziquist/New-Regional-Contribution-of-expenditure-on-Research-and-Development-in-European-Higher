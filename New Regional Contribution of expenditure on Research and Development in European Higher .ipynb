{
 "cells": [
  {
   "cell_type": "markdown",
   "metadata": {},
   "source": [
    "In this project, we will like to know what Eter tells us about the regional contribution of expenditures on Research and Development"
   ]
  },
  {
   "cell_type": "code",
   "execution_count": 1,
   "metadata": {},
   "outputs": [],
   "source": [
    "#importing libraries \n",
    "import pandas as pd \n",
    "import numpy as np \n",
    "import matplotlib.pyplot as plt \n",
    "import seaborn as sns \n",
    "from scipy.stats import skew, kurtosis\n",
    "#from sklearn.preprocessing import LabelEncoder\n",
    "from math import sqrt\n",
    "from sklearn.model_selection import cross_val_score\n",
    "from sklearn.preprocessing import RobustScaler\n",
    "from sklearn.preprocessing import StandardScaler\n",
    "from sklearn import linear_model"
   ]
  },
  {
   "cell_type": "code",
   "execution_count": 2,
   "metadata": {},
   "outputs": [
    {
     "data": {
      "text/html": [
       "<div>\n",
       "<style scoped>\n",
       "    .dataframe tbody tr th:only-of-type {\n",
       "        vertical-align: middle;\n",
       "    }\n",
       "\n",
       "    .dataframe tbody tr th {\n",
       "        vertical-align: top;\n",
       "    }\n",
       "\n",
       "    .dataframe thead th {\n",
       "        text-align: right;\n",
       "    }\n",
       "</style>\n",
       "<table border=\"1\" class=\"dataframe\">\n",
       "  <thead>\n",
       "    <tr style=\"text-align: right;\">\n",
       "      <th></th>\n",
       "      <th>ETER ID Year</th>\n",
       "      <th>ETER ID</th>\n",
       "      <th>Institution Name</th>\n",
       "      <th>English Institution Name</th>\n",
       "      <th>Reference year</th>\n",
       "      <th>Institution Acronym</th>\n",
       "      <th>Country Code</th>\n",
       "      <th>Research active institution</th>\n",
       "      <th>Total students enrolled at ISCED 8</th>\n",
       "      <th>R&amp;D Expenditure (NC)</th>\n",
       "      <th>R&amp;D Expenditure (EURO)</th>\n",
       "      <th>R&amp;D Expenditure (PPP)</th>\n",
       "    </tr>\n",
       "  </thead>\n",
       "  <tbody>\n",
       "    <tr>\n",
       "      <th>14313</th>\n",
       "      <td>UK0180.2011</td>\n",
       "      <td>UK0180</td>\n",
       "      <td>Scotland’s Rural College – SRUC</td>\n",
       "      <td>Scotland’s Rural College – SRUC</td>\n",
       "      <td>2011</td>\n",
       "      <td>SRUC</td>\n",
       "      <td>UK</td>\n",
       "      <td>1</td>\n",
       "      <td>a</td>\n",
       "      <td>m</td>\n",
       "      <td>m</td>\n",
       "      <td>m</td>\n",
       "    </tr>\n",
       "    <tr>\n",
       "      <th>14314</th>\n",
       "      <td>UK0181.2011</td>\n",
       "      <td>UK0181</td>\n",
       "      <td>St Mary's University College</td>\n",
       "      <td>St Mary's University College</td>\n",
       "      <td>2011</td>\n",
       "      <td>m</td>\n",
       "      <td>UK</td>\n",
       "      <td>1</td>\n",
       "      <td>a</td>\n",
       "      <td>m</td>\n",
       "      <td>m</td>\n",
       "      <td>m</td>\n",
       "    </tr>\n",
       "    <tr>\n",
       "      <th>14315</th>\n",
       "      <td>UK0182.2011</td>\n",
       "      <td>UK0182</td>\n",
       "      <td>Stranmillis University College</td>\n",
       "      <td>Stranmillis University College</td>\n",
       "      <td>2011</td>\n",
       "      <td>m</td>\n",
       "      <td>UK</td>\n",
       "      <td>1</td>\n",
       "      <td>a</td>\n",
       "      <td>m</td>\n",
       "      <td>m</td>\n",
       "      <td>m</td>\n",
       "    </tr>\n",
       "  </tbody>\n",
       "</table>\n",
       "</div>"
      ],
      "text/plain": [
       "      ETER ID Year ETER ID                 Institution Name  \\\n",
       "14313  UK0180.2011  UK0180  Scotland’s Rural College – SRUC   \n",
       "14314  UK0181.2011  UK0181     St Mary's University College   \n",
       "14315  UK0182.2011  UK0182   Stranmillis University College   \n",
       "\n",
       "              English Institution Name  Reference year Institution Acronym  \\\n",
       "14313  Scotland’s Rural College – SRUC            2011                SRUC   \n",
       "14314     St Mary's University College            2011                   m   \n",
       "14315   Stranmillis University College            2011                   m   \n",
       "\n",
       "      Country Code Research active institution  \\\n",
       "14313           UK                           1   \n",
       "14314           UK                           1   \n",
       "14315           UK                           1   \n",
       "\n",
       "      Total students enrolled at ISCED 8 R&D Expenditure (NC)  \\\n",
       "14313                                  a                    m   \n",
       "14314                                  a                    m   \n",
       "14315                                  a                    m   \n",
       "\n",
       "      R&D Expenditure (EURO) R&D Expenditure (PPP)  \n",
       "14313                      m                     m  \n",
       "14314                      m                     m  \n",
       "14315                      m                     m  "
      ]
     },
     "execution_count": 2,
     "metadata": {},
     "output_type": "execute_result"
    }
   ],
   "source": [
    "#load the exter data \n",
    "qmedata = pd.read_excel(\"dataproject.xlsx\")\n",
    "qmedata.tail(3)"
   ]
  },
  {
   "cell_type": "code",
   "execution_count": 3,
   "metadata": {},
   "outputs": [],
   "source": [
    "entries = len(qmedata)"
   ]
  },
  {
   "cell_type": "code",
   "execution_count": 4,
   "metadata": {},
   "outputs": [],
   "source": [
    "#drop Institution Acronym \n",
    "qmedata = qmedata.drop(\"Institution Acronym\", axis = 1)"
   ]
  },
  {
   "cell_type": "code",
   "execution_count": 5,
   "metadata": {},
   "outputs": [
    {
     "data": {
      "text/plain": [
       "ETER ID Year                             0\n",
       "ETER ID                                  0\n",
       "Institution Name                         0\n",
       "English Institution Name              1359\n",
       "Reference year                           0\n",
       "Country Code                             0\n",
       "Research active institution              0\n",
       "Total students enrolled at ISCED 8       0\n",
       "R&D Expenditure (NC)                     0\n",
       "R&D Expenditure (EURO)                   0\n",
       "R&D Expenditure (PPP)                    0\n",
       "dtype: int64"
      ]
     },
     "execution_count": 5,
     "metadata": {},
     "output_type": "execute_result"
    }
   ],
   "source": [
    "#checking for missing values(blanks)\n",
    "qmedata.isnull().sum()"
   ]
  },
  {
   "cell_type": "code",
   "execution_count": 6,
   "metadata": {},
   "outputs": [],
   "source": [
    "#dealing with the missing values(the blanks) for the English Institution Name by replacing them with the orginal \n",
    "#school name \n",
    "qmedata[\"English Institution Name\"] = np.where(qmedata[\"English Institution Name\"].isnull(), \n",
    "                                               qmedata[\"Institution Name\"], qmedata[\"English Institution Name\"])"
   ]
  },
  {
   "cell_type": "code",
   "execution_count": 7,
   "metadata": {
    "scrolled": true
   },
   "outputs": [
    {
     "data": {
      "text/plain": [
       "ETER ID Year                          0\n",
       "ETER ID                               0\n",
       "Institution Name                      0\n",
       "English Institution Name              0\n",
       "Reference year                        0\n",
       "Country Code                          0\n",
       "Research active institution           0\n",
       "Total students enrolled at ISCED 8    0\n",
       "R&D Expenditure (NC)                  0\n",
       "R&D Expenditure (EURO)                0\n",
       "R&D Expenditure (PPP)                 0\n",
       "dtype: int64"
      ]
     },
     "execution_count": 7,
     "metadata": {},
     "output_type": "execute_result"
    }
   ],
   "source": [
    "qmedata.isnull().sum()"
   ]
  },
  {
   "cell_type": "code",
   "execution_count": 8,
   "metadata": {},
   "outputs": [
    {
     "data": {
      "text/plain": [
       "Country Code  Reference year\n",
       "AL            2011               38\n",
       "              2012               38\n",
       "              2013               39\n",
       "              2014               39\n",
       "              2015               41\n",
       "AT            2011               68\n",
       "              2012               68\n",
       "              2013               68\n",
       "              2014               69\n",
       "              2015               69\n",
       "BE            2011               69\n",
       "              2012               69\n",
       "              2013               64\n",
       "              2014               64\n",
       "              2015               63\n",
       "BG            2011               52\n",
       "              2012               52\n",
       "              2013               52\n",
       "              2014               52\n",
       "              2015               52\n",
       "CH            2011               33\n",
       "              2012               35\n",
       "              2013               35\n",
       "              2014               35\n",
       "              2015               35\n",
       "CY            2011               25\n",
       "              2012               25\n",
       "              2013               25\n",
       "              2014               23\n",
       "              2015               26\n",
       "CZ            2011               72\n",
       "              2012               71\n",
       "              2013               70\n",
       "              2014               71\n",
       "              2015               68\n",
       "DE            2011              367\n",
       "              2012              379\n",
       "              2013              383\n",
       "              2014              389\n",
       "              2015              390\n",
       "DK            2011               34\n",
       "              2012               34\n",
       "              2013               33\n",
       "              2014               33\n",
       "              2015               33\n",
       "EE            2011               30\n",
       "              2012               29\n",
       "              2013               26\n",
       "              2014               25\n",
       "              2015               24\n",
       "ES            2011               77\n",
       "              2012               80\n",
       "              2013               80\n",
       "              2014               81\n",
       "              2015               82\n",
       "FI            2011               44\n",
       "              2012               44\n",
       "              2013               42\n",
       "              2014               41\n",
       "              2015               41\n",
       "FR            2011              340\n",
       "              2012              341\n",
       "              2013              369\n",
       "              2014              376\n",
       "              2015              379\n",
       "GR            2011               50\n",
       "              2012               50\n",
       "              2013               47\n",
       "              2014               49\n",
       "              2015               47\n",
       "HR            2011               32\n",
       "              2012               33\n",
       "              2013               36\n",
       "              2014               37\n",
       "              2015               37\n",
       "HU            2011               52\n",
       "              2012               52\n",
       "              2013               52\n",
       "              2014               52\n",
       "              2015               50\n",
       "IE            2011               27\n",
       "              2012               27\n",
       "              2013               27\n",
       "              2014               27\n",
       "              2015               27\n",
       "IS            2011                7\n",
       "              2012                7\n",
       "              2013                7\n",
       "              2014                7\n",
       "              2015                7\n",
       "IT            2011              176\n",
       "              2012              176\n",
       "              2013              176\n",
       "              2014              215\n",
       "              2015              215\n",
       "LI            2011                1\n",
       "              2012                1\n",
       "              2013                1\n",
       "              2014                1\n",
       "              2015                1\n",
       "LT            2011               43\n",
       "              2012               43\n",
       "              2013               44\n",
       "              2014               43\n",
       "              2015               43\n",
       "LU            2011                1\n",
       "              2012                1\n",
       "              2013                1\n",
       "              2014                1\n",
       "              2015                2\n",
       "LV            2011               49\n",
       "              2012               49\n",
       "              2013               46\n",
       "              2014               45\n",
       "              2015               44\n",
       "ME            2011                9\n",
       "              2012               10\n",
       "              2013               10\n",
       "              2014               10\n",
       "              2015               10\n",
       "MK            2011               10\n",
       "              2012               10\n",
       "              2013               10\n",
       "              2014               13\n",
       "              2015               14\n",
       "MT            2011                1\n",
       "              2012                1\n",
       "              2013                2\n",
       "              2014                2\n",
       "              2015                2\n",
       "NL            2011               57\n",
       "              2012               55\n",
       "              2013               56\n",
       "              2014               56\n",
       "              2015               56\n",
       "NO            2011               50\n",
       "              2012               50\n",
       "              2013               50\n",
       "              2014               48\n",
       "              2015               48\n",
       "PL            2011              286\n",
       "              2012              272\n",
       "              2013              280\n",
       "              2014              282\n",
       "              2015              281\n",
       "PT            2011              113\n",
       "              2012              106\n",
       "              2013               94\n",
       "              2014               91\n",
       "              2015               90\n",
       "RO            2011              106\n",
       "              2012              106\n",
       "              2013              100\n",
       "              2014               96\n",
       "              2015               96\n",
       "RS            2011               39\n",
       "              2012               40\n",
       "              2013               40\n",
       "              2014               41\n",
       "              2015               46\n",
       "SE            2011               39\n",
       "              2012               39\n",
       "              2013               40\n",
       "              2014               37\n",
       "              2015               37\n",
       "SI            2011               39\n",
       "              2012               41\n",
       "              2013               44\n",
       "              2014               48\n",
       "              2015               50\n",
       "SK            2011               32\n",
       "              2012               32\n",
       "              2013               32\n",
       "              2014               32\n",
       "              2015               32\n",
       "TR            2011              177\n",
       "              2012              181\n",
       "              2013              188\n",
       "              2014              189\n",
       "              2015              195\n",
       "UK            2011              162\n",
       "              2012              161\n",
       "              2013              160\n",
       "              2014              161\n",
       "              2015              258\n",
       "Name: Reference year, dtype: int64"
      ]
     },
     "execution_count": 8,
     "metadata": {},
     "output_type": "execute_result"
    }
   ],
   "source": [
    "#total number institutions in each country or region in each year\n",
    "pd.set_option('display.max_rows', 185) #show all variables \n",
    "qmedata.groupby([\"Country Code\",\"Reference year\"])[\"Reference year\"].count()"
   ]
  },
  {
   "cell_type": "code",
   "execution_count": 9,
   "metadata": {},
   "outputs": [
    {
     "data": {
      "text/html": [
       "<div>\n",
       "<style scoped>\n",
       "    .dataframe tbody tr th:only-of-type {\n",
       "        vertical-align: middle;\n",
       "    }\n",
       "\n",
       "    .dataframe tbody tr th {\n",
       "        vertical-align: top;\n",
       "    }\n",
       "\n",
       "    .dataframe thead th {\n",
       "        text-align: right;\n",
       "    }\n",
       "</style>\n",
       "<table border=\"1\" class=\"dataframe\">\n",
       "  <thead>\n",
       "    <tr style=\"text-align: right;\">\n",
       "      <th></th>\n",
       "      <th>ETER ID</th>\n",
       "      <th>Institution Name</th>\n",
       "      <th>Reference year</th>\n",
       "      <th>Country Code</th>\n",
       "      <th>Research active institution</th>\n",
       "      <th>Total students enrolled at ISCED 8</th>\n",
       "      <th>R&amp;D Expenditure (EURO)</th>\n",
       "    </tr>\n",
       "  </thead>\n",
       "  <tbody>\n",
       "    <tr>\n",
       "      <th>0</th>\n",
       "      <td>AL0001</td>\n",
       "      <td>Universiteti i Tiranës</td>\n",
       "      <td>2015</td>\n",
       "      <td>AL</td>\n",
       "      <td>1</td>\n",
       "      <td>1764</td>\n",
       "      <td>m</td>\n",
       "    </tr>\n",
       "    <tr>\n",
       "      <th>1</th>\n",
       "      <td>AL0002</td>\n",
       "      <td>Universiteti Politeknik i Tiranës</td>\n",
       "      <td>2015</td>\n",
       "      <td>AL</td>\n",
       "      <td>1</td>\n",
       "      <td>325</td>\n",
       "      <td>m</td>\n",
       "    </tr>\n",
       "    <tr>\n",
       "      <th>2</th>\n",
       "      <td>AL0003</td>\n",
       "      <td>Universiteti Bujqësor i Tiranës</td>\n",
       "      <td>2015</td>\n",
       "      <td>AL</td>\n",
       "      <td>1</td>\n",
       "      <td>337</td>\n",
       "      <td>m</td>\n",
       "    </tr>\n",
       "    <tr>\n",
       "      <th>3</th>\n",
       "      <td>AL0004</td>\n",
       "      <td>Universiteti i Elbasanit \"Aleksandër Xhuvani\"</td>\n",
       "      <td>2015</td>\n",
       "      <td>AL</td>\n",
       "      <td>1</td>\n",
       "      <td>29</td>\n",
       "      <td>m</td>\n",
       "    </tr>\n",
       "    <tr>\n",
       "      <th>4</th>\n",
       "      <td>AL0005</td>\n",
       "      <td>Universiteti \"Luigj Gurakuqi\", Shkodër</td>\n",
       "      <td>2015</td>\n",
       "      <td>AL</td>\n",
       "      <td>1</td>\n",
       "      <td>s</td>\n",
       "      <td>m</td>\n",
       "    </tr>\n",
       "  </tbody>\n",
       "</table>\n",
       "</div>"
      ],
      "text/plain": [
       "  ETER ID                               Institution Name  Reference year  \\\n",
       "0  AL0001                         Universiteti i Tiranës            2015   \n",
       "1  AL0002              Universiteti Politeknik i Tiranës            2015   \n",
       "2  AL0003                Universiteti Bujqësor i Tiranës            2015   \n",
       "3  AL0004  Universiteti i Elbasanit \"Aleksandër Xhuvani\"            2015   \n",
       "4  AL0005         Universiteti \"Luigj Gurakuqi\", Shkodër            2015   \n",
       "\n",
       "  Country Code Research active institution Total students enrolled at ISCED 8  \\\n",
       "0           AL                           1                               1764   \n",
       "1           AL                           1                                325   \n",
       "2           AL                           1                                337   \n",
       "3           AL                           1                                 29   \n",
       "4           AL                           1                                  s   \n",
       "\n",
       "  R&D Expenditure (EURO)  \n",
       "0                      m  \n",
       "1                      m  \n",
       "2                      m  \n",
       "3                      m  \n",
       "4                      m  "
      ]
     },
     "execution_count": 9,
     "metadata": {},
     "output_type": "execute_result"
    }
   ],
   "source": [
    "#dropping R&D Expenditure(NC), (PPP), ETER ID Year , English Institution Name  and focusing on just the Euro variable \n",
    "qmedata = qmedata.drop([\"R&D Expenditure (NC)\", \"R&D Expenditure (PPP)\", \n",
    "                        \"ETER ID Year\", \"English Institution Name\"], axis =1)\n",
    "qmedata.head(5)"
   ]
  },
  {
   "cell_type": "code",
   "execution_count": 10,
   "metadata": {},
   "outputs": [],
   "source": [
    "#finding inactive research institutions \n",
    "inactive = qmedata[(qmedata[\"Research active institution\"] == 0) &\n",
    "                  (qmedata[\"R&D Expenditure (EURO)\"] == \"a\")]"
   ]
  },
  {
   "cell_type": "code",
   "execution_count": 11,
   "metadata": {},
   "outputs": [
    {
     "data": {
      "text/html": [
       "<div>\n",
       "<style scoped>\n",
       "    .dataframe tbody tr th:only-of-type {\n",
       "        vertical-align: middle;\n",
       "    }\n",
       "\n",
       "    .dataframe tbody tr th {\n",
       "        vertical-align: top;\n",
       "    }\n",
       "\n",
       "    .dataframe thead th {\n",
       "        text-align: right;\n",
       "    }\n",
       "</style>\n",
       "<table border=\"1\" class=\"dataframe\">\n",
       "  <thead>\n",
       "    <tr style=\"text-align: right;\">\n",
       "      <th></th>\n",
       "      <th>ETER ID</th>\n",
       "      <th>Institution Name</th>\n",
       "      <th>Reference year</th>\n",
       "      <th>Country Code</th>\n",
       "      <th>Research active institution</th>\n",
       "      <th>Total students enrolled at ISCED 8</th>\n",
       "      <th>R&amp;D Expenditure (EURO)</th>\n",
       "    </tr>\n",
       "  </thead>\n",
       "  <tbody>\n",
       "    <tr>\n",
       "      <th>11854</th>\n",
       "      <td>CZ0061</td>\n",
       "      <td>B.I.B.S., a.s.</td>\n",
       "      <td>2011</td>\n",
       "      <td>CZ</td>\n",
       "      <td>0</td>\n",
       "      <td>a</td>\n",
       "      <td>a</td>\n",
       "    </tr>\n",
       "    <tr>\n",
       "      <th>1619</th>\n",
       "      <td>IT0154</td>\n",
       "      <td>Conservatorio di COMO \"Giuseppe Verdi\"</td>\n",
       "      <td>2015</td>\n",
       "      <td>IT</td>\n",
       "      <td>0</td>\n",
       "      <td>a</td>\n",
       "      <td>a</td>\n",
       "    </tr>\n",
       "    <tr>\n",
       "      <th>13372</th>\n",
       "      <td>PL0056</td>\n",
       "      <td>Europejska Wyższa Szkoła Prawa i Administracji...</td>\n",
       "      <td>2011</td>\n",
       "      <td>PL</td>\n",
       "      <td>0</td>\n",
       "      <td>a</td>\n",
       "      <td>a</td>\n",
       "    </tr>\n",
       "    <tr>\n",
       "      <th>7919</th>\n",
       "      <td>PL0282</td>\n",
       "      <td>Wyższa Szkoła Ekonomii i Innowacji w Lublinie</td>\n",
       "      <td>2013</td>\n",
       "      <td>PL</td>\n",
       "      <td>0</td>\n",
       "      <td>a</td>\n",
       "      <td>a</td>\n",
       "    </tr>\n",
       "    <tr>\n",
       "      <th>4357</th>\n",
       "      <td>HR0021</td>\n",
       "      <td>Veleučilište VERN`, Zagreb</td>\n",
       "      <td>2014</td>\n",
       "      <td>HR</td>\n",
       "      <td>0</td>\n",
       "      <td>a</td>\n",
       "      <td>a</td>\n",
       "    </tr>\n",
       "  </tbody>\n",
       "</table>\n",
       "</div>"
      ],
      "text/plain": [
       "      ETER ID                                   Institution Name  \\\n",
       "11854  CZ0061                                     B.I.B.S., a.s.   \n",
       "1619   IT0154             Conservatorio di COMO \"Giuseppe Verdi\"   \n",
       "13372  PL0056  Europejska Wyższa Szkoła Prawa i Administracji...   \n",
       "7919   PL0282      Wyższa Szkoła Ekonomii i Innowacji w Lublinie   \n",
       "4357   HR0021                         Veleučilište VERN`, Zagreb   \n",
       "\n",
       "       Reference year Country Code Research active institution  \\\n",
       "11854            2011           CZ                           0   \n",
       "1619             2015           IT                           0   \n",
       "13372            2011           PL                           0   \n",
       "7919             2013           PL                           0   \n",
       "4357             2014           HR                           0   \n",
       "\n",
       "      Total students enrolled at ISCED 8 R&D Expenditure (EURO)  \n",
       "11854                                  a                      a  \n",
       "1619                                   a                      a  \n",
       "13372                                  a                      a  \n",
       "7919                                   a                      a  \n",
       "4357                                   a                      a  "
      ]
     },
     "execution_count": 11,
     "metadata": {},
     "output_type": "execute_result"
    }
   ],
   "source": [
    "inactive.sample(5)"
   ]
  },
  {
   "cell_type": "code",
   "execution_count": 12,
   "metadata": {},
   "outputs": [
    {
     "data": {
      "text/html": [
       "<div>\n",
       "<style scoped>\n",
       "    .dataframe tbody tr th:only-of-type {\n",
       "        vertical-align: middle;\n",
       "    }\n",
       "\n",
       "    .dataframe tbody tr th {\n",
       "        vertical-align: top;\n",
       "    }\n",
       "\n",
       "    .dataframe thead th {\n",
       "        text-align: right;\n",
       "    }\n",
       "</style>\n",
       "<table border=\"1\" class=\"dataframe\">\n",
       "  <thead>\n",
       "    <tr style=\"text-align: right;\">\n",
       "      <th></th>\n",
       "      <th>ETER ID</th>\n",
       "      <th>Institution Name</th>\n",
       "      <th>Reference year</th>\n",
       "      <th>Country Code</th>\n",
       "      <th>Research active institution</th>\n",
       "      <th>Total students enrolled at ISCED 8</th>\n",
       "      <th>R&amp;D Expenditure (EURO)</th>\n",
       "    </tr>\n",
       "  </thead>\n",
       "  <tbody>\n",
       "    <tr>\n",
       "      <th>0</th>\n",
       "      <td>AL0001</td>\n",
       "      <td>Universiteti i Tiranës</td>\n",
       "      <td>2015</td>\n",
       "      <td>AL</td>\n",
       "      <td>1</td>\n",
       "      <td>1764</td>\n",
       "      <td>m</td>\n",
       "    </tr>\n",
       "    <tr>\n",
       "      <th>1</th>\n",
       "      <td>AL0002</td>\n",
       "      <td>Universiteti Politeknik i Tiranës</td>\n",
       "      <td>2015</td>\n",
       "      <td>AL</td>\n",
       "      <td>1</td>\n",
       "      <td>325</td>\n",
       "      <td>m</td>\n",
       "    </tr>\n",
       "    <tr>\n",
       "      <th>2</th>\n",
       "      <td>AL0003</td>\n",
       "      <td>Universiteti Bujqësor i Tiranës</td>\n",
       "      <td>2015</td>\n",
       "      <td>AL</td>\n",
       "      <td>1</td>\n",
       "      <td>337</td>\n",
       "      <td>m</td>\n",
       "    </tr>\n",
       "    <tr>\n",
       "      <th>3</th>\n",
       "      <td>AL0004</td>\n",
       "      <td>Universiteti i Elbasanit \"Aleksandër Xhuvani\"</td>\n",
       "      <td>2015</td>\n",
       "      <td>AL</td>\n",
       "      <td>1</td>\n",
       "      <td>29</td>\n",
       "      <td>m</td>\n",
       "    </tr>\n",
       "    <tr>\n",
       "      <th>4</th>\n",
       "      <td>AL0005</td>\n",
       "      <td>Universiteti \"Luigj Gurakuqi\", Shkodër</td>\n",
       "      <td>2015</td>\n",
       "      <td>AL</td>\n",
       "      <td>1</td>\n",
       "      <td>s</td>\n",
       "      <td>m</td>\n",
       "    </tr>\n",
       "  </tbody>\n",
       "</table>\n",
       "</div>"
      ],
      "text/plain": [
       "  ETER ID                               Institution Name  Reference year  \\\n",
       "0  AL0001                         Universiteti i Tiranës            2015   \n",
       "1  AL0002              Universiteti Politeknik i Tiranës            2015   \n",
       "2  AL0003                Universiteti Bujqësor i Tiranës            2015   \n",
       "3  AL0004  Universiteti i Elbasanit \"Aleksandër Xhuvani\"            2015   \n",
       "4  AL0005         Universiteti \"Luigj Gurakuqi\", Shkodër            2015   \n",
       "\n",
       "  Country Code Research active institution Total students enrolled at ISCED 8  \\\n",
       "0           AL                           1                               1764   \n",
       "1           AL                           1                                325   \n",
       "2           AL                           1                                337   \n",
       "3           AL                           1                                 29   \n",
       "4           AL                           1                                  s   \n",
       "\n",
       "  R&D Expenditure (EURO)  \n",
       "0                      m  \n",
       "1                      m  \n",
       "2                      m  \n",
       "3                      m  \n",
       "4                      m  "
      ]
     },
     "execution_count": 12,
     "metadata": {},
     "output_type": "execute_result"
    }
   ],
   "source": [
    "#dropping this inactive research institutions\n",
    "qmedata =qmedata.drop(qmedata[(qmedata[\"Research active institution\"] == 0) &\n",
    "                  (qmedata[\"R&D Expenditure (EURO)\"] == \"a\")].index).reset_index(drop=True)\n",
    "qmedata.head(5)"
   ]
  },
  {
   "cell_type": "code",
   "execution_count": 13,
   "metadata": {},
   "outputs": [
    {
     "name": "stdout",
     "output_type": "stream",
     "text": [
      "number of active research instituitons: 8845\n"
     ]
    }
   ],
   "source": [
    "#number of institutions which have explicitly stated their activeness \n",
    "print(\"number of active research instituitons:\", len(qmedata[qmedata[\"Research active institution\"] == 1]))"
   ]
  },
  {
   "cell_type": "code",
   "execution_count": 14,
   "metadata": {},
   "outputs": [
    {
     "name": "stdout",
     "output_type": "stream",
     "text": [
      "percentage of missing values, m: 16.0\n"
     ]
    }
   ],
   "source": [
    "#the percentage  of institutions that have missing values(m) in terms of it being active\n",
    "print(\"percentage of missing values, m:\", \n",
    "      ((qmedata[\"Research active institution\"] == \"m\") .sum()* 100 /entries).round())"
   ]
  },
  {
   "cell_type": "markdown",
   "metadata": {},
   "source": [
    "it can be seen that 16% of Reseacrh active institutions are missing, m. "
   ]
  },
  {
   "cell_type": "code",
   "execution_count": 15,
   "metadata": {},
   "outputs": [
    {
     "name": "stdout",
     "output_type": "stream",
     "text": [
      "number of actual mssing values, m: 2326\n",
      "number of not applicable: 0\n",
      "number of confidential: 34\n",
      "number of reasons: 1\n"
     ]
    }
   ],
   "source": [
    "#finding the number of institutions that have missing values(m), confidential and\n",
    "#non applicable entries as well as reasons in terms of it being active \n",
    "print(\"number of actual mssing values, m:\", (qmedata[\"Research active institution\"] == \"m\").sum())\n",
    "print(\"number of not applicable:\", (qmedata[\"Research active institution\"] == \"a\").sum())\n",
    "print(\"number of confidential:\", (qmedata[\"Research active institution\"] == \"c\").sum())\n",
    "print(\"number of reasons:\", (qmedata[\"Research active institution\"] == \"s\").sum())"
   ]
  },
  {
   "cell_type": "code",
   "execution_count": 16,
   "metadata": {},
   "outputs": [
    {
     "name": "stdout",
     "output_type": "stream",
     "text": [
      "percentage of confidential Research active institutions: 0.24\n"
     ]
    }
   ],
   "source": [
    "print(\"percentage of confidential Research active institutions:\", \n",
    "      ((qmedata[\"Research active institution\"] == \"c\").sum()*100/ entries).round(2))"
   ]
  },
  {
   "cell_type": "code",
   "execution_count": 17,
   "metadata": {},
   "outputs": [
    {
     "data": {
      "text/plain": [
       "ETER ID                                0.00\n",
       "Institution Name                       0.00\n",
       "Reference year                         0.00\n",
       "Country Code                           0.00\n",
       "Research active institution           16.25\n",
       "Total students enrolled at ISCED 8    16.71\n",
       "R&D Expenditure (EURO)                67.02\n",
       "dtype: float64"
      ]
     },
     "execution_count": 17,
     "metadata": {},
     "output_type": "execute_result"
    }
   ],
   "source": [
    "#checking for the rest of the dataset, missing values\n",
    "(((qmedata == \"m\")).sum()*100/ entries).round(2)"
   ]
  },
  {
   "cell_type": "code",
   "execution_count": 18,
   "metadata": {},
   "outputs": [],
   "source": [
    "#replacing the missing values, m with blanks or NaNs\n",
    "qmedata = qmedata.replace(\"m\", np.nan)"
   ]
  },
  {
   "cell_type": "code",
   "execution_count": 19,
   "metadata": {},
   "outputs": [
    {
     "data": {
      "text/plain": [
       "ETER ID                                  0\n",
       "Institution Name                         0\n",
       "Reference year                           0\n",
       "Country Code                             0\n",
       "Research active institution              0\n",
       "Total students enrolled at ISCED 8    3040\n",
       "R&D Expenditure (EURO)                   2\n",
       "dtype: int64"
      ]
     },
     "execution_count": 19,
     "metadata": {},
     "output_type": "execute_result"
    }
   ],
   "source": [
    "#checking for the rest of the dataset, not applicable values\n",
    "(qmedata == \"a\").sum()"
   ]
  },
  {
   "cell_type": "code",
   "execution_count": 20,
   "metadata": {},
   "outputs": [],
   "source": [
    "#treat non applicable as having no records  \n",
    "qmedata = qmedata.replace(\"a\", 0)"
   ]
  },
  {
   "cell_type": "code",
   "execution_count": 21,
   "metadata": {},
   "outputs": [
    {
     "data": {
      "text/plain": [
       "ETER ID                               0\n",
       "Institution Name                      0\n",
       "Reference year                        0\n",
       "Country Code                          0\n",
       "Research active institution           0\n",
       "Total students enrolled at ISCED 8    0\n",
       "R&D Expenditure (EURO)                0\n",
       "dtype: int64"
      ]
     },
     "execution_count": 21,
     "metadata": {},
     "output_type": "execute_result"
    }
   ],
   "source": [
    "#checking for the rest of the dataset, not applicable values\n",
    "(qmedata == \"a\").sum()"
   ]
  },
  {
   "cell_type": "code",
   "execution_count": 22,
   "metadata": {},
   "outputs": [
    {
     "data": {
      "text/plain": [
       "ETER ID                               0.00\n",
       "Institution Name                      0.00\n",
       "Reference year                        0.00\n",
       "Country Code                          0.00\n",
       "Research active institution           0.24\n",
       "Total students enrolled at ISCED 8    0.29\n",
       "R&D Expenditure (EURO)                0.37\n",
       "dtype: float64"
      ]
     },
     "execution_count": 22,
     "metadata": {},
     "output_type": "execute_result"
    }
   ],
   "source": [
    "#checking for the rest of the dataset, confidential\n",
    "((qmedata == \"c\").sum()*100/ entries).round(2)"
   ]
  },
  {
   "cell_type": "markdown",
   "metadata": {},
   "source": [
    "it is safe to drop the confidential entries since they do not provide clear information and also since they make up about 0.24% of the research active institutions. it can be said that research institution who have confidential research status are likely not to give information on the rest of the variables of interest."
   ]
  },
  {
   "cell_type": "code",
   "execution_count": 23,
   "metadata": {},
   "outputs": [],
   "source": [
    "qmedata = qmedata.drop(qmedata[(qmedata[\"Research active institution\"] == \"c\") &\n",
    "                              (qmedata[\"Total students enrolled at ISCED 8\"] == \"c\") &\n",
    "                              (qmedata[\"R&D Expenditure (EURO)\"] == \"c\")].index).reset_index(drop=True)"
   ]
  },
  {
   "cell_type": "code",
   "execution_count": 24,
   "metadata": {},
   "outputs": [
    {
     "data": {
      "text/plain": [
       "ETER ID                               0.00\n",
       "Institution Name                      0.00\n",
       "Reference year                        0.00\n",
       "Country Code                          0.00\n",
       "Research active institution           0.01\n",
       "Total students enrolled at ISCED 8    0.57\n",
       "R&D Expenditure (EURO)                0.00\n",
       "dtype: float64"
      ]
     },
     "execution_count": 24,
     "metadata": {},
     "output_type": "execute_result"
    }
   ],
   "source": [
    "#checking for the rest of the dataset, reasons\n",
    "((qmedata == \"s\").sum()*100/ entries).round(2)"
   ]
  },
  {
   "cell_type": "code",
   "execution_count": 25,
   "metadata": {},
   "outputs": [
    {
     "data": {
      "text/plain": [
       "ETER ID                               0.0\n",
       "Institution Name                      0.0\n",
       "Reference year                        0.0\n",
       "Country Code                          0.0\n",
       "Research active institution           0.0\n",
       "Total students enrolled at ISCED 8    0.0\n",
       "R&D Expenditure (EURO)                0.0\n",
       "dtype: float64"
      ]
     },
     "execution_count": 25,
     "metadata": {},
     "output_type": "execute_result"
    }
   ],
   "source": [
    "((qmedata == \"xc\").sum()*100/ entries).round(2)"
   ]
  },
  {
   "cell_type": "code",
   "execution_count": 26,
   "metadata": {},
   "outputs": [
    {
     "data": {
      "text/plain": [
       "ETER ID                               0.00\n",
       "Institution Name                      0.00\n",
       "Reference year                        0.00\n",
       "Country Code                          0.00\n",
       "Research active institution           0.00\n",
       "Total students enrolled at ISCED 8    0.06\n",
       "R&D Expenditure (EURO)                0.00\n",
       "dtype: float64"
      ]
     },
     "execution_count": 26,
     "metadata": {},
     "output_type": "execute_result"
    }
   ],
   "source": [
    "((qmedata == \"xr\").sum()*100/ entries).round(2)"
   ]
  },
  {
   "cell_type": "code",
   "execution_count": 27,
   "metadata": {},
   "outputs": [
    {
     "data": {
      "text/plain": [
       "ETER ID                               0.00\n",
       "Institution Name                      0.00\n",
       "Reference year                        0.00\n",
       "Country Code                          0.00\n",
       "Research active institution           0.00\n",
       "Total students enrolled at ISCED 8    1.41\n",
       "R&D Expenditure (EURO)                0.00\n",
       "dtype: float64"
      ]
     },
     "execution_count": 27,
     "metadata": {},
     "output_type": "execute_result"
    }
   ],
   "source": [
    "((qmedata == \"x\").sum()*100/ entries).round(2)"
   ]
  },
  {
   "cell_type": "code",
   "execution_count": 28,
   "metadata": {},
   "outputs": [
    {
     "data": {
      "text/plain": [
       "ETER ID                               0.0\n",
       "Institution Name                      0.0\n",
       "Reference year                        0.0\n",
       "Country Code                          0.0\n",
       "Research active institution           0.0\n",
       "Total students enrolled at ISCED 8    0.0\n",
       "R&D Expenditure (EURO)                0.0\n",
       "dtype: float64"
      ]
     },
     "execution_count": 28,
     "metadata": {},
     "output_type": "execute_result"
    }
   ],
   "source": [
    "((qmedata == \"nc\").sum()*100/ entries).round(2)"
   ]
  },
  {
   "cell_type": "code",
   "execution_count": 29,
   "metadata": {},
   "outputs": [],
   "source": [
    "#solution for s under research active institution. treating s as missing under research active institution\n",
    "#and imputing it with the mode later\n",
    "qmedata[\"Research active institution\"] = qmedata[\"Research active institution\"].replace(\"s\", np.nan)"
   ]
  },
  {
   "cell_type": "code",
   "execution_count": 30,
   "metadata": {},
   "outputs": [],
   "source": [
    "#Treating x and xr as missing values \n",
    "qmedata = qmedata.replace([\"x\",\"xr\"], np.nan)"
   ]
  },
  {
   "cell_type": "markdown",
   "metadata": {},
   "source": [
    "the main variable of interest is the R&D Expenditure (EURO), therefore we are state that, R&D Expenditure (EURO)  is the target variable"
   ]
  },
  {
   "cell_type": "code",
   "execution_count": 31,
   "metadata": {},
   "outputs": [
    {
     "data": {
      "text/plain": [
       "ETER ID                                  0\n",
       "Institution Name                         0\n",
       "Reference year                           0\n",
       "Country Code                             0\n",
       "Research active institution           2327\n",
       "Total students enrolled at ISCED 8    2603\n",
       "R&D Expenditure (EURO)                9595\n",
       "dtype: int64"
      ]
     },
     "execution_count": 31,
     "metadata": {},
     "output_type": "execute_result"
    }
   ],
   "source": [
    "qmedata.isnull().sum()"
   ]
  },
  {
   "cell_type": "code",
   "execution_count": 32,
   "metadata": {},
   "outputs": [
    {
     "name": "stdout",
     "output_type": "stream",
     "text": [
      "<class 'pandas.core.frame.DataFrame'>\n",
      "RangeIndex: 11226 entries, 0 to 11225\n",
      "Data columns (total 7 columns):\n",
      "ETER ID                               11226 non-null object\n",
      "Institution Name                      11226 non-null object\n",
      "Reference year                        11226 non-null int64\n",
      "Country Code                          11226 non-null object\n",
      "Research active institution           8899 non-null float64\n",
      "Total students enrolled at ISCED 8    8623 non-null object\n",
      "R&D Expenditure (EURO)                1631 non-null object\n",
      "dtypes: float64(1), int64(1), object(5)\n",
      "memory usage: 614.0+ KB\n"
     ]
    }
   ],
   "source": [
    "qmedata.info()"
   ]
  },
  {
   "cell_type": "code",
   "execution_count": 33,
   "metadata": {},
   "outputs": [
    {
     "data": {
      "text/plain": [
       "0    1.0\n",
       "dtype: float64"
      ]
     },
     "execution_count": 33,
     "metadata": {},
     "output_type": "execute_result"
    }
   ],
   "source": [
    "#dealing with the missing values in Research Active Instutitions with the mode \n",
    "qmedata[\"Research active institution\"].mode()"
   ]
  },
  {
   "cell_type": "code",
   "execution_count": 34,
   "metadata": {},
   "outputs": [],
   "source": [
    "qmedata[\"Research active institution\"].fillna(1, inplace = True)"
   ]
  },
  {
   "cell_type": "code",
   "execution_count": 35,
   "metadata": {},
   "outputs": [],
   "source": [
    "#treating s under Total students as missing values \n",
    "qmedata[\"Total students enrolled at ISCED 8\"] = qmedata[\"Total students enrolled at ISCED 8\"].replace(\"s\", np.nan)"
   ]
  },
  {
   "cell_type": "code",
   "execution_count": 36,
   "metadata": {},
   "outputs": [
    {
     "data": {
      "text/plain": [
       "7"
      ]
     },
     "execution_count": 36,
     "metadata": {},
     "output_type": "execute_result"
    }
   ],
   "source": [
    "(qmedata[\"Total students enrolled at ISCED 8\"] == \"c\").sum()"
   ]
  },
  {
   "cell_type": "code",
   "execution_count": 37,
   "metadata": {},
   "outputs": [],
   "source": [
    "qmedata = qmedata.drop(qmedata[(qmedata[\"Total students enrolled at ISCED 8\"] == \"c\")].index).reset_index(drop=True)"
   ]
  },
  {
   "cell_type": "code",
   "execution_count": 38,
   "metadata": {},
   "outputs": [
    {
     "name": "stdout",
     "output_type": "stream",
     "text": [
      "<class 'pandas.core.frame.DataFrame'>\n",
      "RangeIndex: 11219 entries, 0 to 11218\n",
      "Data columns (total 7 columns):\n",
      "ETER ID                               11219 non-null object\n",
      "Institution Name                      11219 non-null object\n",
      "Reference year                        11219 non-null int64\n",
      "Country Code                          11219 non-null object\n",
      "Research active institution           11219 non-null float64\n",
      "Total students enrolled at ISCED 8    8535 non-null object\n",
      "R&D Expenditure (EURO)                1624 non-null object\n",
      "dtypes: float64(1), int64(1), object(5)\n",
      "memory usage: 613.6+ KB\n"
     ]
    }
   ],
   "source": [
    "qmedata.info()"
   ]
  },
  {
   "cell_type": "code",
   "execution_count": 39,
   "metadata": {},
   "outputs": [],
   "source": [
    "#converting the total student column in int\n",
    "qmedata[\"Total students enrolled at ISCED 8\"] = pd.to_numeric(qmedata[\"Total students enrolled at ISCED 8\"])"
   ]
  },
  {
   "cell_type": "code",
   "execution_count": 40,
   "metadata": {},
   "outputs": [
    {
     "data": {
      "text/plain": [
       "2684"
      ]
     },
     "execution_count": 40,
     "metadata": {},
     "output_type": "execute_result"
    }
   ],
   "source": [
    "(qmedata[\"Total students enrolled at ISCED 8\"]).isnull().sum()"
   ]
  },
  {
   "cell_type": "raw",
   "metadata": {},
   "source": [
    "group = qmedata.groupby(\"Country Code\")[\"Total students enrolled at ISCED 8\"].mean()\n",
    "group = pd.DataFrame(group)\n",
    "group = group.reset_index()"
   ]
  },
  {
   "cell_type": "raw",
   "metadata": {},
   "source": [
    "#group_not_missing = group[(group[\"Total students enrolled at ISCED 8\"].notna())]\n",
    "#group_not_missing\n",
    "len(group)"
   ]
  },
  {
   "cell_type": "code",
   "execution_count": 41,
   "metadata": {},
   "outputs": [
    {
     "data": {
      "text/plain": [
       "ETER ID                                 0\n",
       "Institution Name                        0\n",
       "Reference year                          0\n",
       "Country Code                            0\n",
       "Research active institution             0\n",
       "Total students enrolled at ISCED 8     86\n",
       "R&D Expenditure (EURO)                173\n",
       "dtype: int64"
      ]
     },
     "execution_count": 41,
     "metadata": {},
     "output_type": "execute_result"
    }
   ],
   "source": [
    "qmedataAL = qmedata[qmedata[\"Country Code\"] == \"AL\"]\n",
    "qmedataAL.isnull().sum()"
   ]
  },
  {
   "cell_type": "code",
   "execution_count": 42,
   "metadata": {},
   "outputs": [
    {
     "name": "stderr",
     "output_type": "stream",
     "text": [
      "/Users/dzidziquist/anaconda3/lib/python3.6/site-packages/ipykernel_launcher.py:1: SettingWithCopyWarning: \n",
      "A value is trying to be set on a copy of a slice from a DataFrame.\n",
      "Try using .loc[row_indexer,col_indexer] = value instead\n",
      "\n",
      "See the caveats in the documentation: http://pandas.pydata.org/pandas-docs/stable/indexing.html#indexing-view-versus-copy\n",
      "  \"\"\"Entry point for launching an IPython kernel.\n"
     ]
    }
   ],
   "source": [
    "qmedataAL[\"Total students enrolled at ISCED 8\"] = qmedataAL[\"Total students enrolled at ISCED 8\"].fillna(qmedataAL[\"Total students enrolled at ISCED 8\"].mean())\n",
    "                                                                                                         "
   ]
  },
  {
   "cell_type": "code",
   "execution_count": 43,
   "metadata": {},
   "outputs": [
    {
     "data": {
      "text/plain": [
       "ETER ID                                 0\n",
       "Institution Name                        0\n",
       "Reference year                          0\n",
       "Country Code                            0\n",
       "Research active institution             0\n",
       "Total students enrolled at ISCED 8      0\n",
       "R&D Expenditure (EURO)                276\n",
       "dtype: int64"
      ]
     },
     "execution_count": 43,
     "metadata": {},
     "output_type": "execute_result"
    }
   ],
   "source": [
    "qmedataAT = qmedata[qmedata[\"Country Code\"] == \"AT\"]\n",
    "qmedataAT.isnull().sum()"
   ]
  },
  {
   "cell_type": "code",
   "execution_count": 44,
   "metadata": {},
   "outputs": [
    {
     "data": {
      "text/plain": [
       "ETER ID                                 0\n",
       "Institution Name                        0\n",
       "Reference year                          0\n",
       "Country Code                            0\n",
       "Research active institution             0\n",
       "Total students enrolled at ISCED 8    207\n",
       "R&D Expenditure (EURO)                329\n",
       "dtype: int64"
      ]
     },
     "execution_count": 44,
     "metadata": {},
     "output_type": "execute_result"
    }
   ],
   "source": [
    "qmedataBE = qmedata[qmedata[\"Country Code\"] == \"BE\"]\n",
    "qmedataBE.isnull().sum()"
   ]
  },
  {
   "cell_type": "code",
   "execution_count": 45,
   "metadata": {},
   "outputs": [
    {
     "name": "stderr",
     "output_type": "stream",
     "text": [
      "/Users/dzidziquist/anaconda3/lib/python3.6/site-packages/ipykernel_launcher.py:1: SettingWithCopyWarning: \n",
      "A value is trying to be set on a copy of a slice from a DataFrame.\n",
      "Try using .loc[row_indexer,col_indexer] = value instead\n",
      "\n",
      "See the caveats in the documentation: http://pandas.pydata.org/pandas-docs/stable/indexing.html#indexing-view-versus-copy\n",
      "  \"\"\"Entry point for launching an IPython kernel.\n"
     ]
    }
   ],
   "source": [
    "qmedataBE[\"Total students enrolled at ISCED 8\"] = qmedataBE[\"Total students enrolled at ISCED 8\"].fillna(qmedataBE[\"Total students enrolled at ISCED 8\"].mean())"
   ]
  },
  {
   "cell_type": "code",
   "execution_count": 46,
   "metadata": {},
   "outputs": [
    {
     "data": {
      "text/plain": [
       "ETER ID                                 0\n",
       "Institution Name                        0\n",
       "Reference year                          0\n",
       "Country Code                            0\n",
       "Research active institution             0\n",
       "Total students enrolled at ISCED 8      3\n",
       "R&D Expenditure (EURO)                191\n",
       "dtype: int64"
      ]
     },
     "execution_count": 46,
     "metadata": {},
     "output_type": "execute_result"
    }
   ],
   "source": [
    "qmedataBG = qmedata[qmedata[\"Country Code\"] == \"BG\"]\n",
    "qmedataBG.isnull().sum()"
   ]
  },
  {
   "cell_type": "code",
   "execution_count": 47,
   "metadata": {},
   "outputs": [
    {
     "name": "stderr",
     "output_type": "stream",
     "text": [
      "/Users/dzidziquist/anaconda3/lib/python3.6/site-packages/ipykernel_launcher.py:1: SettingWithCopyWarning: \n",
      "A value is trying to be set on a copy of a slice from a DataFrame.\n",
      "Try using .loc[row_indexer,col_indexer] = value instead\n",
      "\n",
      "See the caveats in the documentation: http://pandas.pydata.org/pandas-docs/stable/indexing.html#indexing-view-versus-copy\n",
      "  \"\"\"Entry point for launching an IPython kernel.\n"
     ]
    }
   ],
   "source": [
    "qmedataBG[\"Total students enrolled at ISCED 8\"] = qmedataBG[\"Total students enrolled at ISCED 8\"].fillna(qmedataBG[\"Total students enrolled at ISCED 8\"].mean())"
   ]
  },
  {
   "cell_type": "code",
   "execution_count": 48,
   "metadata": {},
   "outputs": [
    {
     "data": {
      "text/plain": [
       "ETER ID                                0\n",
       "Institution Name                       0\n",
       "Reference year                         0\n",
       "Country Code                           0\n",
       "Research active institution            0\n",
       "Total students enrolled at ISCED 8     0\n",
       "R&D Expenditure (EURO)                11\n",
       "dtype: int64"
      ]
     },
     "execution_count": 48,
     "metadata": {},
     "output_type": "execute_result"
    }
   ],
   "source": [
    "qmedataCH = qmedata[qmedata[\"Country Code\"] == \"CH\"]\n",
    "qmedataCH.isnull().sum()"
   ]
  },
  {
   "cell_type": "code",
   "execution_count": 49,
   "metadata": {},
   "outputs": [
    {
     "data": {
      "text/plain": [
       "ETER ID                               0\n",
       "Institution Name                      0\n",
       "Reference year                        0\n",
       "Country Code                          0\n",
       "Research active institution           0\n",
       "Total students enrolled at ISCED 8    0\n",
       "R&D Expenditure (EURO)                2\n",
       "dtype: int64"
      ]
     },
     "execution_count": 49,
     "metadata": {},
     "output_type": "execute_result"
    }
   ],
   "source": [
    "qmedataCY = qmedata[qmedata[\"Country Code\"] == \"CY\"]\n",
    "qmedataCY.isnull().sum()"
   ]
  },
  {
   "cell_type": "code",
   "execution_count": 50,
   "metadata": {},
   "outputs": [
    {
     "data": {
      "text/plain": [
       "ETER ID                                 0\n",
       "Institution Name                        0\n",
       "Reference year                          0\n",
       "Country Code                            0\n",
       "Research active institution             0\n",
       "Total students enrolled at ISCED 8      2\n",
       "R&D Expenditure (EURO)                222\n",
       "dtype: int64"
      ]
     },
     "execution_count": 50,
     "metadata": {},
     "output_type": "execute_result"
    }
   ],
   "source": [
    "qmedataCZ = qmedata[qmedata[\"Country Code\"] == \"CZ\"]\n",
    "qmedataCZ.isnull().sum()"
   ]
  },
  {
   "cell_type": "code",
   "execution_count": 51,
   "metadata": {},
   "outputs": [
    {
     "name": "stderr",
     "output_type": "stream",
     "text": [
      "/Users/dzidziquist/anaconda3/lib/python3.6/site-packages/ipykernel_launcher.py:1: SettingWithCopyWarning: \n",
      "A value is trying to be set on a copy of a slice from a DataFrame.\n",
      "Try using .loc[row_indexer,col_indexer] = value instead\n",
      "\n",
      "See the caveats in the documentation: http://pandas.pydata.org/pandas-docs/stable/indexing.html#indexing-view-versus-copy\n",
      "  \"\"\"Entry point for launching an IPython kernel.\n"
     ]
    }
   ],
   "source": [
    "qmedataCZ[\"Total students enrolled at ISCED 8\"] = qmedataCZ[\"Total students enrolled at ISCED 8\"].fillna(qmedataCZ[\"Total students enrolled at ISCED 8\"].mean())"
   ]
  },
  {
   "cell_type": "code",
   "execution_count": 52,
   "metadata": {},
   "outputs": [
    {
     "data": {
      "text/plain": [
       "ETER ID                                  0\n",
       "Institution Name                         0\n",
       "Reference year                           0\n",
       "Country Code                             0\n",
       "Research active institution              0\n",
       "Total students enrolled at ISCED 8      43\n",
       "R&D Expenditure (EURO)                1908\n",
       "dtype: int64"
      ]
     },
     "execution_count": 52,
     "metadata": {},
     "output_type": "execute_result"
    }
   ],
   "source": [
    "qmedataDE = qmedata[qmedata[\"Country Code\"] == \"DE\"]\n",
    "qmedataDE.isnull().sum()"
   ]
  },
  {
   "cell_type": "code",
   "execution_count": 53,
   "metadata": {},
   "outputs": [
    {
     "name": "stderr",
     "output_type": "stream",
     "text": [
      "/Users/dzidziquist/anaconda3/lib/python3.6/site-packages/ipykernel_launcher.py:1: SettingWithCopyWarning: \n",
      "A value is trying to be set on a copy of a slice from a DataFrame.\n",
      "Try using .loc[row_indexer,col_indexer] = value instead\n",
      "\n",
      "See the caveats in the documentation: http://pandas.pydata.org/pandas-docs/stable/indexing.html#indexing-view-versus-copy\n",
      "  \"\"\"Entry point for launching an IPython kernel.\n"
     ]
    }
   ],
   "source": [
    "qmedataDE[\"Total students enrolled at ISCED 8\"] = qmedataDE[\"Total students enrolled at ISCED 8\"].fillna(qmedataDE[\"Total students enrolled at ISCED 8\"].mean())"
   ]
  },
  {
   "cell_type": "code",
   "execution_count": 54,
   "metadata": {},
   "outputs": [
    {
     "data": {
      "text/plain": [
       "ETER ID                                0\n",
       "Institution Name                       0\n",
       "Reference year                         0\n",
       "Country Code                           0\n",
       "Research active institution            0\n",
       "Total students enrolled at ISCED 8    23\n",
       "R&D Expenditure (EURO)                72\n",
       "dtype: int64"
      ]
     },
     "execution_count": 54,
     "metadata": {},
     "output_type": "execute_result"
    }
   ],
   "source": [
    "qmedataDK = qmedata[qmedata[\"Country Code\"] == \"DK\"]\n",
    "qmedataDK.isnull().sum()"
   ]
  },
  {
   "cell_type": "code",
   "execution_count": 55,
   "metadata": {},
   "outputs": [
    {
     "name": "stderr",
     "output_type": "stream",
     "text": [
      "/Users/dzidziquist/anaconda3/lib/python3.6/site-packages/ipykernel_launcher.py:1: SettingWithCopyWarning: \n",
      "A value is trying to be set on a copy of a slice from a DataFrame.\n",
      "Try using .loc[row_indexer,col_indexer] = value instead\n",
      "\n",
      "See the caveats in the documentation: http://pandas.pydata.org/pandas-docs/stable/indexing.html#indexing-view-versus-copy\n",
      "  \"\"\"Entry point for launching an IPython kernel.\n"
     ]
    }
   ],
   "source": [
    "qmedataDK[\"Total students enrolled at ISCED 8\"] = qmedataDK[\"Total students enrolled at ISCED 8\"].fillna(qmedataDK[\"Total students enrolled at ISCED 8\"].mean())"
   ]
  },
  {
   "cell_type": "code",
   "execution_count": 56,
   "metadata": {},
   "outputs": [
    {
     "data": {
      "text/plain": [
       "ETER ID                                0\n",
       "Institution Name                       0\n",
       "Reference year                         0\n",
       "Country Code                           0\n",
       "Research active institution            0\n",
       "Total students enrolled at ISCED 8     0\n",
       "R&D Expenditure (EURO)                29\n",
       "dtype: int64"
      ]
     },
     "execution_count": 56,
     "metadata": {},
     "output_type": "execute_result"
    }
   ],
   "source": [
    "qmedataEE = qmedata[qmedata[\"Country Code\"] == \"EE\"]\n",
    "qmedataEE.isnull().sum()"
   ]
  },
  {
   "cell_type": "code",
   "execution_count": 57,
   "metadata": {},
   "outputs": [
    {
     "data": {
      "text/plain": [
       "ETER ID                                 0\n",
       "Institution Name                        0\n",
       "Reference year                          0\n",
       "Country Code                            0\n",
       "Research active institution             0\n",
       "Total students enrolled at ISCED 8    235\n",
       "R&D Expenditure (EURO)                400\n",
       "dtype: int64"
      ]
     },
     "execution_count": 57,
     "metadata": {},
     "output_type": "execute_result"
    }
   ],
   "source": [
    "qmedataES = qmedata[qmedata[\"Country Code\"] == \"ES\"]\n",
    "qmedataES.isnull().sum()"
   ]
  },
  {
   "cell_type": "code",
   "execution_count": 58,
   "metadata": {},
   "outputs": [
    {
     "name": "stderr",
     "output_type": "stream",
     "text": [
      "/Users/dzidziquist/anaconda3/lib/python3.6/site-packages/ipykernel_launcher.py:1: SettingWithCopyWarning: \n",
      "A value is trying to be set on a copy of a slice from a DataFrame.\n",
      "Try using .loc[row_indexer,col_indexer] = value instead\n",
      "\n",
      "See the caveats in the documentation: http://pandas.pydata.org/pandas-docs/stable/indexing.html#indexing-view-versus-copy\n",
      "  \"\"\"Entry point for launching an IPython kernel.\n"
     ]
    }
   ],
   "source": [
    "qmedataES[\"Total students enrolled at ISCED 8\"] = qmedataES[\"Total students enrolled at ISCED 8\"].fillna(qmedataES[\"Total students enrolled at ISCED 8\"].mean())"
   ]
  },
  {
   "cell_type": "code",
   "execution_count": 59,
   "metadata": {},
   "outputs": [
    {
     "data": {
      "text/plain": [
       "ETER ID                                0\n",
       "Institution Name                       0\n",
       "Reference year                         0\n",
       "Country Code                           0\n",
       "Research active institution            0\n",
       "Total students enrolled at ISCED 8     0\n",
       "R&D Expenditure (EURO)                59\n",
       "dtype: int64"
      ]
     },
     "execution_count": 59,
     "metadata": {},
     "output_type": "execute_result"
    }
   ],
   "source": [
    "qmedataFI = qmedata[qmedata[\"Country Code\"] == \"FI\"]\n",
    "qmedataFI.isnull().sum()"
   ]
  },
  {
   "cell_type": "code",
   "execution_count": 60,
   "metadata": {},
   "outputs": [
    {
     "data": {
      "text/plain": [
       "ETER ID                                  0\n",
       "Institution Name                         0\n",
       "Reference year                           0\n",
       "Country Code                             0\n",
       "Research active institution              0\n",
       "Total students enrolled at ISCED 8     712\n",
       "R&D Expenditure (EURO)                1355\n",
       "dtype: int64"
      ]
     },
     "execution_count": 60,
     "metadata": {},
     "output_type": "execute_result"
    }
   ],
   "source": [
    "qmedataFR = qmedata[qmedata[\"Country Code\"] == \"FR\"]\n",
    "qmedataFR.isnull().sum()"
   ]
  },
  {
   "cell_type": "code",
   "execution_count": 61,
   "metadata": {},
   "outputs": [
    {
     "name": "stderr",
     "output_type": "stream",
     "text": [
      "/Users/dzidziquist/anaconda3/lib/python3.6/site-packages/ipykernel_launcher.py:1: SettingWithCopyWarning: \n",
      "A value is trying to be set on a copy of a slice from a DataFrame.\n",
      "Try using .loc[row_indexer,col_indexer] = value instead\n",
      "\n",
      "See the caveats in the documentation: http://pandas.pydata.org/pandas-docs/stable/indexing.html#indexing-view-versus-copy\n",
      "  \"\"\"Entry point for launching an IPython kernel.\n"
     ]
    }
   ],
   "source": [
    "qmedataFR[\"Total students enrolled at ISCED 8\"] = qmedataFR[\"Total students enrolled at ISCED 8\"].fillna(qmedataFR[\"Total students enrolled at ISCED 8\"].mean())"
   ]
  },
  {
   "cell_type": "code",
   "execution_count": 62,
   "metadata": {},
   "outputs": [
    {
     "data": {
      "text/plain": [
       "ETER ID                                 0\n",
       "Institution Name                        0\n",
       "Reference year                          0\n",
       "Country Code                            0\n",
       "Research active institution             0\n",
       "Total students enrolled at ISCED 8      4\n",
       "R&D Expenditure (EURO)                112\n",
       "dtype: int64"
      ]
     },
     "execution_count": 62,
     "metadata": {},
     "output_type": "execute_result"
    }
   ],
   "source": [
    "qmedataGR = qmedata[qmedata[\"Country Code\"] == \"GR\"]\n",
    "qmedataGR.isnull().sum()"
   ]
  },
  {
   "cell_type": "code",
   "execution_count": 63,
   "metadata": {},
   "outputs": [
    {
     "name": "stderr",
     "output_type": "stream",
     "text": [
      "/Users/dzidziquist/anaconda3/lib/python3.6/site-packages/ipykernel_launcher.py:1: SettingWithCopyWarning: \n",
      "A value is trying to be set on a copy of a slice from a DataFrame.\n",
      "Try using .loc[row_indexer,col_indexer] = value instead\n",
      "\n",
      "See the caveats in the documentation: http://pandas.pydata.org/pandas-docs/stable/indexing.html#indexing-view-versus-copy\n",
      "  \"\"\"Entry point for launching an IPython kernel.\n"
     ]
    }
   ],
   "source": [
    "qmedataGR[\"Total students enrolled at ISCED 8\"] = qmedataGR[\"Total students enrolled at ISCED 8\"].fillna(qmedataGR[\"Total students enrolled at ISCED 8\"].mean())"
   ]
  },
  {
   "cell_type": "code",
   "execution_count": 64,
   "metadata": {},
   "outputs": [
    {
     "data": {
      "text/plain": [
       "ETER ID                                0\n",
       "Institution Name                       0\n",
       "Reference year                         0\n",
       "Country Code                           0\n",
       "Research active institution            0\n",
       "Total students enrolled at ISCED 8     0\n",
       "R&D Expenditure (EURO)                51\n",
       "dtype: int64"
      ]
     },
     "execution_count": 64,
     "metadata": {},
     "output_type": "execute_result"
    }
   ],
   "source": [
    "qmedataHR = qmedata[qmedata[\"Country Code\"] == \"HR\"]\n",
    "qmedataHR.isnull().sum()"
   ]
  },
  {
   "cell_type": "code",
   "execution_count": 65,
   "metadata": {},
   "outputs": [
    {
     "data": {
      "text/plain": [
       "ETER ID                                 0\n",
       "Institution Name                        0\n",
       "Reference year                          0\n",
       "Country Code                            0\n",
       "Research active institution             0\n",
       "Total students enrolled at ISCED 8     52\n",
       "R&D Expenditure (EURO)                208\n",
       "dtype: int64"
      ]
     },
     "execution_count": 65,
     "metadata": {},
     "output_type": "execute_result"
    }
   ],
   "source": [
    "qmedataHU = qmedata[qmedata[\"Country Code\"] == \"HU\"]\n",
    "qmedataHU.isnull().sum()"
   ]
  },
  {
   "cell_type": "code",
   "execution_count": 66,
   "metadata": {},
   "outputs": [
    {
     "name": "stderr",
     "output_type": "stream",
     "text": [
      "/Users/dzidziquist/anaconda3/lib/python3.6/site-packages/ipykernel_launcher.py:1: SettingWithCopyWarning: \n",
      "A value is trying to be set on a copy of a slice from a DataFrame.\n",
      "Try using .loc[row_indexer,col_indexer] = value instead\n",
      "\n",
      "See the caveats in the documentation: http://pandas.pydata.org/pandas-docs/stable/indexing.html#indexing-view-versus-copy\n",
      "  \"\"\"Entry point for launching an IPython kernel.\n"
     ]
    }
   ],
   "source": [
    "qmedataHU[\"Total students enrolled at ISCED 8\"] = qmedataHU[\"Total students enrolled at ISCED 8\"].fillna(qmedataHU[\"Total students enrolled at ISCED 8\"].mean())"
   ]
  },
  {
   "cell_type": "code",
   "execution_count": 67,
   "metadata": {},
   "outputs": [
    {
     "data": {
      "text/plain": [
       "ETER ID                                 0\n",
       "Institution Name                        0\n",
       "Reference year                          0\n",
       "Country Code                            0\n",
       "Research active institution             0\n",
       "Total students enrolled at ISCED 8      8\n",
       "R&D Expenditure (EURO)                134\n",
       "dtype: int64"
      ]
     },
     "execution_count": 67,
     "metadata": {},
     "output_type": "execute_result"
    }
   ],
   "source": [
    "qmedataIE = qmedata[qmedata[\"Country Code\"] == \"IE\"]\n",
    "qmedataIE.isnull().sum()"
   ]
  },
  {
   "cell_type": "code",
   "execution_count": 68,
   "metadata": {},
   "outputs": [
    {
     "name": "stderr",
     "output_type": "stream",
     "text": [
      "/Users/dzidziquist/anaconda3/lib/python3.6/site-packages/ipykernel_launcher.py:1: SettingWithCopyWarning: \n",
      "A value is trying to be set on a copy of a slice from a DataFrame.\n",
      "Try using .loc[row_indexer,col_indexer] = value instead\n",
      "\n",
      "See the caveats in the documentation: http://pandas.pydata.org/pandas-docs/stable/indexing.html#indexing-view-versus-copy\n",
      "  \"\"\"Entry point for launching an IPython kernel.\n"
     ]
    }
   ],
   "source": [
    "qmedataIE[\"Total students enrolled at ISCED 8\"] = qmedataIE[\"Total students enrolled at ISCED 8\"].fillna(qmedataIE[\"Total students enrolled at ISCED 8\"].mean())"
   ]
  },
  {
   "cell_type": "code",
   "execution_count": 69,
   "metadata": {},
   "outputs": [
    {
     "data": {
      "text/plain": [
       "ETER ID                                0\n",
       "Institution Name                       0\n",
       "Reference year                         0\n",
       "Country Code                           0\n",
       "Research active institution            0\n",
       "Total students enrolled at ISCED 8     4\n",
       "R&D Expenditure (EURO)                35\n",
       "dtype: int64"
      ]
     },
     "execution_count": 69,
     "metadata": {},
     "output_type": "execute_result"
    }
   ],
   "source": [
    "qmedataIS = qmedata[qmedata[\"Country Code\"] == \"IS\"]\n",
    "qmedataIS.isnull().sum()"
   ]
  },
  {
   "cell_type": "code",
   "execution_count": 70,
   "metadata": {},
   "outputs": [
    {
     "name": "stderr",
     "output_type": "stream",
     "text": [
      "/Users/dzidziquist/anaconda3/lib/python3.6/site-packages/ipykernel_launcher.py:1: SettingWithCopyWarning: \n",
      "A value is trying to be set on a copy of a slice from a DataFrame.\n",
      "Try using .loc[row_indexer,col_indexer] = value instead\n",
      "\n",
      "See the caveats in the documentation: http://pandas.pydata.org/pandas-docs/stable/indexing.html#indexing-view-versus-copy\n",
      "  \"\"\"Entry point for launching an IPython kernel.\n"
     ]
    }
   ],
   "source": [
    "qmedataIS[\"Total students enrolled at ISCED 8\"] = qmedataIS[\"Total students enrolled at ISCED 8\"].fillna(qmedataIS[\"Total students enrolled at ISCED 8\"].mean())"
   ]
  },
  {
   "cell_type": "code",
   "execution_count": 71,
   "metadata": {},
   "outputs": [
    {
     "data": {
      "text/plain": [
       "ETER ID                                 0\n",
       "Institution Name                        0\n",
       "Reference year                          0\n",
       "Country Code                            0\n",
       "Research active institution             0\n",
       "Total students enrolled at ISCED 8      8\n",
       "R&D Expenditure (EURO)                422\n",
       "dtype: int64"
      ]
     },
     "execution_count": 71,
     "metadata": {},
     "output_type": "execute_result"
    }
   ],
   "source": [
    "qmedataIT = qmedata[qmedata[\"Country Code\"] == \"IT\"]\n",
    "qmedataIT.isnull().sum()"
   ]
  },
  {
   "cell_type": "code",
   "execution_count": 72,
   "metadata": {},
   "outputs": [
    {
     "name": "stderr",
     "output_type": "stream",
     "text": [
      "/Users/dzidziquist/anaconda3/lib/python3.6/site-packages/ipykernel_launcher.py:1: SettingWithCopyWarning: \n",
      "A value is trying to be set on a copy of a slice from a DataFrame.\n",
      "Try using .loc[row_indexer,col_indexer] = value instead\n",
      "\n",
      "See the caveats in the documentation: http://pandas.pydata.org/pandas-docs/stable/indexing.html#indexing-view-versus-copy\n",
      "  \"\"\"Entry point for launching an IPython kernel.\n"
     ]
    }
   ],
   "source": [
    "qmedataIT[\"Total students enrolled at ISCED 8\"] = qmedataIT[\"Total students enrolled at ISCED 8\"].fillna(qmedataIT[\"Total students enrolled at ISCED 8\"].mean())"
   ]
  },
  {
   "cell_type": "code",
   "execution_count": 73,
   "metadata": {},
   "outputs": [
    {
     "data": {
      "text/plain": [
       "ETER ID                               0\n",
       "Institution Name                      0\n",
       "Reference year                        0\n",
       "Country Code                          0\n",
       "Research active institution           0\n",
       "Total students enrolled at ISCED 8    0\n",
       "R&D Expenditure (EURO)                5\n",
       "dtype: int64"
      ]
     },
     "execution_count": 73,
     "metadata": {},
     "output_type": "execute_result"
    }
   ],
   "source": [
    "qmedataLI = qmedata[qmedata[\"Country Code\"] == \"LI\"]\n",
    "qmedataLI.isnull().sum()"
   ]
  },
  {
   "cell_type": "code",
   "execution_count": 74,
   "metadata": {},
   "outputs": [
    {
     "data": {
      "text/plain": [
       "ETER ID                               0\n",
       "Institution Name                      0\n",
       "Reference year                        0\n",
       "Country Code                          0\n",
       "Research active institution           0\n",
       "Total students enrolled at ISCED 8    2\n",
       "R&D Expenditure (EURO)                8\n",
       "dtype: int64"
      ]
     },
     "execution_count": 74,
     "metadata": {},
     "output_type": "execute_result"
    }
   ],
   "source": [
    "qmedataLT = qmedata[qmedata[\"Country Code\"] == \"LT\"]\n",
    "qmedataLT.isnull().sum()"
   ]
  },
  {
   "cell_type": "code",
   "execution_count": 75,
   "metadata": {},
   "outputs": [
    {
     "name": "stderr",
     "output_type": "stream",
     "text": [
      "/Users/dzidziquist/anaconda3/lib/python3.6/site-packages/ipykernel_launcher.py:1: SettingWithCopyWarning: \n",
      "A value is trying to be set on a copy of a slice from a DataFrame.\n",
      "Try using .loc[row_indexer,col_indexer] = value instead\n",
      "\n",
      "See the caveats in the documentation: http://pandas.pydata.org/pandas-docs/stable/indexing.html#indexing-view-versus-copy\n",
      "  \"\"\"Entry point for launching an IPython kernel.\n"
     ]
    }
   ],
   "source": [
    "qmedataLT[\"Total students enrolled at ISCED 8\"] = qmedataLT[\"Total students enrolled at ISCED 8\"].fillna(qmedataLT[\"Total students enrolled at ISCED 8\"].mean())"
   ]
  },
  {
   "cell_type": "code",
   "execution_count": 76,
   "metadata": {},
   "outputs": [
    {
     "data": {
      "text/plain": [
       "ETER ID                               0\n",
       "Institution Name                      0\n",
       "Reference year                        0\n",
       "Country Code                          0\n",
       "Research active institution           0\n",
       "Total students enrolled at ISCED 8    0\n",
       "R&D Expenditure (EURO)                2\n",
       "dtype: int64"
      ]
     },
     "execution_count": 76,
     "metadata": {},
     "output_type": "execute_result"
    }
   ],
   "source": [
    "qmedataLU = qmedata[qmedata[\"Country Code\"] == \"LU\"]\n",
    "qmedataLU.isnull().sum()"
   ]
  },
  {
   "cell_type": "code",
   "execution_count": 77,
   "metadata": {},
   "outputs": [
    {
     "data": {
      "text/plain": [
       "ETER ID                               0\n",
       "Institution Name                      0\n",
       "Reference year                        0\n",
       "Country Code                          0\n",
       "Research active institution           0\n",
       "Total students enrolled at ISCED 8    5\n",
       "R&D Expenditure (EURO)                0\n",
       "dtype: int64"
      ]
     },
     "execution_count": 77,
     "metadata": {},
     "output_type": "execute_result"
    }
   ],
   "source": [
    "qmedataLV = qmedata[qmedata[\"Country Code\"] == \"LV\"]\n",
    "qmedataLV.isnull().sum()"
   ]
  },
  {
   "cell_type": "code",
   "execution_count": 78,
   "metadata": {},
   "outputs": [
    {
     "name": "stderr",
     "output_type": "stream",
     "text": [
      "/Users/dzidziquist/anaconda3/lib/python3.6/site-packages/ipykernel_launcher.py:1: SettingWithCopyWarning: \n",
      "A value is trying to be set on a copy of a slice from a DataFrame.\n",
      "Try using .loc[row_indexer,col_indexer] = value instead\n",
      "\n",
      "See the caveats in the documentation: http://pandas.pydata.org/pandas-docs/stable/indexing.html#indexing-view-versus-copy\n",
      "  \"\"\"Entry point for launching an IPython kernel.\n"
     ]
    }
   ],
   "source": [
    "qmedataLV[\"Total students enrolled at ISCED 8\"] = qmedataLV[\"Total students enrolled at ISCED 8\"].fillna(qmedataLV[\"Total students enrolled at ISCED 8\"].mean())"
   ]
  },
  {
   "cell_type": "code",
   "execution_count": 79,
   "metadata": {},
   "outputs": [
    {
     "data": {
      "text/plain": [
       "ETER ID                                0\n",
       "Institution Name                       0\n",
       "Reference year                         0\n",
       "Country Code                           0\n",
       "Research active institution            0\n",
       "Total students enrolled at ISCED 8    49\n",
       "R&D Expenditure (EURO)                49\n",
       "dtype: int64"
      ]
     },
     "execution_count": 79,
     "metadata": {},
     "output_type": "execute_result"
    }
   ],
   "source": [
    "qmedataME = qmedata[qmedata[\"Country Code\"] == \"ME\"]  #all missing values so no mean\n",
    "qmedataME.isnull().sum()"
   ]
  },
  {
   "cell_type": "code",
   "execution_count": 80,
   "metadata": {},
   "outputs": [
    {
     "data": {
      "text/plain": [
       "ETER ID                                0\n",
       "Institution Name                       0\n",
       "Reference year                         0\n",
       "Country Code                           0\n",
       "Research active institution            0\n",
       "Total students enrolled at ISCED 8    28\n",
       "R&D Expenditure (EURO)                57\n",
       "dtype: int64"
      ]
     },
     "execution_count": 80,
     "metadata": {},
     "output_type": "execute_result"
    }
   ],
   "source": [
    "qmedataMK = qmedata[qmedata[\"Country Code\"] == \"MK\"]\n",
    "qmedataMK.isnull().sum()"
   ]
  },
  {
   "cell_type": "code",
   "execution_count": 81,
   "metadata": {},
   "outputs": [
    {
     "name": "stderr",
     "output_type": "stream",
     "text": [
      "/Users/dzidziquist/anaconda3/lib/python3.6/site-packages/ipykernel_launcher.py:1: SettingWithCopyWarning: \n",
      "A value is trying to be set on a copy of a slice from a DataFrame.\n",
      "Try using .loc[row_indexer,col_indexer] = value instead\n",
      "\n",
      "See the caveats in the documentation: http://pandas.pydata.org/pandas-docs/stable/indexing.html#indexing-view-versus-copy\n",
      "  \"\"\"Entry point for launching an IPython kernel.\n"
     ]
    }
   ],
   "source": [
    "qmedataMK[\"Total students enrolled at ISCED 8\"] = qmedataMK[\"Total students enrolled at ISCED 8\"].fillna(qmedataMK[\"Total students enrolled at ISCED 8\"].mean())"
   ]
  },
  {
   "cell_type": "code",
   "execution_count": 82,
   "metadata": {},
   "outputs": [
    {
     "data": {
      "text/plain": [
       "ETER ID                               0\n",
       "Institution Name                      0\n",
       "Reference year                        0\n",
       "Country Code                          0\n",
       "Research active institution           0\n",
       "Total students enrolled at ISCED 8    0\n",
       "R&D Expenditure (EURO)                1\n",
       "dtype: int64"
      ]
     },
     "execution_count": 82,
     "metadata": {},
     "output_type": "execute_result"
    }
   ],
   "source": [
    "qmedataMT = qmedata[qmedata[\"Country Code\"] == \"MT\"]\n",
    "qmedataMT.isnull().sum()"
   ]
  },
  {
   "cell_type": "code",
   "execution_count": 83,
   "metadata": {},
   "outputs": [
    {
     "data": {
      "text/plain": [
       "ETER ID                                 0\n",
       "Institution Name                        0\n",
       "Reference year                          0\n",
       "Country Code                            0\n",
       "Research active institution             0\n",
       "Total students enrolled at ISCED 8     13\n",
       "R&D Expenditure (EURO)                280\n",
       "dtype: int64"
      ]
     },
     "execution_count": 83,
     "metadata": {},
     "output_type": "execute_result"
    }
   ],
   "source": [
    "qmedataNL = qmedata[qmedata[\"Country Code\"] == \"NL\"]\n",
    "qmedataNL.isnull().sum()"
   ]
  },
  {
   "cell_type": "code",
   "execution_count": 84,
   "metadata": {},
   "outputs": [
    {
     "name": "stderr",
     "output_type": "stream",
     "text": [
      "/Users/dzidziquist/anaconda3/lib/python3.6/site-packages/ipykernel_launcher.py:1: SettingWithCopyWarning: \n",
      "A value is trying to be set on a copy of a slice from a DataFrame.\n",
      "Try using .loc[row_indexer,col_indexer] = value instead\n",
      "\n",
      "See the caveats in the documentation: http://pandas.pydata.org/pandas-docs/stable/indexing.html#indexing-view-versus-copy\n",
      "  \"\"\"Entry point for launching an IPython kernel.\n"
     ]
    }
   ],
   "source": [
    "qmedataNL[\"Total students enrolled at ISCED 8\"] = qmedataNL[\"Total students enrolled at ISCED 8\"].fillna(qmedataNL[\"Total students enrolled at ISCED 8\"].mean())"
   ]
  },
  {
   "cell_type": "code",
   "execution_count": 85,
   "metadata": {},
   "outputs": [
    {
     "data": {
      "text/plain": [
       "ETER ID                                 0\n",
       "Institution Name                        0\n",
       "Reference year                          0\n",
       "Country Code                            0\n",
       "Research active institution             0\n",
       "Total students enrolled at ISCED 8      9\n",
       "R&D Expenditure (EURO)                150\n",
       "dtype: int64"
      ]
     },
     "execution_count": 85,
     "metadata": {},
     "output_type": "execute_result"
    }
   ],
   "source": [
    "qmedataNO = qmedata[qmedata[\"Country Code\"] == \"NO\"]\n",
    "qmedataNO.isnull().sum()"
   ]
  },
  {
   "cell_type": "code",
   "execution_count": 86,
   "metadata": {},
   "outputs": [
    {
     "name": "stderr",
     "output_type": "stream",
     "text": [
      "/Users/dzidziquist/anaconda3/lib/python3.6/site-packages/ipykernel_launcher.py:1: SettingWithCopyWarning: \n",
      "A value is trying to be set on a copy of a slice from a DataFrame.\n",
      "Try using .loc[row_indexer,col_indexer] = value instead\n",
      "\n",
      "See the caveats in the documentation: http://pandas.pydata.org/pandas-docs/stable/indexing.html#indexing-view-versus-copy\n",
      "  \"\"\"Entry point for launching an IPython kernel.\n"
     ]
    }
   ],
   "source": [
    "qmedataNO[\"Total students enrolled at ISCED 8\"] = qmedataNO[\"Total students enrolled at ISCED 8\"].fillna(qmedataNO[\"Total students enrolled at ISCED 8\"].mean())"
   ]
  },
  {
   "cell_type": "code",
   "execution_count": 87,
   "metadata": {},
   "outputs": [
    {
     "data": {
      "text/plain": [
       "ETER ID                                 0\n",
       "Institution Name                        0\n",
       "Reference year                          0\n",
       "Country Code                            0\n",
       "Research active institution             0\n",
       "Total students enrolled at ISCED 8      2\n",
       "R&D Expenditure (EURO)                259\n",
       "dtype: int64"
      ]
     },
     "execution_count": 87,
     "metadata": {},
     "output_type": "execute_result"
    }
   ],
   "source": [
    "qmedataPL = qmedata[qmedata[\"Country Code\"] == \"PL\"]\n",
    "qmedataPL.isnull().sum()"
   ]
  },
  {
   "cell_type": "code",
   "execution_count": 88,
   "metadata": {},
   "outputs": [
    {
     "name": "stderr",
     "output_type": "stream",
     "text": [
      "/Users/dzidziquist/anaconda3/lib/python3.6/site-packages/ipykernel_launcher.py:1: SettingWithCopyWarning: \n",
      "A value is trying to be set on a copy of a slice from a DataFrame.\n",
      "Try using .loc[row_indexer,col_indexer] = value instead\n",
      "\n",
      "See the caveats in the documentation: http://pandas.pydata.org/pandas-docs/stable/indexing.html#indexing-view-versus-copy\n",
      "  \"\"\"Entry point for launching an IPython kernel.\n"
     ]
    }
   ],
   "source": [
    "qmedataPL[\"Total students enrolled at ISCED 8\"] = qmedataPL[\"Total students enrolled at ISCED 8\"].fillna(qmedataPL[\"Total students enrolled at ISCED 8\"].mean())"
   ]
  },
  {
   "cell_type": "code",
   "execution_count": 89,
   "metadata": {},
   "outputs": [
    {
     "data": {
      "text/plain": [
       "ETER ID                                 0\n",
       "Institution Name                        0\n",
       "Reference year                          0\n",
       "Country Code                            0\n",
       "Research active institution             0\n",
       "Total students enrolled at ISCED 8      0\n",
       "R&D Expenditure (EURO)                128\n",
       "dtype: int64"
      ]
     },
     "execution_count": 89,
     "metadata": {},
     "output_type": "execute_result"
    }
   ],
   "source": [
    "qmedataPT = qmedata[qmedata[\"Country Code\"] == \"PT\"]\n",
    "qmedataPT.isnull().sum()"
   ]
  },
  {
   "cell_type": "code",
   "execution_count": 90,
   "metadata": {},
   "outputs": [
    {
     "data": {
      "text/plain": [
       "ETER ID                                 0\n",
       "Institution Name                        0\n",
       "Reference year                          0\n",
       "Country Code                            0\n",
       "Research active institution             0\n",
       "Total students enrolled at ISCED 8    504\n",
       "R&D Expenditure (EURO)                504\n",
       "dtype: int64"
      ]
     },
     "execution_count": 90,
     "metadata": {},
     "output_type": "execute_result"
    }
   ],
   "source": [
    "qmedataRO = qmedata[qmedata[\"Country Code\"] == \"RO\"] #all missing so no mean\n",
    "qmedataRO.isnull().sum()"
   ]
  },
  {
   "cell_type": "code",
   "execution_count": 91,
   "metadata": {},
   "outputs": [
    {
     "data": {
      "text/plain": [
       "ETER ID                                 0\n",
       "Institution Name                        0\n",
       "Reference year                          0\n",
       "Country Code                            0\n",
       "Research active institution             0\n",
       "Total students enrolled at ISCED 8    159\n",
       "R&D Expenditure (EURO)                202\n",
       "dtype: int64"
      ]
     },
     "execution_count": 91,
     "metadata": {},
     "output_type": "execute_result"
    }
   ],
   "source": [
    "qmedataRS = qmedata[qmedata[\"Country Code\"] == \"RS\"]\n",
    "qmedataRS.isnull().sum()"
   ]
  },
  {
   "cell_type": "code",
   "execution_count": 92,
   "metadata": {},
   "outputs": [
    {
     "name": "stderr",
     "output_type": "stream",
     "text": [
      "/Users/dzidziquist/anaconda3/lib/python3.6/site-packages/ipykernel_launcher.py:1: SettingWithCopyWarning: \n",
      "A value is trying to be set on a copy of a slice from a DataFrame.\n",
      "Try using .loc[row_indexer,col_indexer] = value instead\n",
      "\n",
      "See the caveats in the documentation: http://pandas.pydata.org/pandas-docs/stable/indexing.html#indexing-view-versus-copy\n",
      "  \"\"\"Entry point for launching an IPython kernel.\n"
     ]
    }
   ],
   "source": [
    "qmedataRS[\"Total students enrolled at ISCED 8\"] = qmedataRS[\"Total students enrolled at ISCED 8\"].fillna(qmedataRS[\"Total students enrolled at ISCED 8\"].mean())"
   ]
  },
  {
   "cell_type": "code",
   "execution_count": 93,
   "metadata": {},
   "outputs": [
    {
     "data": {
      "text/plain": [
       "ETER ID                               0\n",
       "Institution Name                      0\n",
       "Reference year                        0\n",
       "Country Code                          0\n",
       "Research active institution           0\n",
       "Total students enrolled at ISCED 8    1\n",
       "R&D Expenditure (EURO)                4\n",
       "dtype: int64"
      ]
     },
     "execution_count": 93,
     "metadata": {},
     "output_type": "execute_result"
    }
   ],
   "source": [
    "qmedataSE = qmedata[qmedata[\"Country Code\"] == \"SE\"]\n",
    "qmedataSE.isnull().sum()"
   ]
  },
  {
   "cell_type": "code",
   "execution_count": 94,
   "metadata": {},
   "outputs": [
    {
     "name": "stderr",
     "output_type": "stream",
     "text": [
      "/Users/dzidziquist/anaconda3/lib/python3.6/site-packages/ipykernel_launcher.py:1: SettingWithCopyWarning: \n",
      "A value is trying to be set on a copy of a slice from a DataFrame.\n",
      "Try using .loc[row_indexer,col_indexer] = value instead\n",
      "\n",
      "See the caveats in the documentation: http://pandas.pydata.org/pandas-docs/stable/indexing.html#indexing-view-versus-copy\n",
      "  \"\"\"Entry point for launching an IPython kernel.\n"
     ]
    }
   ],
   "source": [
    "qmedataSE[\"Total students enrolled at ISCED 8\"] = qmedataSE[\"Total students enrolled at ISCED 8\"].fillna(qmedataSE[\"Total students enrolled at ISCED 8\"].mean())"
   ]
  },
  {
   "cell_type": "code",
   "execution_count": 95,
   "metadata": {},
   "outputs": [
    {
     "data": {
      "text/plain": [
       "ETER ID                                 0\n",
       "Institution Name                        0\n",
       "Reference year                          0\n",
       "Country Code                            0\n",
       "Research active institution             0\n",
       "Total students enrolled at ISCED 8    125\n",
       "R&D Expenditure (EURO)                201\n",
       "dtype: int64"
      ]
     },
     "execution_count": 95,
     "metadata": {},
     "output_type": "execute_result"
    }
   ],
   "source": [
    "qmedataSI = qmedata[qmedata[\"Country Code\"] == \"SI\"]\n",
    "qmedataSI.isnull().sum()"
   ]
  },
  {
   "cell_type": "code",
   "execution_count": 96,
   "metadata": {},
   "outputs": [
    {
     "name": "stderr",
     "output_type": "stream",
     "text": [
      "/Users/dzidziquist/anaconda3/lib/python3.6/site-packages/ipykernel_launcher.py:1: SettingWithCopyWarning: \n",
      "A value is trying to be set on a copy of a slice from a DataFrame.\n",
      "Try using .loc[row_indexer,col_indexer] = value instead\n",
      "\n",
      "See the caveats in the documentation: http://pandas.pydata.org/pandas-docs/stable/indexing.html#indexing-view-versus-copy\n",
      "  \"\"\"Entry point for launching an IPython kernel.\n"
     ]
    }
   ],
   "source": [
    "qmedataSI[\"Total students enrolled at ISCED 8\"] = qmedataSI[\"Total students enrolled at ISCED 8\"].fillna(qmedataSI[\"Total students enrolled at ISCED 8\"].mean())"
   ]
  },
  {
   "cell_type": "code",
   "execution_count": 97,
   "metadata": {},
   "outputs": [
    {
     "data": {
      "text/plain": [
       "ETER ID                                0\n",
       "Institution Name                       0\n",
       "Reference year                         0\n",
       "Country Code                           0\n",
       "Research active institution            0\n",
       "Total students enrolled at ISCED 8     0\n",
       "R&D Expenditure (EURO)                58\n",
       "dtype: int64"
      ]
     },
     "execution_count": 97,
     "metadata": {},
     "output_type": "execute_result"
    }
   ],
   "source": [
    "qmedataSK = qmedata[qmedata[\"Country Code\"] == \"SK\"]\n",
    "qmedataSK.isnull().sum()"
   ]
  },
  {
   "cell_type": "code",
   "execution_count": 98,
   "metadata": {},
   "outputs": [
    {
     "data": {
      "text/plain": [
       "ETER ID                                 0\n",
       "Institution Name                        0\n",
       "Reference year                          0\n",
       "Country Code                            0\n",
       "Research active institution             0\n",
       "Total students enrolled at ISCED 8    398\n",
       "R&D Expenditure (EURO)                903\n",
       "dtype: int64"
      ]
     },
     "execution_count": 98,
     "metadata": {},
     "output_type": "execute_result"
    }
   ],
   "source": [
    "qmedataTR = qmedata[qmedata[\"Country Code\"] == \"TR\"]\n",
    "qmedataTR.isnull().sum()"
   ]
  },
  {
   "cell_type": "code",
   "execution_count": 99,
   "metadata": {},
   "outputs": [
    {
     "name": "stderr",
     "output_type": "stream",
     "text": [
      "/Users/dzidziquist/anaconda3/lib/python3.6/site-packages/ipykernel_launcher.py:1: SettingWithCopyWarning: \n",
      "A value is trying to be set on a copy of a slice from a DataFrame.\n",
      "Try using .loc[row_indexer,col_indexer] = value instead\n",
      "\n",
      "See the caveats in the documentation: http://pandas.pydata.org/pandas-docs/stable/indexing.html#indexing-view-versus-copy\n",
      "  \"\"\"Entry point for launching an IPython kernel.\n"
     ]
    }
   ],
   "source": [
    "qmedataTR[\"Total students enrolled at ISCED 8\"] = qmedataTR[\"Total students enrolled at ISCED 8\"].fillna(qmedataTR[\"Total students enrolled at ISCED 8\"].mean())"
   ]
  },
  {
   "cell_type": "code",
   "execution_count": 100,
   "metadata": {},
   "outputs": [
    {
     "data": {
      "text/plain": [
       "ETER ID                                 0\n",
       "Institution Name                        0\n",
       "Reference year                          0\n",
       "Country Code                            0\n",
       "Research active institution             0\n",
       "Total students enrolled at ISCED 8      2\n",
       "R&D Expenditure (EURO)                795\n",
       "dtype: int64"
      ]
     },
     "execution_count": 100,
     "metadata": {},
     "output_type": "execute_result"
    }
   ],
   "source": [
    "qmedataUK = qmedata[qmedata[\"Country Code\"] == \"UK\"]\n",
    "qmedataUK.isnull().sum()"
   ]
  },
  {
   "cell_type": "code",
   "execution_count": 101,
   "metadata": {},
   "outputs": [
    {
     "name": "stderr",
     "output_type": "stream",
     "text": [
      "/Users/dzidziquist/anaconda3/lib/python3.6/site-packages/pandas/core/generic.py:4355: SettingWithCopyWarning: \n",
      "A value is trying to be set on a copy of a slice from a DataFrame\n",
      "\n",
      "See the caveats in the documentation: http://pandas.pydata.org/pandas-docs/stable/indexing.html#indexing-view-versus-copy\n",
      "  self._update_inplace(new_data)\n",
      "/Users/dzidziquist/anaconda3/lib/python3.6/site-packages/ipykernel_launcher.py:1: SettingWithCopyWarning: \n",
      "A value is trying to be set on a copy of a slice from a DataFrame.\n",
      "Try using .loc[row_indexer,col_indexer] = value instead\n",
      "\n",
      "See the caveats in the documentation: http://pandas.pydata.org/pandas-docs/stable/indexing.html#indexing-view-versus-copy\n",
      "  \"\"\"Entry point for launching an IPython kernel.\n"
     ]
    }
   ],
   "source": [
    "qmedataUK[\"Total students enrolled at ISCED 8\"] = qmedataUK[\"Total students enrolled at ISCED 8\"].fillna(qmedataUK[\"Total students enrolled at ISCED 8\"].mean(), inplace = True)"
   ]
  },
  {
   "cell_type": "code",
   "execution_count": 102,
   "metadata": {},
   "outputs": [],
   "source": [
    "#entire dataset\n",
    "qmedata = pd.concat((qmedataAL, qmedataAT, qmedataBE, qmedataBG, qmedataCH, qmedataCY, qmedataCZ,\n",
    "                     qmedataDE, qmedataDK, qmedataEE, qmedataES, qmedataFI, qmedataFR, qmedataGR,\n",
    "                     qmedataHR, qmedataHU, qmedataIE, qmedataIS, qmedataIT, qmedataLI, qmedataLT, \n",
    "                     qmedataLU,qmedataLV, qmedataME, qmedataMK, qmedataMT, qmedataNL, qmedataNO, \n",
    "                     qmedataPL, qmedataPT, qmedataRO, qmedataRS, qmedataSE, qmedataSI, qmedataSK,\n",
    "                     qmedataTR, qmedataUK))"
   ]
  },
  {
   "cell_type": "code",
   "execution_count": 103,
   "metadata": {},
   "outputs": [],
   "source": [
    "qmedata  = qmedata.sort_values(\"Reference year\", ascending = False )"
   ]
  },
  {
   "cell_type": "code",
   "execution_count": 104,
   "metadata": {},
   "outputs": [],
   "source": [
    "#dealing with the missing of total students \n",
    "#replacing the missing values in data(train) with mean \n",
    "qmedata[\"Total students enrolled at ISCED 8\"] = qmedata[\"Total students enrolled at ISCED 8\"].fillna(qmedata[\"Total students enrolled at ISCED 8\"].mean())"
   ]
  },
  {
   "cell_type": "code",
   "execution_count": 105,
   "metadata": {},
   "outputs": [
    {
     "data": {
      "text/plain": [
       "67.0"
      ]
     },
     "execution_count": 105,
     "metadata": {},
     "output_type": "execute_result"
    }
   ],
   "source": [
    "#Checking for missing values,m in terms of that \n",
    "(((qmedata[\"R&D Expenditure (EURO)\"].isnull()).sum()) * 100/entries).round()"
   ]
  },
  {
   "cell_type": "code",
   "execution_count": 106,
   "metadata": {},
   "outputs": [],
   "source": [
    "qmedata = qmedata.drop(qmedata[(qmedata[\"R&D Expenditure (EURO)\"] == \"c\")].index).reset_index(drop=True)"
   ]
  },
  {
   "cell_type": "code",
   "execution_count": 107,
   "metadata": {},
   "outputs": [],
   "source": [
    "#converting to numeric \n",
    "qmedata[\"R&D Expenditure (EURO)\"] = pd.to_numeric(qmedata[\"R&D Expenditure (EURO)\"])"
   ]
  },
  {
   "cell_type": "code",
   "execution_count": 108,
   "metadata": {},
   "outputs": [
    {
     "data": {
      "text/html": [
       "<div>\n",
       "<style scoped>\n",
       "    .dataframe tbody tr th:only-of-type {\n",
       "        vertical-align: middle;\n",
       "    }\n",
       "\n",
       "    .dataframe tbody tr th {\n",
       "        vertical-align: top;\n",
       "    }\n",
       "\n",
       "    .dataframe thead th {\n",
       "        text-align: right;\n",
       "    }\n",
       "</style>\n",
       "<table border=\"1\" class=\"dataframe\">\n",
       "  <thead>\n",
       "    <tr style=\"text-align: right;\">\n",
       "      <th></th>\n",
       "      <th>ETER ID</th>\n",
       "      <th>Institution Name</th>\n",
       "      <th>Reference year</th>\n",
       "      <th>Country Code</th>\n",
       "      <th>Research active institution</th>\n",
       "      <th>Total students enrolled at ISCED 8</th>\n",
       "      <th>R&amp;D Expenditure (EURO)</th>\n",
       "    </tr>\n",
       "  </thead>\n",
       "  <tbody>\n",
       "    <tr>\n",
       "      <th>0</th>\n",
       "      <td>AL0001</td>\n",
       "      <td>Universiteti i Tiranës</td>\n",
       "      <td>2015</td>\n",
       "      <td>AL</td>\n",
       "      <td>1.0</td>\n",
       "      <td>1764.0</td>\n",
       "      <td>NaN</td>\n",
       "    </tr>\n",
       "  </tbody>\n",
       "</table>\n",
       "</div>"
      ],
      "text/plain": [
       "  ETER ID        Institution Name  Reference year Country Code  \\\n",
       "0  AL0001  Universiteti i Tiranës            2015           AL   \n",
       "\n",
       "   Research active institution  Total students enrolled at ISCED 8  \\\n",
       "0                          1.0                              1764.0   \n",
       "\n",
       "   R&D Expenditure (EURO)  \n",
       "0                     NaN  "
      ]
     },
     "execution_count": 108,
     "metadata": {},
     "output_type": "execute_result"
    }
   ],
   "source": [
    "qmedata.head(1)"
   ]
  },
  {
   "cell_type": "code",
   "execution_count": 109,
   "metadata": {},
   "outputs": [],
   "source": [
    "#saving some columns \n",
    "eterid = qmedata[\"ETER ID\"]\n",
    "instname = qmedata[\"Institution Name\"]\n",
    "year = qmedata[\"Reference year\"]\n",
    "country = qmedata[\"Country Code\"]\n",
    "active = qmedata[\"Research active institution\"]\n",
    "student = qmedata[\"Total students enrolled at ISCED 8\"]"
   ]
  },
  {
   "cell_type": "code",
   "execution_count": 110,
   "metadata": {},
   "outputs": [],
   "source": [
    "#dropping some irrevelant columns \n",
    "qmedata = qmedata.drop([\"ETER ID\", \"Institution Name\"], axis =1)"
   ]
  },
  {
   "cell_type": "code",
   "execution_count": 111,
   "metadata": {},
   "outputs": [
    {
     "data": {
      "text/html": [
       "<div>\n",
       "<style scoped>\n",
       "    .dataframe tbody tr th:only-of-type {\n",
       "        vertical-align: middle;\n",
       "    }\n",
       "\n",
       "    .dataframe tbody tr th {\n",
       "        vertical-align: top;\n",
       "    }\n",
       "\n",
       "    .dataframe thead th {\n",
       "        text-align: right;\n",
       "    }\n",
       "</style>\n",
       "<table border=\"1\" class=\"dataframe\">\n",
       "  <thead>\n",
       "    <tr style=\"text-align: right;\">\n",
       "      <th></th>\n",
       "      <th>Reference year</th>\n",
       "      <th>Country Code</th>\n",
       "      <th>Research active institution</th>\n",
       "      <th>Total students enrolled at ISCED 8</th>\n",
       "      <th>R&amp;D Expenditure (EURO)</th>\n",
       "    </tr>\n",
       "  </thead>\n",
       "  <tbody>\n",
       "    <tr>\n",
       "      <th>0</th>\n",
       "      <td>2015</td>\n",
       "      <td>AL</td>\n",
       "      <td>1.0</td>\n",
       "      <td>1764.0</td>\n",
       "      <td>NaN</td>\n",
       "    </tr>\n",
       "  </tbody>\n",
       "</table>\n",
       "</div>"
      ],
      "text/plain": [
       "   Reference year Country Code  Research active institution  \\\n",
       "0            2015           AL                          1.0   \n",
       "\n",
       "   Total students enrolled at ISCED 8  R&D Expenditure (EURO)  \n",
       "0                              1764.0                     NaN  "
      ]
     },
     "execution_count": 111,
     "metadata": {},
     "output_type": "execute_result"
    }
   ],
   "source": [
    "qmedata.head(1)"
   ]
  },
  {
   "cell_type": "code",
   "execution_count": 112,
   "metadata": {},
   "outputs": [
    {
     "data": {
      "text/html": [
       "<div>\n",
       "<style scoped>\n",
       "    .dataframe tbody tr th:only-of-type {\n",
       "        vertical-align: middle;\n",
       "    }\n",
       "\n",
       "    .dataframe tbody tr th {\n",
       "        vertical-align: top;\n",
       "    }\n",
       "\n",
       "    .dataframe thead th {\n",
       "        text-align: right;\n",
       "    }\n",
       "</style>\n",
       "<table border=\"1\" class=\"dataframe\">\n",
       "  <thead>\n",
       "    <tr style=\"text-align: right;\">\n",
       "      <th></th>\n",
       "      <th>Reference year</th>\n",
       "      <th>Country Code</th>\n",
       "      <th>Research active institution</th>\n",
       "      <th>Total students enrolled at ISCED 8</th>\n",
       "      <th>R&amp;D Expenditure (EURO)</th>\n",
       "    </tr>\n",
       "  </thead>\n",
       "  <tbody>\n",
       "    <tr>\n",
       "      <th>212</th>\n",
       "      <td>2015</td>\n",
       "      <td>FI</td>\n",
       "      <td>1.0</td>\n",
       "      <td>0.0</td>\n",
       "      <td>3226000.0</td>\n",
       "    </tr>\n",
       "  </tbody>\n",
       "</table>\n",
       "</div>"
      ],
      "text/plain": [
       "     Reference year Country Code  Research active institution  \\\n",
       "212            2015           FI                          1.0   \n",
       "\n",
       "     Total students enrolled at ISCED 8  R&D Expenditure (EURO)  \n",
       "212                                 0.0               3226000.0  "
      ]
     },
     "execution_count": 112,
     "metadata": {},
     "output_type": "execute_result"
    }
   ],
   "source": [
    "data =  qmedata[(qmedata[\"R&D Expenditure (EURO)\"].notna())] #data without missing values \n",
    "data.head(1)"
   ]
  },
  {
   "cell_type": "markdown",
   "metadata": {},
   "source": [
    "about 67% of the entries missing values. in order to impute these missing values, using simple linear regression using total students as the independent variable . to achieve this, i will divide the data into two parts. \n",
    "\n",
    "using the Supervised Learning; Regression under Record Linked Method of Data Quality techinques, dividing the entire dataset into trainset and testset and using the regression algorithm to get the missing values for the variable of interest.\n",
    "\n",
    "setting the model as a Multiple Linear Regression Model, assuming that y(outcome), R&D Expenditure (Euro) is a continuous variable and our independent variables, x are country code, reference year, research active institution and total students enrolled at ISCED 8.\n",
    "\n",
    "y = $β_0$ + $β_1$$x_1$ + $β_2$$x_2$ + $β_3$$x_3$+ $β_4$$x_4$  + E"
   ]
  },
  {
   "cell_type": "code",
   "execution_count": 113,
   "metadata": {},
   "outputs": [
    {
     "data": {
      "image/png": "[encoded data removed]",
      "text/plain": [
       "<Figure size 432x288 with 1 Axes>"
      ]
     },
     "metadata": {},
     "output_type": "display_data"
    }
   ],
   "source": [
    "mean = data[\"R&D Expenditure (EURO)\"].describe()['mean']\n",
    "#plotting skewness \n",
    "sns.distplot(data[\"R&D Expenditure (EURO)\"], norm_hist = True)\n",
    "plt.axvline(x = mean, color = \"red\", linestyle = \"--\", label = \"mean\")\n",
    "plt.legend()\n",
    "plt.grid()"
   ]
  },
  {
   "cell_type": "code",
   "execution_count": 114,
   "metadata": {},
   "outputs": [
    {
     "data": {
      "text/plain": [
       "count    1.612000e+03\n",
       "mean     3.684673e+07\n",
       "std      9.323268e+07\n",
       "min      0.000000e+00\n",
       "25%      6.179592e+05\n",
       "50%      3.964830e+06\n",
       "75%      1.928597e+07\n",
       "max      6.820328e+08\n",
       "Name: R&D Expenditure (EURO), dtype: float64"
      ]
     },
     "execution_count": 114,
     "metadata": {},
     "output_type": "execute_result"
    }
   ],
   "source": [
    "data[\"R&D Expenditure (EURO)\"].describe()"
   ]
  },
  {
   "cell_type": "code",
   "execution_count": 115,
   "metadata": {},
   "outputs": [
    {
     "data": {
      "image/png": "[encoded data removed]",
      "text/plain": [
       "<Figure size 432x288 with 1 Axes>"
      ]
     },
     "metadata": {},
     "output_type": "display_data"
    }
   ],
   "source": [
    "Transformed = np.log1p(data[\"R&D Expenditure (EURO)\"]) #log transform of the target variable\n",
    "mean_Trans = Transformed.describe()[\"mean\"]\n",
    "sns.distplot(Transformed, norm_hist = True)\n",
    "plt.axvline(x = mean_Trans, color = \"red\", linestyle = \"--\", label = \"mean\")\n",
    "plt.legend()\n",
    "plt.grid()\n",
    "plt.show()"
   ]
  },
  {
   "cell_type": "code",
   "execution_count": 116,
   "metadata": {},
   "outputs": [
    {
     "data": {
      "text/plain": [
       "4.62162400484708"
      ]
     },
     "execution_count": 116,
     "metadata": {},
     "output_type": "execute_result"
    }
   ],
   "source": [
    "#checking skeweness of students\n",
    "qmedata[\"Total students enrolled at ISCED 8\"].skew()"
   ]
  },
  {
   "cell_type": "code",
   "execution_count": 117,
   "metadata": {},
   "outputs": [
    {
     "data": {
      "text/html": [
       "<div>\n",
       "<style scoped>\n",
       "    .dataframe tbody tr th:only-of-type {\n",
       "        vertical-align: middle;\n",
       "    }\n",
       "\n",
       "    .dataframe tbody tr th {\n",
       "        vertical-align: top;\n",
       "    }\n",
       "\n",
       "    .dataframe thead th {\n",
       "        text-align: right;\n",
       "    }\n",
       "</style>\n",
       "<table border=\"1\" class=\"dataframe\">\n",
       "  <thead>\n",
       "    <tr style=\"text-align: right;\">\n",
       "      <th></th>\n",
       "      <th>Reference year</th>\n",
       "      <th>Research active institution</th>\n",
       "      <th>Total students enrolled at ISCED 8</th>\n",
       "      <th>R&amp;D Expenditure (EURO)</th>\n",
       "    </tr>\n",
       "  </thead>\n",
       "  <tbody>\n",
       "    <tr>\n",
       "      <th>Reference year</th>\n",
       "      <td>1.000000</td>\n",
       "      <td>-0.040277</td>\n",
       "      <td>-0.020152</td>\n",
       "      <td>-0.045300</td>\n",
       "    </tr>\n",
       "    <tr>\n",
       "      <th>Research active institution</th>\n",
       "      <td>-0.040277</td>\n",
       "      <td>1.000000</td>\n",
       "      <td>0.096792</td>\n",
       "      <td>0.072037</td>\n",
       "    </tr>\n",
       "    <tr>\n",
       "      <th>Total students enrolled at ISCED 8</th>\n",
       "      <td>-0.020152</td>\n",
       "      <td>0.096792</td>\n",
       "      <td>1.000000</td>\n",
       "      <td>0.736065</td>\n",
       "    </tr>\n",
       "    <tr>\n",
       "      <th>R&amp;D Expenditure (EURO)</th>\n",
       "      <td>-0.045300</td>\n",
       "      <td>0.072037</td>\n",
       "      <td>0.736065</td>\n",
       "      <td>1.000000</td>\n",
       "    </tr>\n",
       "  </tbody>\n",
       "</table>\n",
       "</div>"
      ],
      "text/plain": [
       "                                    Reference year  \\\n",
       "Reference year                            1.000000   \n",
       "Research active institution              -0.040277   \n",
       "Total students enrolled at ISCED 8       -0.020152   \n",
       "R&D Expenditure (EURO)                   -0.045300   \n",
       "\n",
       "                                    Research active institution  \\\n",
       "Reference year                                        -0.040277   \n",
       "Research active institution                            1.000000   \n",
       "Total students enrolled at ISCED 8                     0.096792   \n",
       "R&D Expenditure (EURO)                                 0.072037   \n",
       "\n",
       "                                    Total students enrolled at ISCED 8  \\\n",
       "Reference year                                               -0.020152   \n",
       "Research active institution                                   0.096792   \n",
       "Total students enrolled at ISCED 8                            1.000000   \n",
       "R&D Expenditure (EURO)                                        0.736065   \n",
       "\n",
       "                                    R&D Expenditure (EURO)  \n",
       "Reference year                                   -0.045300  \n",
       "Research active institution                       0.072037  \n",
       "Total students enrolled at ISCED 8                0.736065  \n",
       "R&D Expenditure (EURO)                            1.000000  "
      ]
     },
     "execution_count": 117,
     "metadata": {},
     "output_type": "execute_result"
    }
   ],
   "source": [
    "correlation = data.corr()\n",
    "correlation.sort_values([\"R&D Expenditure (EURO)\"])\n",
    "correlation"
   ]
  },
  {
   "cell_type": "code",
   "execution_count": 118,
   "metadata": {},
   "outputs": [
    {
     "data": {
      "text/plain": [
       "-0.5016187371995877"
      ]
     },
     "execution_count": 118,
     "metadata": {},
     "output_type": "execute_result"
    }
   ],
   "source": [
    "#normalizing \n",
    "qmedata[\"Total students enrolled at ISCED 8\"] = np.log1p(qmedata[\"Total students enrolled at ISCED 8\"])\n",
    "qmedata[\"Total students enrolled at ISCED 8\"].skew()"
   ]
  },
  {
   "cell_type": "markdown",
   "metadata": {},
   "source": [
    "convert the caterogical variable into quantitative variable. here, the country codes are considered as categorical data "
   ]
  },
  {
   "cell_type": "raw",
   "metadata": {},
   "source": [
    "le = LabelEncoder()\n",
    "qmedata[\"Country Code\"]= le.fit_transform(qmedata[\"Country Code\"])"
   ]
  },
  {
   "cell_type": "code",
   "execution_count": 119,
   "metadata": {},
   "outputs": [
    {
     "data": {
      "text/html": [
       "<div>\n",
       "<style scoped>\n",
       "    .dataframe tbody tr th:only-of-type {\n",
       "        vertical-align: middle;\n",
       "    }\n",
       "\n",
       "    .dataframe tbody tr th {\n",
       "        vertical-align: top;\n",
       "    }\n",
       "\n",
       "    .dataframe thead th {\n",
       "        text-align: right;\n",
       "    }\n",
       "</style>\n",
       "<table border=\"1\" class=\"dataframe\">\n",
       "  <thead>\n",
       "    <tr style=\"text-align: right;\">\n",
       "      <th></th>\n",
       "      <th>Reference year</th>\n",
       "      <th>Research active institution</th>\n",
       "      <th>Total students enrolled at ISCED 8</th>\n",
       "      <th>R&amp;D Expenditure (EURO)</th>\n",
       "      <th>Country Code_AL</th>\n",
       "      <th>Country Code_AT</th>\n",
       "      <th>Country Code_BE</th>\n",
       "      <th>Country Code_BG</th>\n",
       "      <th>Country Code_CH</th>\n",
       "      <th>Country Code_CY</th>\n",
       "      <th>...</th>\n",
       "      <th>Country Code_NO</th>\n",
       "      <th>Country Code_PL</th>\n",
       "      <th>Country Code_PT</th>\n",
       "      <th>Country Code_RO</th>\n",
       "      <th>Country Code_RS</th>\n",
       "      <th>Country Code_SE</th>\n",
       "      <th>Country Code_SI</th>\n",
       "      <th>Country Code_SK</th>\n",
       "      <th>Country Code_TR</th>\n",
       "      <th>Country Code_UK</th>\n",
       "    </tr>\n",
       "  </thead>\n",
       "  <tbody>\n",
       "    <tr>\n",
       "      <th>2669</th>\n",
       "      <td>2014</td>\n",
       "      <td>1.0</td>\n",
       "      <td>6.516193</td>\n",
       "      <td>NaN</td>\n",
       "      <td>0</td>\n",
       "      <td>0</td>\n",
       "      <td>0</td>\n",
       "      <td>0</td>\n",
       "      <td>0</td>\n",
       "      <td>0</td>\n",
       "      <td>...</td>\n",
       "      <td>0</td>\n",
       "      <td>0</td>\n",
       "      <td>0</td>\n",
       "      <td>0</td>\n",
       "      <td>0</td>\n",
       "      <td>0</td>\n",
       "      <td>0</td>\n",
       "      <td>0</td>\n",
       "      <td>0</td>\n",
       "      <td>0</td>\n",
       "    </tr>\n",
       "    <tr>\n",
       "      <th>4280</th>\n",
       "      <td>2014</td>\n",
       "      <td>1.0</td>\n",
       "      <td>5.446737</td>\n",
       "      <td>NaN</td>\n",
       "      <td>0</td>\n",
       "      <td>0</td>\n",
       "      <td>0</td>\n",
       "      <td>0</td>\n",
       "      <td>0</td>\n",
       "      <td>0</td>\n",
       "      <td>...</td>\n",
       "      <td>0</td>\n",
       "      <td>0</td>\n",
       "      <td>0</td>\n",
       "      <td>0</td>\n",
       "      <td>0</td>\n",
       "      <td>0</td>\n",
       "      <td>0</td>\n",
       "      <td>0</td>\n",
       "      <td>1</td>\n",
       "      <td>0</td>\n",
       "    </tr>\n",
       "    <tr>\n",
       "      <th>9110</th>\n",
       "      <td>2011</td>\n",
       "      <td>1.0</td>\n",
       "      <td>0.000000</td>\n",
       "      <td>NaN</td>\n",
       "      <td>0</td>\n",
       "      <td>1</td>\n",
       "      <td>0</td>\n",
       "      <td>0</td>\n",
       "      <td>0</td>\n",
       "      <td>0</td>\n",
       "      <td>...</td>\n",
       "      <td>0</td>\n",
       "      <td>0</td>\n",
       "      <td>0</td>\n",
       "      <td>0</td>\n",
       "      <td>0</td>\n",
       "      <td>0</td>\n",
       "      <td>0</td>\n",
       "      <td>0</td>\n",
       "      <td>0</td>\n",
       "      <td>0</td>\n",
       "    </tr>\n",
       "    <tr>\n",
       "      <th>2839</th>\n",
       "      <td>2014</td>\n",
       "      <td>1.0</td>\n",
       "      <td>0.000000</td>\n",
       "      <td>NaN</td>\n",
       "      <td>0</td>\n",
       "      <td>0</td>\n",
       "      <td>0</td>\n",
       "      <td>0</td>\n",
       "      <td>0</td>\n",
       "      <td>0</td>\n",
       "      <td>...</td>\n",
       "      <td>0</td>\n",
       "      <td>0</td>\n",
       "      <td>0</td>\n",
       "      <td>0</td>\n",
       "      <td>0</td>\n",
       "      <td>0</td>\n",
       "      <td>0</td>\n",
       "      <td>0</td>\n",
       "      <td>0</td>\n",
       "      <td>0</td>\n",
       "    </tr>\n",
       "    <tr>\n",
       "      <th>3590</th>\n",
       "      <td>2014</td>\n",
       "      <td>1.0</td>\n",
       "      <td>6.143834</td>\n",
       "      <td>NaN</td>\n",
       "      <td>0</td>\n",
       "      <td>0</td>\n",
       "      <td>1</td>\n",
       "      <td>0</td>\n",
       "      <td>0</td>\n",
       "      <td>0</td>\n",
       "      <td>...</td>\n",
       "      <td>0</td>\n",
       "      <td>0</td>\n",
       "      <td>0</td>\n",
       "      <td>0</td>\n",
       "      <td>0</td>\n",
       "      <td>0</td>\n",
       "      <td>0</td>\n",
       "      <td>0</td>\n",
       "      <td>0</td>\n",
       "      <td>0</td>\n",
       "    </tr>\n",
       "  </tbody>\n",
       "</table>\n",
       "<p>5 rows × 41 columns</p>\n",
       "</div>"
      ],
      "text/plain": [
       "      Reference year  Research active institution  \\\n",
       "2669            2014                          1.0   \n",
       "4280            2014                          1.0   \n",
       "9110            2011                          1.0   \n",
       "2839            2014                          1.0   \n",
       "3590            2014                          1.0   \n",
       "\n",
       "      Total students enrolled at ISCED 8  R&D Expenditure (EURO)  \\\n",
       "2669                            6.516193                     NaN   \n",
       "4280                            5.446737                     NaN   \n",
       "9110                            0.000000                     NaN   \n",
       "2839                            0.000000                     NaN   \n",
       "3590                            6.143834                     NaN   \n",
       "\n",
       "      Country Code_AL  Country Code_AT  Country Code_BE  Country Code_BG  \\\n",
       "2669                0                0                0                0   \n",
       "4280                0                0                0                0   \n",
       "9110                0                1                0                0   \n",
       "2839                0                0                0                0   \n",
       "3590                0                0                1                0   \n",
       "\n",
       "      Country Code_CH  Country Code_CY       ...         Country Code_NO  \\\n",
       "2669                0                0       ...                       0   \n",
       "4280                0                0       ...                       0   \n",
       "9110                0                0       ...                       0   \n",
       "2839                0                0       ...                       0   \n",
       "3590                0                0       ...                       0   \n",
       "\n",
       "      Country Code_PL  Country Code_PT  Country Code_RO  Country Code_RS  \\\n",
       "2669                0                0                0                0   \n",
       "4280                0                0                0                0   \n",
       "9110                0                0                0                0   \n",
       "2839                0                0                0                0   \n",
       "3590                0                0                0                0   \n",
       "\n",
       "      Country Code_SE  Country Code_SI  Country Code_SK  Country Code_TR  \\\n",
       "2669                0                0                0                0   \n",
       "4280                0                0                0                1   \n",
       "9110                0                0                0                0   \n",
       "2839                0                0                0                0   \n",
       "3590                0                0                0                0   \n",
       "\n",
       "      Country Code_UK  \n",
       "2669                0  \n",
       "4280                0  \n",
       "9110                0  \n",
       "2839                0  \n",
       "3590                0  \n",
       "\n",
       "[5 rows x 41 columns]"
      ]
     },
     "execution_count": 119,
     "metadata": {},
     "output_type": "execute_result"
    }
   ],
   "source": [
    "#one hot encoding \n",
    "qmedata = pd.get_dummies(qmedata)\n",
    "qmedata.sample(5)"
   ]
  },
  {
   "cell_type": "raw",
   "metadata": {},
   "source": [
    "qmedata.info()"
   ]
  },
  {
   "cell_type": "markdown",
   "metadata": {},
   "source": [
    "#### Fitting the model"
   ]
  },
  {
   "cell_type": "code",
   "execution_count": 120,
   "metadata": {},
   "outputs": [
    {
     "data": {
      "text/html": [
       "<div>\n",
       "<style scoped>\n",
       "    .dataframe tbody tr th:only-of-type {\n",
       "        vertical-align: middle;\n",
       "    }\n",
       "\n",
       "    .dataframe tbody tr th {\n",
       "        vertical-align: top;\n",
       "    }\n",
       "\n",
       "    .dataframe thead th {\n",
       "        text-align: right;\n",
       "    }\n",
       "</style>\n",
       "<table border=\"1\" class=\"dataframe\">\n",
       "  <thead>\n",
       "    <tr style=\"text-align: right;\">\n",
       "      <th></th>\n",
       "      <th>Reference year</th>\n",
       "      <th>Research active institution</th>\n",
       "      <th>Total students enrolled at ISCED 8</th>\n",
       "      <th>R&amp;D Expenditure (EURO)</th>\n",
       "      <th>Country Code_AL</th>\n",
       "      <th>Country Code_AT</th>\n",
       "      <th>Country Code_BE</th>\n",
       "      <th>Country Code_BG</th>\n",
       "      <th>Country Code_CH</th>\n",
       "      <th>Country Code_CY</th>\n",
       "      <th>...</th>\n",
       "      <th>Country Code_NO</th>\n",
       "      <th>Country Code_PL</th>\n",
       "      <th>Country Code_PT</th>\n",
       "      <th>Country Code_RO</th>\n",
       "      <th>Country Code_RS</th>\n",
       "      <th>Country Code_SE</th>\n",
       "      <th>Country Code_SI</th>\n",
       "      <th>Country Code_SK</th>\n",
       "      <th>Country Code_TR</th>\n",
       "      <th>Country Code_UK</th>\n",
       "    </tr>\n",
       "  </thead>\n",
       "  <tbody>\n",
       "    <tr>\n",
       "      <th>0</th>\n",
       "      <td>2015</td>\n",
       "      <td>1.0</td>\n",
       "      <td>7.475906</td>\n",
       "      <td>NaN</td>\n",
       "      <td>1</td>\n",
       "      <td>0</td>\n",
       "      <td>0</td>\n",
       "      <td>0</td>\n",
       "      <td>0</td>\n",
       "      <td>0</td>\n",
       "      <td>...</td>\n",
       "      <td>0</td>\n",
       "      <td>0</td>\n",
       "      <td>0</td>\n",
       "      <td>0</td>\n",
       "      <td>0</td>\n",
       "      <td>0</td>\n",
       "      <td>0</td>\n",
       "      <td>0</td>\n",
       "      <td>0</td>\n",
       "      <td>0</td>\n",
       "    </tr>\n",
       "    <tr>\n",
       "      <th>1</th>\n",
       "      <td>2015</td>\n",
       "      <td>1.0</td>\n",
       "      <td>0.000000</td>\n",
       "      <td>NaN</td>\n",
       "      <td>0</td>\n",
       "      <td>0</td>\n",
       "      <td>0</td>\n",
       "      <td>0</td>\n",
       "      <td>0</td>\n",
       "      <td>0</td>\n",
       "      <td>...</td>\n",
       "      <td>0</td>\n",
       "      <td>0</td>\n",
       "      <td>0</td>\n",
       "      <td>0</td>\n",
       "      <td>0</td>\n",
       "      <td>0</td>\n",
       "      <td>0</td>\n",
       "      <td>0</td>\n",
       "      <td>0</td>\n",
       "      <td>0</td>\n",
       "    </tr>\n",
       "    <tr>\n",
       "      <th>2</th>\n",
       "      <td>2015</td>\n",
       "      <td>1.0</td>\n",
       "      <td>0.000000</td>\n",
       "      <td>NaN</td>\n",
       "      <td>0</td>\n",
       "      <td>0</td>\n",
       "      <td>0</td>\n",
       "      <td>0</td>\n",
       "      <td>0</td>\n",
       "      <td>0</td>\n",
       "      <td>...</td>\n",
       "      <td>0</td>\n",
       "      <td>0</td>\n",
       "      <td>0</td>\n",
       "      <td>0</td>\n",
       "      <td>0</td>\n",
       "      <td>0</td>\n",
       "      <td>0</td>\n",
       "      <td>0</td>\n",
       "      <td>0</td>\n",
       "      <td>0</td>\n",
       "    </tr>\n",
       "    <tr>\n",
       "      <th>3</th>\n",
       "      <td>2015</td>\n",
       "      <td>1.0</td>\n",
       "      <td>0.000000</td>\n",
       "      <td>NaN</td>\n",
       "      <td>0</td>\n",
       "      <td>0</td>\n",
       "      <td>0</td>\n",
       "      <td>0</td>\n",
       "      <td>0</td>\n",
       "      <td>0</td>\n",
       "      <td>...</td>\n",
       "      <td>0</td>\n",
       "      <td>0</td>\n",
       "      <td>0</td>\n",
       "      <td>0</td>\n",
       "      <td>0</td>\n",
       "      <td>0</td>\n",
       "      <td>0</td>\n",
       "      <td>0</td>\n",
       "      <td>0</td>\n",
       "      <td>0</td>\n",
       "    </tr>\n",
       "    <tr>\n",
       "      <th>4</th>\n",
       "      <td>2015</td>\n",
       "      <td>1.0</td>\n",
       "      <td>0.000000</td>\n",
       "      <td>NaN</td>\n",
       "      <td>0</td>\n",
       "      <td>0</td>\n",
       "      <td>0</td>\n",
       "      <td>0</td>\n",
       "      <td>0</td>\n",
       "      <td>0</td>\n",
       "      <td>...</td>\n",
       "      <td>0</td>\n",
       "      <td>0</td>\n",
       "      <td>0</td>\n",
       "      <td>0</td>\n",
       "      <td>0</td>\n",
       "      <td>0</td>\n",
       "      <td>0</td>\n",
       "      <td>0</td>\n",
       "      <td>0</td>\n",
       "      <td>0</td>\n",
       "    </tr>\n",
       "  </tbody>\n",
       "</table>\n",
       "<p>5 rows × 41 columns</p>\n",
       "</div>"
      ],
      "text/plain": [
       "   Reference year  Research active institution  \\\n",
       "0            2015                          1.0   \n",
       "1            2015                          1.0   \n",
       "2            2015                          1.0   \n",
       "3            2015                          1.0   \n",
       "4            2015                          1.0   \n",
       "\n",
       "   Total students enrolled at ISCED 8  R&D Expenditure (EURO)  \\\n",
       "0                            7.475906                     NaN   \n",
       "1                            0.000000                     NaN   \n",
       "2                            0.000000                     NaN   \n",
       "3                            0.000000                     NaN   \n",
       "4                            0.000000                     NaN   \n",
       "\n",
       "   Country Code_AL  Country Code_AT  Country Code_BE  Country Code_BG  \\\n",
       "0                1                0                0                0   \n",
       "1                0                0                0                0   \n",
       "2                0                0                0                0   \n",
       "3                0                0                0                0   \n",
       "4                0                0                0                0   \n",
       "\n",
       "   Country Code_CH  Country Code_CY       ...         Country Code_NO  \\\n",
       "0                0                0       ...                       0   \n",
       "1                0                0       ...                       0   \n",
       "2                0                0       ...                       0   \n",
       "3                0                0       ...                       0   \n",
       "4                0                0       ...                       0   \n",
       "\n",
       "   Country Code_PL  Country Code_PT  Country Code_RO  Country Code_RS  \\\n",
       "0                0                0                0                0   \n",
       "1                0                0                0                0   \n",
       "2                0                0                0                0   \n",
       "3                0                0                0                0   \n",
       "4                0                0                0                0   \n",
       "\n",
       "   Country Code_SE  Country Code_SI  Country Code_SK  Country Code_TR  \\\n",
       "0                0                0                0                0   \n",
       "1                0                0                0                0   \n",
       "2                0                0                0                0   \n",
       "3                0                0                0                0   \n",
       "4                0                0                0                0   \n",
       "\n",
       "   Country Code_UK  \n",
       "0                0  \n",
       "1                0  \n",
       "2                0  \n",
       "3                0  \n",
       "4                0  \n",
       "\n",
       "[5 rows x 41 columns]"
      ]
     },
     "execution_count": 120,
     "metadata": {},
     "output_type": "execute_result"
    }
   ],
   "source": [
    "missing = qmedata[qmedata[\"R&D Expenditure (EURO)\"].isnull()]  #testset \n",
    "missing.head(5)"
   ]
  },
  {
   "cell_type": "code",
   "execution_count": 121,
   "metadata": {},
   "outputs": [
    {
     "data": {
      "text/plain": [
       "9595"
      ]
     },
     "execution_count": 121,
     "metadata": {},
     "output_type": "execute_result"
    }
   ],
   "source": [
    "number_of_missng_entries = len(missing)\n",
    "number_of_missng_entries"
   ]
  },
  {
   "cell_type": "code",
   "execution_count": 122,
   "metadata": {},
   "outputs": [
    {
     "data": {
      "text/html": [
       "<div>\n",
       "<style scoped>\n",
       "    .dataframe tbody tr th:only-of-type {\n",
       "        vertical-align: middle;\n",
       "    }\n",
       "\n",
       "    .dataframe tbody tr th {\n",
       "        vertical-align: top;\n",
       "    }\n",
       "\n",
       "    .dataframe thead th {\n",
       "        text-align: right;\n",
       "    }\n",
       "</style>\n",
       "<table border=\"1\" class=\"dataframe\">\n",
       "  <thead>\n",
       "    <tr style=\"text-align: right;\">\n",
       "      <th></th>\n",
       "      <th>Reference year</th>\n",
       "      <th>Research active institution</th>\n",
       "      <th>Total students enrolled at ISCED 8</th>\n",
       "      <th>Country Code_AL</th>\n",
       "      <th>Country Code_AT</th>\n",
       "      <th>Country Code_BE</th>\n",
       "      <th>Country Code_BG</th>\n",
       "      <th>Country Code_CH</th>\n",
       "      <th>Country Code_CY</th>\n",
       "      <th>Country Code_CZ</th>\n",
       "      <th>...</th>\n",
       "      <th>Country Code_NO</th>\n",
       "      <th>Country Code_PL</th>\n",
       "      <th>Country Code_PT</th>\n",
       "      <th>Country Code_RO</th>\n",
       "      <th>Country Code_RS</th>\n",
       "      <th>Country Code_SE</th>\n",
       "      <th>Country Code_SI</th>\n",
       "      <th>Country Code_SK</th>\n",
       "      <th>Country Code_TR</th>\n",
       "      <th>Country Code_UK</th>\n",
       "    </tr>\n",
       "  </thead>\n",
       "  <tbody>\n",
       "    <tr>\n",
       "      <th>0</th>\n",
       "      <td>2015</td>\n",
       "      <td>1.0</td>\n",
       "      <td>7.475906</td>\n",
       "      <td>1</td>\n",
       "      <td>0</td>\n",
       "      <td>0</td>\n",
       "      <td>0</td>\n",
       "      <td>0</td>\n",
       "      <td>0</td>\n",
       "      <td>0</td>\n",
       "      <td>...</td>\n",
       "      <td>0</td>\n",
       "      <td>0</td>\n",
       "      <td>0</td>\n",
       "      <td>0</td>\n",
       "      <td>0</td>\n",
       "      <td>0</td>\n",
       "      <td>0</td>\n",
       "      <td>0</td>\n",
       "      <td>0</td>\n",
       "      <td>0</td>\n",
       "    </tr>\n",
       "    <tr>\n",
       "      <th>1</th>\n",
       "      <td>2015</td>\n",
       "      <td>1.0</td>\n",
       "      <td>0.000000</td>\n",
       "      <td>0</td>\n",
       "      <td>0</td>\n",
       "      <td>0</td>\n",
       "      <td>0</td>\n",
       "      <td>0</td>\n",
       "      <td>0</td>\n",
       "      <td>0</td>\n",
       "      <td>...</td>\n",
       "      <td>0</td>\n",
       "      <td>0</td>\n",
       "      <td>0</td>\n",
       "      <td>0</td>\n",
       "      <td>0</td>\n",
       "      <td>0</td>\n",
       "      <td>0</td>\n",
       "      <td>0</td>\n",
       "      <td>0</td>\n",
       "      <td>0</td>\n",
       "    </tr>\n",
       "    <tr>\n",
       "      <th>2</th>\n",
       "      <td>2015</td>\n",
       "      <td>1.0</td>\n",
       "      <td>0.000000</td>\n",
       "      <td>0</td>\n",
       "      <td>0</td>\n",
       "      <td>0</td>\n",
       "      <td>0</td>\n",
       "      <td>0</td>\n",
       "      <td>0</td>\n",
       "      <td>0</td>\n",
       "      <td>...</td>\n",
       "      <td>0</td>\n",
       "      <td>0</td>\n",
       "      <td>0</td>\n",
       "      <td>0</td>\n",
       "      <td>0</td>\n",
       "      <td>0</td>\n",
       "      <td>0</td>\n",
       "      <td>0</td>\n",
       "      <td>0</td>\n",
       "      <td>0</td>\n",
       "    </tr>\n",
       "    <tr>\n",
       "      <th>3</th>\n",
       "      <td>2015</td>\n",
       "      <td>1.0</td>\n",
       "      <td>0.000000</td>\n",
       "      <td>0</td>\n",
       "      <td>0</td>\n",
       "      <td>0</td>\n",
       "      <td>0</td>\n",
       "      <td>0</td>\n",
       "      <td>0</td>\n",
       "      <td>0</td>\n",
       "      <td>...</td>\n",
       "      <td>0</td>\n",
       "      <td>0</td>\n",
       "      <td>0</td>\n",
       "      <td>0</td>\n",
       "      <td>0</td>\n",
       "      <td>0</td>\n",
       "      <td>0</td>\n",
       "      <td>0</td>\n",
       "      <td>0</td>\n",
       "      <td>0</td>\n",
       "    </tr>\n",
       "    <tr>\n",
       "      <th>4</th>\n",
       "      <td>2015</td>\n",
       "      <td>1.0</td>\n",
       "      <td>0.000000</td>\n",
       "      <td>0</td>\n",
       "      <td>0</td>\n",
       "      <td>0</td>\n",
       "      <td>0</td>\n",
       "      <td>0</td>\n",
       "      <td>0</td>\n",
       "      <td>0</td>\n",
       "      <td>...</td>\n",
       "      <td>0</td>\n",
       "      <td>0</td>\n",
       "      <td>0</td>\n",
       "      <td>0</td>\n",
       "      <td>0</td>\n",
       "      <td>0</td>\n",
       "      <td>0</td>\n",
       "      <td>0</td>\n",
       "      <td>0</td>\n",
       "      <td>0</td>\n",
       "    </tr>\n",
       "  </tbody>\n",
       "</table>\n",
       "<p>5 rows × 40 columns</p>\n",
       "</div>"
      ],
      "text/plain": [
       "   Reference year  Research active institution  \\\n",
       "0            2015                          1.0   \n",
       "1            2015                          1.0   \n",
       "2            2015                          1.0   \n",
       "3            2015                          1.0   \n",
       "4            2015                          1.0   \n",
       "\n",
       "   Total students enrolled at ISCED 8  Country Code_AL  Country Code_AT  \\\n",
       "0                            7.475906                1                0   \n",
       "1                            0.000000                0                0   \n",
       "2                            0.000000                0                0   \n",
       "3                            0.000000                0                0   \n",
       "4                            0.000000                0                0   \n",
       "\n",
       "   Country Code_BE  Country Code_BG  Country Code_CH  Country Code_CY  \\\n",
       "0                0                0                0                0   \n",
       "1                0                0                0                0   \n",
       "2                0                0                0                0   \n",
       "3                0                0                0                0   \n",
       "4                0                0                0                0   \n",
       "\n",
       "   Country Code_CZ       ...         Country Code_NO  Country Code_PL  \\\n",
       "0                0       ...                       0                0   \n",
       "1                0       ...                       0                0   \n",
       "2                0       ...                       0                0   \n",
       "3                0       ...                       0                0   \n",
       "4                0       ...                       0                0   \n",
       "\n",
       "   Country Code_PT  Country Code_RO  Country Code_RS  Country Code_SE  \\\n",
       "0                0                0                0                0   \n",
       "1                0                0                0                0   \n",
       "2                0                0                0                0   \n",
       "3                0                0                0                0   \n",
       "4                0                0                0                0   \n",
       "\n",
       "   Country Code_SI  Country Code_SK  Country Code_TR  Country Code_UK  \n",
       "0                0                0                0                0  \n",
       "1                0                0                0                0  \n",
       "2                0                0                0                0  \n",
       "3                0                0                0                0  \n",
       "4                0                0                0                0  \n",
       "\n",
       "[5 rows x 40 columns]"
      ]
     },
     "execution_count": 122,
     "metadata": {},
     "output_type": "execute_result"
    }
   ],
   "source": [
    "#dropping the R&D Expenditure since it is missing and would be predicted with linear regression\n",
    "missing = missing.drop(\"R&D Expenditure (EURO)\", axis =1)\n",
    "missing.head(5)"
   ]
  },
  {
   "cell_type": "code",
   "execution_count": 123,
   "metadata": {},
   "outputs": [
    {
     "data": {
      "text/html": [
       "<div>\n",
       "<style scoped>\n",
       "    .dataframe tbody tr th:only-of-type {\n",
       "        vertical-align: middle;\n",
       "    }\n",
       "\n",
       "    .dataframe tbody tr th {\n",
       "        vertical-align: top;\n",
       "    }\n",
       "\n",
       "    .dataframe thead th {\n",
       "        text-align: right;\n",
       "    }\n",
       "</style>\n",
       "<table border=\"1\" class=\"dataframe\">\n",
       "  <thead>\n",
       "    <tr style=\"text-align: right;\">\n",
       "      <th></th>\n",
       "      <th>Reference year</th>\n",
       "      <th>Research active institution</th>\n",
       "      <th>Total students enrolled at ISCED 8</th>\n",
       "      <th>Country Code_AL</th>\n",
       "      <th>Country Code_AT</th>\n",
       "      <th>Country Code_BE</th>\n",
       "      <th>Country Code_BG</th>\n",
       "      <th>Country Code_CH</th>\n",
       "      <th>Country Code_CY</th>\n",
       "      <th>Country Code_CZ</th>\n",
       "      <th>...</th>\n",
       "      <th>Country Code_NO</th>\n",
       "      <th>Country Code_PL</th>\n",
       "      <th>Country Code_PT</th>\n",
       "      <th>Country Code_RO</th>\n",
       "      <th>Country Code_RS</th>\n",
       "      <th>Country Code_SE</th>\n",
       "      <th>Country Code_SI</th>\n",
       "      <th>Country Code_SK</th>\n",
       "      <th>Country Code_TR</th>\n",
       "      <th>Country Code_UK</th>\n",
       "    </tr>\n",
       "  </thead>\n",
       "  <tbody>\n",
       "    <tr>\n",
       "      <th>212</th>\n",
       "      <td>2015</td>\n",
       "      <td>1.0</td>\n",
       "      <td>0.0</td>\n",
       "      <td>0</td>\n",
       "      <td>0</td>\n",
       "      <td>0</td>\n",
       "      <td>0</td>\n",
       "      <td>0</td>\n",
       "      <td>0</td>\n",
       "      <td>0</td>\n",
       "      <td>...</td>\n",
       "      <td>0</td>\n",
       "      <td>0</td>\n",
       "      <td>0</td>\n",
       "      <td>0</td>\n",
       "      <td>0</td>\n",
       "      <td>0</td>\n",
       "      <td>0</td>\n",
       "      <td>0</td>\n",
       "      <td>0</td>\n",
       "      <td>0</td>\n",
       "    </tr>\n",
       "  </tbody>\n",
       "</table>\n",
       "<p>1 rows × 40 columns</p>\n",
       "</div>"
      ],
      "text/plain": [
       "     Reference year  Research active institution  \\\n",
       "212            2015                          1.0   \n",
       "\n",
       "     Total students enrolled at ISCED 8  Country Code_AL  Country Code_AT  \\\n",
       "212                                 0.0                0                0   \n",
       "\n",
       "     Country Code_BE  Country Code_BG  Country Code_CH  Country Code_CY  \\\n",
       "212                0                0                0                0   \n",
       "\n",
       "     Country Code_CZ       ...         Country Code_NO  Country Code_PL  \\\n",
       "212                0       ...                       0                0   \n",
       "\n",
       "     Country Code_PT  Country Code_RO  Country Code_RS  Country Code_SE  \\\n",
       "212                0                0                0                0   \n",
       "\n",
       "     Country Code_SI  Country Code_SK  Country Code_TR  Country Code_UK  \n",
       "212                0                0                0                0  \n",
       "\n",
       "[1 rows x 40 columns]"
      ]
     },
     "execution_count": 123,
     "metadata": {},
     "output_type": "execute_result"
    }
   ],
   "source": [
    "not_missing =  qmedata[(qmedata[\"R&D Expenditure (EURO)\"].notna())]\n",
    "not_missing = not_missing.drop(\"R&D Expenditure (EURO)\", axis =1)\n",
    "not_missing.head(1)"
   ]
  },
  {
   "cell_type": "code",
   "execution_count": 124,
   "metadata": {},
   "outputs": [
    {
     "data": {
      "text/plain": [
       "1612"
      ]
     },
     "execution_count": 124,
     "metadata": {},
     "output_type": "execute_result"
    }
   ],
   "source": [
    "len(not_missing)"
   ]
  },
  {
   "cell_type": "code",
   "execution_count": 125,
   "metadata": {},
   "outputs": [],
   "source": [
    "y = Transformed #data[\"R&D Expenditure (EURO)\"]\n",
    "#y = np.log1p(y) #log transform of the target variable"
   ]
  },
  {
   "cell_type": "code",
   "execution_count": 126,
   "metadata": {},
   "outputs": [],
   "source": [
    "R = RobustScaler()\n",
    "R.fit(not_missing)\n",
    "x_train = R.transform(not_missing) #normilaze the dataset to withstand outliers\n",
    "R.fit(missing)\n",
    "x_test = R.transform(missing)"
   ]
  },
  {
   "cell_type": "markdown",
   "metadata": {},
   "source": [
    "testing for several number of regression models to find the best "
   ]
  },
  {
   "cell_type": "code",
   "execution_count": 127,
   "metadata": {},
   "outputs": [],
   "source": [
    "def rmse_md(estimator, x, y):\n",
    "    rmse = np.sqrt(-cross_val_score(estimator, x, y, cv= 5, scoring=\"neg_mean_squared_error\")).mean()\n",
    "    return rmse  #Root mean square error"
   ]
  },
  {
   "cell_type": "code",
   "execution_count": 128,
   "metadata": {},
   "outputs": [
    {
     "name": "stdout",
     "output_type": "stream",
     "text": [
      "score of Bayesian Ridge : 2.126025542597246\n",
      "score of R_squared : 0.6106516580519568\n"
     ]
    }
   ],
   "source": [
    "br = linear_model.BayesianRidge()\n",
    "br.fit(x_train, y)\n",
    "score = rmse_md(br, x_train, y)\n",
    "print(\"score of Bayesian Ridge :\",score)\n",
    "R_squared = br.score(x_train, y)\n",
    "print(\"score of R_squared :\", R_squared)"
   ]
  },
  {
   "cell_type": "code",
   "execution_count": 129,
   "metadata": {},
   "outputs": [
    {
     "name": "stderr",
     "output_type": "stream",
     "text": [
      "/Users/dzidziquist/anaconda3/lib/python3.6/site-packages/sklearn/model_selection/_search.py:841: DeprecationWarning: The default of the `iid` parameter will change from True to False in version 0.22 and will be removed in 0.24. This will change numeric results when test-set sizes are unequal.\n",
      "  DeprecationWarning)\n"
     ]
    },
    {
     "name": "stdout",
     "output_type": "stream",
     "text": [
      "score of Ridge Regression : 2.1157184051941202\n",
      "score of R_squared : 0.6004397989702235\n"
     ]
    }
   ],
   "source": [
    "from sklearn.linear_model import RidgeCV  \n",
    "rg = RidgeCV(cv = 5)\n",
    "rg.fit(x_train, y)\n",
    "score = rmse_md(rg, x_train, y)\n",
    "print(\"score of Ridge Regression :\", score)\n",
    "R_squared = rg.score(x_train, y)\n",
    "print(\"score of R_squared :\", R_squared)"
   ]
  },
  {
   "cell_type": "code",
   "execution_count": 130,
   "metadata": {},
   "outputs": [
    {
     "name": "stdout",
     "output_type": "stream",
     "text": [
      "score of Lasso Regression : 2.1206238020814725\n",
      "score of R_squared : 0.5986465876790898\n"
     ]
    }
   ],
   "source": [
    "from sklearn.linear_model import LassoCV #using the cross validation\n",
    "ls = LassoCV(cv = 5)\n",
    "ls.fit(x_train, y)\n",
    "score = rmse_md(ls, x_train, y)\n",
    "print(\"score of Lasso Regression :\", score)\n",
    "R_squared = ls.score(x_train, y)\n",
    "print(\"score of R_squared :\", R_squared)"
   ]
  },
  {
   "cell_type": "code",
   "execution_count": 131,
   "metadata": {},
   "outputs": [
    {
     "name": "stdout",
     "output_type": "stream",
     "text": [
      "score of ElasticNet Regression : 2.1256413495100976\n",
      "score of R_squared : 0.6011612274612516\n"
     ]
    }
   ],
   "source": [
    "from sklearn.linear_model import ElasticNetCV #using the cross validation\n",
    "en = ElasticNetCV(cv = 5)\n",
    "en.fit(x_train, y)\n",
    "score = rmse_md(en, x_train, y)\n",
    "print(\"score of ElasticNet Regression :\", score)\n",
    "R_squared = en.score(x_train, y)\n",
    "print(\"score of R_squared :\", R_squared)"
   ]
  },
  {
   "cell_type": "code",
   "execution_count": 132,
   "metadata": {},
   "outputs": [
    {
     "name": "stdout",
     "output_type": "stream",
     "text": [
      "score of xgb: 1.850942819061406\n",
      "score of R_squared : 0.8692696389547485\n"
     ]
    }
   ],
   "source": [
    "import xgboost\n",
    "xgb = xgboost.XGBRegressor(colsample_bytree=0.4603, gamma=0.0468, \n",
    "                             learning_rate=0.1, max_depth=3, \n",
    "                             min_child_weight=1.7817, n_estimators=7600,\n",
    "                             reg_alpha=0.4640, reg_lambda=0.8571,\n",
    "                             subsample=0.5213, silent=1,\n",
    "                             random_state =7, nthread = -1)\n",
    "xgb.fit(x_train, y)\n",
    "score = rmse_md(xgb, x_train, y)\n",
    "print(\"score of xgb:\", score)\n",
    "R_squared = xgb.score(x_train, y)\n",
    "print(\"score of R_squared :\", R_squared)"
   ]
  },
  {
   "cell_type": "code",
   "execution_count": 133,
   "metadata": {},
   "outputs": [],
   "source": [
    "y_pred = np.expm1(xgb.predict(x_test))"
   ]
  },
  {
   "cell_type": "code",
   "execution_count": 134,
   "metadata": {},
   "outputs": [],
   "source": [
    "Predict = pd.DataFrame(y_pred)\n",
    "#Predict[\"ETER ID\"] = eterid\n",
    "#Predict[\"Institution Name\"] = instname\n",
    "Predict[\"Reference year\"] = year\n",
    "Predict[\"Country Code\"] = country\n",
    "Predict[\"Research active institution\"] = active\n",
    "Predict[\"Total students enrolled at ISCED 8\"] = student\n",
    "Predict = Predict.rename(columns={0: \"R&D Expenditure (EURO)\"})\n",
    "Predict = Predict[[\"Reference year\", \"Country Code\", \"Research active institution\",\n",
    "                  \"Total students enrolled at ISCED 8\", \"R&D Expenditure (EURO)\"]]"
   ]
  },
  {
   "cell_type": "code",
   "execution_count": 135,
   "metadata": {},
   "outputs": [
    {
     "data": {
      "text/html": [
       "<div>\n",
       "<style scoped>\n",
       "    .dataframe tbody tr th:only-of-type {\n",
       "        vertical-align: middle;\n",
       "    }\n",
       "\n",
       "    .dataframe tbody tr th {\n",
       "        vertical-align: top;\n",
       "    }\n",
       "\n",
       "    .dataframe thead th {\n",
       "        text-align: right;\n",
       "    }\n",
       "</style>\n",
       "<table border=\"1\" class=\"dataframe\">\n",
       "  <thead>\n",
       "    <tr style=\"text-align: right;\">\n",
       "      <th></th>\n",
       "      <th>Reference year</th>\n",
       "      <th>Country Code</th>\n",
       "      <th>Research active institution</th>\n",
       "      <th>Total students enrolled at ISCED 8</th>\n",
       "      <th>R&amp;D Expenditure (EURO)</th>\n",
       "    </tr>\n",
       "  </thead>\n",
       "  <tbody>\n",
       "    <tr>\n",
       "      <th>0</th>\n",
       "      <td>2015</td>\n",
       "      <td>AL</td>\n",
       "      <td>1.0</td>\n",
       "      <td>1764.0</td>\n",
       "      <td>18662510.0</td>\n",
       "    </tr>\n",
       "  </tbody>\n",
       "</table>\n",
       "</div>"
      ],
      "text/plain": [
       "   Reference year Country Code  Research active institution  \\\n",
       "0            2015           AL                          1.0   \n",
       "\n",
       "   Total students enrolled at ISCED 8  R&D Expenditure (EURO)  \n",
       "0                              1764.0              18662510.0  "
      ]
     },
     "execution_count": 135,
     "metadata": {},
     "output_type": "execute_result"
    }
   ],
   "source": [
    "Predict.head(1)"
   ]
  },
  {
   "cell_type": "code",
   "execution_count": 136,
   "metadata": {},
   "outputs": [
    {
     "data": {
      "text/plain": [
       "Reference year                        0\n",
       "Country Code                          0\n",
       "Research active institution           0\n",
       "Total students enrolled at ISCED 8    0\n",
       "R&D Expenditure (EURO)                0\n",
       "dtype: int64"
      ]
     },
     "execution_count": 136,
     "metadata": {},
     "output_type": "execute_result"
    }
   ],
   "source": [
    "Predict.isnull().sum()"
   ]
  },
  {
   "cell_type": "code",
   "execution_count": 137,
   "metadata": {},
   "outputs": [
    {
     "data": {
      "text/plain": [
       "Reference year                          0\n",
       "Country Code                          794\n",
       "Research active institution             0\n",
       "Total students enrolled at ISCED 8      0\n",
       "R&D Expenditure (EURO)                  0\n",
       "dtype: int64"
      ]
     },
     "execution_count": 137,
     "metadata": {},
     "output_type": "execute_result"
    }
   ],
   "source": [
    "(Predict == \"UK\").sum()"
   ]
  },
  {
   "cell_type": "code",
   "execution_count": 138,
   "metadata": {},
   "outputs": [
    {
     "data": {
      "text/html": [
       "<div>\n",
       "<style scoped>\n",
       "    .dataframe tbody tr th:only-of-type {\n",
       "        vertical-align: middle;\n",
       "    }\n",
       "\n",
       "    .dataframe tbody tr th {\n",
       "        vertical-align: top;\n",
       "    }\n",
       "\n",
       "    .dataframe thead th {\n",
       "        text-align: right;\n",
       "    }\n",
       "</style>\n",
       "<table border=\"1\" class=\"dataframe\">\n",
       "  <thead>\n",
       "    <tr style=\"text-align: right;\">\n",
       "      <th></th>\n",
       "      <th>Reference year</th>\n",
       "      <th>Country Code</th>\n",
       "      <th>Research active institution</th>\n",
       "      <th>Total students enrolled at ISCED 8</th>\n",
       "      <th>R&amp;D Expenditure (EURO)</th>\n",
       "    </tr>\n",
       "  </thead>\n",
       "  <tbody>\n",
       "    <tr>\n",
       "      <th>212</th>\n",
       "      <td>2015</td>\n",
       "      <td>FI</td>\n",
       "      <td>1.0</td>\n",
       "      <td>0.0</td>\n",
       "      <td>3226000.0</td>\n",
       "    </tr>\n",
       "  </tbody>\n",
       "</table>\n",
       "</div>"
      ],
      "text/plain": [
       "     Reference year Country Code  Research active institution  \\\n",
       "212            2015           FI                          1.0   \n",
       "\n",
       "     Total students enrolled at ISCED 8  R&D Expenditure (EURO)  \n",
       "212                                 0.0               3226000.0  "
      ]
     },
     "execution_count": 138,
     "metadata": {},
     "output_type": "execute_result"
    }
   ],
   "source": [
    "data.head(1)"
   ]
  },
  {
   "cell_type": "code",
   "execution_count": 139,
   "metadata": {},
   "outputs": [
    {
     "data": {
      "text/plain": [
       "Reference year                        0\n",
       "Country Code                          0\n",
       "Research active institution           0\n",
       "Total students enrolled at ISCED 8    0\n",
       "R&D Expenditure (EURO)                0\n",
       "dtype: int64"
      ]
     },
     "execution_count": 139,
     "metadata": {},
     "output_type": "execute_result"
    }
   ],
   "source": [
    "data.isnull().sum()"
   ]
  },
  {
   "cell_type": "markdown",
   "metadata": {},
   "source": [
    "concatenating the predicted data with the data without missing values"
   ]
  },
  {
   "cell_type": "code",
   "execution_count": 140,
   "metadata": {},
   "outputs": [],
   "source": [
    "finaldata = pd.concat((data, Predict))"
   ]
  },
  {
   "cell_type": "code",
   "execution_count": 141,
   "metadata": {},
   "outputs": [
    {
     "data": {
      "text/html": [
       "<div>\n",
       "<style scoped>\n",
       "    .dataframe tbody tr th:only-of-type {\n",
       "        vertical-align: middle;\n",
       "    }\n",
       "\n",
       "    .dataframe tbody tr th {\n",
       "        vertical-align: top;\n",
       "    }\n",
       "\n",
       "    .dataframe thead th {\n",
       "        text-align: right;\n",
       "    }\n",
       "</style>\n",
       "<table border=\"1\" class=\"dataframe\">\n",
       "  <thead>\n",
       "    <tr style=\"text-align: right;\">\n",
       "      <th></th>\n",
       "      <th>Reference year</th>\n",
       "      <th>Country Code</th>\n",
       "      <th>Research active institution</th>\n",
       "      <th>Total students enrolled at ISCED 8</th>\n",
       "      <th>R&amp;D Expenditure (EURO)</th>\n",
       "    </tr>\n",
       "  </thead>\n",
       "  <tbody>\n",
       "    <tr>\n",
       "      <th>212</th>\n",
       "      <td>2015</td>\n",
       "      <td>FI</td>\n",
       "      <td>1.0</td>\n",
       "      <td>0.0</td>\n",
       "      <td>3226000.0</td>\n",
       "    </tr>\n",
       "  </tbody>\n",
       "</table>\n",
       "</div>"
      ],
      "text/plain": [
       "     Reference year Country Code  Research active institution  \\\n",
       "212            2015           FI                          1.0   \n",
       "\n",
       "     Total students enrolled at ISCED 8  R&D Expenditure (EURO)  \n",
       "212                                 0.0               3226000.0  "
      ]
     },
     "execution_count": 141,
     "metadata": {},
     "output_type": "execute_result"
    }
   ],
   "source": [
    "finaldata.head(1)"
   ]
  },
  {
   "cell_type": "code",
   "execution_count": 142,
   "metadata": {},
   "outputs": [
    {
     "data": {
      "text/plain": [
       "Reference year                        0\n",
       "Country Code                          0\n",
       "Research active institution           0\n",
       "Total students enrolled at ISCED 8    0\n",
       "R&D Expenditure (EURO)                0\n",
       "dtype: int64"
      ]
     },
     "execution_count": 142,
     "metadata": {},
     "output_type": "execute_result"
    }
   ],
   "source": [
    "finaldata.isnull().sum()"
   ]
  },
  {
   "cell_type": "code",
   "execution_count": 143,
   "metadata": {},
   "outputs": [],
   "source": [
    "finaldata.to_csv(\"finaldata2.csv\", index=True)"
   ]
  },
  {
   "cell_type": "code",
   "execution_count": 144,
   "metadata": {},
   "outputs": [],
   "source": [
    "#data per year \n",
    "finaldata_2011 = finaldata[finaldata[\"Reference year\"] == 2011]\n",
    "finaldata_2012 = finaldata[finaldata[\"Reference year\"] == 2012]\n",
    "finaldata_2013 = finaldata[finaldata[\"Reference year\"] == 2013]\n",
    "finaldata_2014 = finaldata[finaldata[\"Reference year\"] == 2014]\n",
    "finaldata_2015 = finaldata[finaldata[\"Reference year\"] == 2015]"
   ]
  },
  {
   "cell_type": "markdown",
   "metadata": {},
   "source": [
    "### Analysis of data in 2011\n"
   ]
  },
  {
   "cell_type": "code",
   "execution_count": 145,
   "metadata": {},
   "outputs": [
    {
     "data": {
      "text/html": [
       "<div>\n",
       "<style scoped>\n",
       "    .dataframe tbody tr th:only-of-type {\n",
       "        vertical-align: middle;\n",
       "    }\n",
       "\n",
       "    .dataframe tbody tr th {\n",
       "        vertical-align: top;\n",
       "    }\n",
       "\n",
       "    .dataframe thead th {\n",
       "        text-align: right;\n",
       "    }\n",
       "</style>\n",
       "<table border=\"1\" class=\"dataframe\">\n",
       "  <thead>\n",
       "    <tr style=\"text-align: right;\">\n",
       "      <th></th>\n",
       "      <th>R&amp;D Expenditure (EURO)</th>\n",
       "    </tr>\n",
       "    <tr>\n",
       "      <th>Country Code</th>\n",
       "      <th></th>\n",
       "    </tr>\n",
       "  </thead>\n",
       "  <tbody>\n",
       "    <tr>\n",
       "      <th>AL</th>\n",
       "      <td>4.539799e+05</td>\n",
       "    </tr>\n",
       "    <tr>\n",
       "      <th>AT</th>\n",
       "      <td>1.885075e+09</td>\n",
       "    </tr>\n",
       "    <tr>\n",
       "      <th>BE</th>\n",
       "      <td>1.258651e+07</td>\n",
       "    </tr>\n",
       "    <tr>\n",
       "      <th>BG</th>\n",
       "      <td>1.211826e+07</td>\n",
       "    </tr>\n",
       "    <tr>\n",
       "      <th>CH</th>\n",
       "      <td>3.690535e+09</td>\n",
       "    </tr>\n",
       "    <tr>\n",
       "      <th>CY</th>\n",
       "      <td>5.714400e+07</td>\n",
       "    </tr>\n",
       "    <tr>\n",
       "      <th>CZ</th>\n",
       "      <td>1.194684e+04</td>\n",
       "    </tr>\n",
       "    <tr>\n",
       "      <th>DE</th>\n",
       "      <td>1.970341e+08</td>\n",
       "    </tr>\n",
       "    <tr>\n",
       "      <th>DK</th>\n",
       "      <td>1.785706e+09</td>\n",
       "    </tr>\n",
       "    <tr>\n",
       "      <th>FI</th>\n",
       "      <td>1.194917e+09</td>\n",
       "    </tr>\n",
       "    <tr>\n",
       "      <th>GR</th>\n",
       "      <td>5.075067e+08</td>\n",
       "    </tr>\n",
       "    <tr>\n",
       "      <th>HU</th>\n",
       "      <td>2.423603e+08</td>\n",
       "    </tr>\n",
       "    <tr>\n",
       "      <th>IE</th>\n",
       "      <td>0.000000e+00</td>\n",
       "    </tr>\n",
       "    <tr>\n",
       "      <th>LT</th>\n",
       "      <td>1.485392e+08</td>\n",
       "    </tr>\n",
       "    <tr>\n",
       "      <th>LU</th>\n",
       "      <td>1.387353e+07</td>\n",
       "    </tr>\n",
       "    <tr>\n",
       "      <th>LV</th>\n",
       "      <td>5.164392e+07</td>\n",
       "    </tr>\n",
       "    <tr>\n",
       "      <th>NO</th>\n",
       "      <td>1.468694e+09</td>\n",
       "    </tr>\n",
       "    <tr>\n",
       "      <th>PL</th>\n",
       "      <td>5.595721e+08</td>\n",
       "    </tr>\n",
       "    <tr>\n",
       "      <th>SE</th>\n",
       "      <td>3.451018e+09</td>\n",
       "    </tr>\n",
       "    <tr>\n",
       "      <th>TR</th>\n",
       "      <td>2.054628e+08</td>\n",
       "    </tr>\n",
       "    <tr>\n",
       "      <th>UK</th>\n",
       "      <td>1.373509e+08</td>\n",
       "    </tr>\n",
       "  </tbody>\n",
       "</table>\n",
       "</div>"
      ],
      "text/plain": [
       "              R&D Expenditure (EURO)\n",
       "Country Code                        \n",
       "AL                      4.539799e+05\n",
       "AT                      1.885075e+09\n",
       "BE                      1.258651e+07\n",
       "BG                      1.211826e+07\n",
       "CH                      3.690535e+09\n",
       "CY                      5.714400e+07\n",
       "CZ                      1.194684e+04\n",
       "DE                      1.970341e+08\n",
       "DK                      1.785706e+09\n",
       "FI                      1.194917e+09\n",
       "GR                      5.075067e+08\n",
       "HU                      2.423603e+08\n",
       "IE                      0.000000e+00\n",
       "LT                      1.485392e+08\n",
       "LU                      1.387353e+07\n",
       "LV                      5.164392e+07\n",
       "NO                      1.468694e+09\n",
       "PL                      5.595721e+08\n",
       "SE                      3.451018e+09\n",
       "TR                      2.054628e+08\n",
       "UK                      1.373509e+08"
      ]
     },
     "execution_count": 145,
     "metadata": {},
     "output_type": "execute_result"
    }
   ],
   "source": [
    "fd_2011 = finaldata_2011.groupby([\"Country Code\"])[\"R&D Expenditure (EURO)\"].sum()\n",
    "ffd_2011 = pd.DataFrame(fd_2011)\n",
    "ffd_2011"
   ]
  },
  {
   "cell_type": "code",
   "execution_count": 146,
   "metadata": {},
   "outputs": [
    {
     "data": {
      "text/plain": [
       "<matplotlib.axes._subplots.AxesSubplot at 0x1a17a45860>"
      ]
     },
     "execution_count": 146,
     "metadata": {},
     "output_type": "execute_result"
    },
    {
     "data": {
      "image/png": "[encoded data removed]",
      "text/plain": [
       "<Figure size 720x360 with 1 Axes>"
      ]
     },
     "metadata": {},
     "output_type": "display_data"
    }
   ],
   "source": [
    "fd_2011.plot.bar(figsize=(10,5), title = \"Regional Research and Development Expenditure in 2011\")"
   ]
  },
  {
   "cell_type": "code",
   "execution_count": 147,
   "metadata": {},
   "outputs": [
    {
     "data": {
      "text/plain": [
       "Text(0, 0.5, 'R&D Expediture(Euro) in Billions')"
      ]
     },
     "execution_count": 147,
     "metadata": {},
     "output_type": "execute_result"
    },
    {
     "data": {
      "image/png": "[encoded data removed]",
      "text/plain": [
       "<Figure size 1440x720 with 1 Axes>"
      ]
     },
     "metadata": {},
     "output_type": "display_data"
    }
   ],
   "source": [
    "plt.figure(figsize = (20,10))\n",
    "sns.pointplot(fd_2011.index, fd_2011.values)\n",
    "plt.title(\"Regional Research and Development Expenditure in 2011\")\n",
    "plt.ylabel(\"R&D Expediture(Euro) in Billions\")"
   ]
  },
  {
   "cell_type": "markdown",
   "metadata": {},
   "source": [
    "### Analysis of data in 2012\n"
   ]
  },
  {
   "cell_type": "code",
   "execution_count": 148,
   "metadata": {},
   "outputs": [
    {
     "data": {
      "text/html": [
       "<div>\n",
       "<style scoped>\n",
       "    .dataframe tbody tr th:only-of-type {\n",
       "        vertical-align: middle;\n",
       "    }\n",
       "\n",
       "    .dataframe tbody tr th {\n",
       "        vertical-align: top;\n",
       "    }\n",
       "\n",
       "    .dataframe thead th {\n",
       "        text-align: right;\n",
       "    }\n",
       "</style>\n",
       "<table border=\"1\" class=\"dataframe\">\n",
       "  <thead>\n",
       "    <tr style=\"text-align: right;\">\n",
       "      <th></th>\n",
       "      <th>R&amp;D Expenditure (EURO)</th>\n",
       "    </tr>\n",
       "    <tr>\n",
       "      <th>Country Code</th>\n",
       "      <th></th>\n",
       "    </tr>\n",
       "  </thead>\n",
       "  <tbody>\n",
       "    <tr>\n",
       "      <th>AL</th>\n",
       "      <td>4.813261e+07</td>\n",
       "    </tr>\n",
       "    <tr>\n",
       "      <th>AT</th>\n",
       "      <td>1.318859e+08</td>\n",
       "    </tr>\n",
       "    <tr>\n",
       "      <th>BE</th>\n",
       "      <td>6.014255e+07</td>\n",
       "    </tr>\n",
       "    <tr>\n",
       "      <th>BG</th>\n",
       "      <td>2.471245e+07</td>\n",
       "    </tr>\n",
       "    <tr>\n",
       "      <th>CH</th>\n",
       "      <td>3.506390e+09</td>\n",
       "    </tr>\n",
       "    <tr>\n",
       "      <th>CY</th>\n",
       "      <td>6.113462e+07</td>\n",
       "    </tr>\n",
       "    <tr>\n",
       "      <th>CZ</th>\n",
       "      <td>1.133894e+08</td>\n",
       "    </tr>\n",
       "    <tr>\n",
       "      <th>DE</th>\n",
       "      <td>5.848813e+08</td>\n",
       "    </tr>\n",
       "    <tr>\n",
       "      <th>DK</th>\n",
       "      <td>1.875911e+09</td>\n",
       "    </tr>\n",
       "    <tr>\n",
       "      <th>EE</th>\n",
       "      <td>7.040436e+06</td>\n",
       "    </tr>\n",
       "    <tr>\n",
       "      <th>ES</th>\n",
       "      <td>1.882417e+08</td>\n",
       "    </tr>\n",
       "    <tr>\n",
       "      <th>FI</th>\n",
       "      <td>1.335196e+09</td>\n",
       "    </tr>\n",
       "    <tr>\n",
       "      <th>FR</th>\n",
       "      <td>2.986479e+08</td>\n",
       "    </tr>\n",
       "    <tr>\n",
       "      <th>GR</th>\n",
       "      <td>5.128903e+08</td>\n",
       "    </tr>\n",
       "    <tr>\n",
       "      <th>HR</th>\n",
       "      <td>1.202008e+07</td>\n",
       "    </tr>\n",
       "    <tr>\n",
       "      <th>HU</th>\n",
       "      <td>6.421266e+07</td>\n",
       "    </tr>\n",
       "    <tr>\n",
       "      <th>IE</th>\n",
       "      <td>2.224489e+07</td>\n",
       "    </tr>\n",
       "    <tr>\n",
       "      <th>IS</th>\n",
       "      <td>1.752963e+07</td>\n",
       "    </tr>\n",
       "    <tr>\n",
       "      <th>IT</th>\n",
       "      <td>7.434312e+07</td>\n",
       "    </tr>\n",
       "    <tr>\n",
       "      <th>LI</th>\n",
       "      <td>2.377240e+05</td>\n",
       "    </tr>\n",
       "    <tr>\n",
       "      <th>LT</th>\n",
       "      <td>1.889065e+08</td>\n",
       "    </tr>\n",
       "    <tr>\n",
       "      <th>LU</th>\n",
       "      <td>9.912581e+05</td>\n",
       "    </tr>\n",
       "    <tr>\n",
       "      <th>LV</th>\n",
       "      <td>1.322273e+08</td>\n",
       "    </tr>\n",
       "    <tr>\n",
       "      <th>ME</th>\n",
       "      <td>9.874853e+06</td>\n",
       "    </tr>\n",
       "    <tr>\n",
       "      <th>MK</th>\n",
       "      <td>8.893804e+06</td>\n",
       "    </tr>\n",
       "    <tr>\n",
       "      <th>MT</th>\n",
       "      <td>2.656533e+06</td>\n",
       "    </tr>\n",
       "    <tr>\n",
       "      <th>NL</th>\n",
       "      <td>6.355959e+07</td>\n",
       "    </tr>\n",
       "    <tr>\n",
       "      <th>NO</th>\n",
       "      <td>8.690010e+07</td>\n",
       "    </tr>\n",
       "    <tr>\n",
       "      <th>PL</th>\n",
       "      <td>1.284395e+09</td>\n",
       "    </tr>\n",
       "    <tr>\n",
       "      <th>PT</th>\n",
       "      <td>3.261848e+07</td>\n",
       "    </tr>\n",
       "    <tr>\n",
       "      <th>RO</th>\n",
       "      <td>2.068566e+09</td>\n",
       "    </tr>\n",
       "    <tr>\n",
       "      <th>RS</th>\n",
       "      <td>1.193338e+08</td>\n",
       "    </tr>\n",
       "    <tr>\n",
       "      <th>SE</th>\n",
       "      <td>3.822744e+09</td>\n",
       "    </tr>\n",
       "    <tr>\n",
       "      <th>SI</th>\n",
       "      <td>4.110403e+07</td>\n",
       "    </tr>\n",
       "    <tr>\n",
       "      <th>SK</th>\n",
       "      <td>2.076680e+08</td>\n",
       "    </tr>\n",
       "    <tr>\n",
       "      <th>TR</th>\n",
       "      <td>5.138021e+08</td>\n",
       "    </tr>\n",
       "    <tr>\n",
       "      <th>UK</th>\n",
       "      <td>6.871502e+08</td>\n",
       "    </tr>\n",
       "  </tbody>\n",
       "</table>\n",
       "</div>"
      ],
      "text/plain": [
       "              R&D Expenditure (EURO)\n",
       "Country Code                        \n",
       "AL                      4.813261e+07\n",
       "AT                      1.318859e+08\n",
       "BE                      6.014255e+07\n",
       "BG                      2.471245e+07\n",
       "CH                      3.506390e+09\n",
       "CY                      6.113462e+07\n",
       "CZ                      1.133894e+08\n",
       "DE                      5.848813e+08\n",
       "DK                      1.875911e+09\n",
       "EE                      7.040436e+06\n",
       "ES                      1.882417e+08\n",
       "FI                      1.335196e+09\n",
       "FR                      2.986479e+08\n",
       "GR                      5.128903e+08\n",
       "HR                      1.202008e+07\n",
       "HU                      6.421266e+07\n",
       "IE                      2.224489e+07\n",
       "IS                      1.752963e+07\n",
       "IT                      7.434312e+07\n",
       "LI                      2.377240e+05\n",
       "LT                      1.889065e+08\n",
       "LU                      9.912581e+05\n",
       "LV                      1.322273e+08\n",
       "ME                      9.874853e+06\n",
       "MK                      8.893804e+06\n",
       "MT                      2.656533e+06\n",
       "NL                      6.355959e+07\n",
       "NO                      8.690010e+07\n",
       "PL                      1.284395e+09\n",
       "PT                      3.261848e+07\n",
       "RO                      2.068566e+09\n",
       "RS                      1.193338e+08\n",
       "SE                      3.822744e+09\n",
       "SI                      4.110403e+07\n",
       "SK                      2.076680e+08\n",
       "TR                      5.138021e+08\n",
       "UK                      6.871502e+08"
      ]
     },
     "execution_count": 148,
     "metadata": {},
     "output_type": "execute_result"
    }
   ],
   "source": [
    "#analysis data in 2012\n",
    "fd_2012 = finaldata_2012.groupby([\"Country Code\"])[\"R&D Expenditure (EURO)\"].sum()\n",
    "ffd_2012 = pd.DataFrame(fd_2012)\n",
    "ffd_2012"
   ]
  },
  {
   "cell_type": "code",
   "execution_count": 149,
   "metadata": {},
   "outputs": [
    {
     "data": {
      "text/plain": [
       "<matplotlib.axes._subplots.AxesSubplot at 0x1a17bfbf60>"
      ]
     },
     "execution_count": 149,
     "metadata": {},
     "output_type": "execute_result"
    },
    {
     "data": {
      "image/png": "[encoded data removed]",
      "text/plain": [
       "<Figure size 720x360 with 1 Axes>"
      ]
     },
     "metadata": {},
     "output_type": "display_data"
    }
   ],
   "source": [
    "fd_2012.plot.bar(figsize=(10,5), title = \"Regional Research and Development Expenditure in 2012\")"
   ]
  },
  {
   "cell_type": "code",
   "execution_count": 150,
   "metadata": {},
   "outputs": [
    {
     "data": {
      "text/plain": [
       "Text(0, 0.5, 'R&D Expediture(Euro) in Billions')"
      ]
     },
     "execution_count": 150,
     "metadata": {},
     "output_type": "execute_result"
    },
    {
     "data": {
      "image/png": "[encoded data removed]",
      "text/plain": [
       "<Figure size 1440x720 with 1 Axes>"
      ]
     },
     "metadata": {},
     "output_type": "display_data"
    }
   ],
   "source": [
    "plt.figure(figsize = (20,10))\n",
    "sns.pointplot(fd_2012.index, fd_2012.values)\n",
    "plt.title(\"Regional Research and Development Expenditure in 2012\")\n",
    "plt.ylabel(\"R&D Expediture(Euro) in Billions\")"
   ]
  },
  {
   "cell_type": "markdown",
   "metadata": {},
   "source": [
    "### Analysis of data in 2013\n"
   ]
  },
  {
   "cell_type": "code",
   "execution_count": 151,
   "metadata": {},
   "outputs": [
    {
     "data": {
      "text/html": [
       "<div>\n",
       "<style scoped>\n",
       "    .dataframe tbody tr th:only-of-type {\n",
       "        vertical-align: middle;\n",
       "    }\n",
       "\n",
       "    .dataframe tbody tr th {\n",
       "        vertical-align: top;\n",
       "    }\n",
       "\n",
       "    .dataframe thead th {\n",
       "        text-align: right;\n",
       "    }\n",
       "</style>\n",
       "<table border=\"1\" class=\"dataframe\">\n",
       "  <thead>\n",
       "    <tr style=\"text-align: right;\">\n",
       "      <th></th>\n",
       "      <th>R&amp;D Expenditure (EURO)</th>\n",
       "    </tr>\n",
       "    <tr>\n",
       "      <th>Country Code</th>\n",
       "      <th></th>\n",
       "    </tr>\n",
       "  </thead>\n",
       "  <tbody>\n",
       "    <tr>\n",
       "      <th>AL</th>\n",
       "      <td>5.783430e+07</td>\n",
       "    </tr>\n",
       "    <tr>\n",
       "      <th>AT</th>\n",
       "      <td>2.145857e+09</td>\n",
       "    </tr>\n",
       "    <tr>\n",
       "      <th>BE</th>\n",
       "      <td>2.059377e+08</td>\n",
       "    </tr>\n",
       "    <tr>\n",
       "      <th>BG</th>\n",
       "      <td>1.013625e+08</td>\n",
       "    </tr>\n",
       "    <tr>\n",
       "      <th>CH</th>\n",
       "      <td>3.597332e+09</td>\n",
       "    </tr>\n",
       "    <tr>\n",
       "      <th>CY</th>\n",
       "      <td>8.442872e+07</td>\n",
       "    </tr>\n",
       "    <tr>\n",
       "      <th>CZ</th>\n",
       "      <td>1.331442e+08</td>\n",
       "    </tr>\n",
       "    <tr>\n",
       "      <th>DE</th>\n",
       "      <td>1.049265e+09</td>\n",
       "    </tr>\n",
       "    <tr>\n",
       "      <th>DK</th>\n",
       "      <td>2.043812e+09</td>\n",
       "    </tr>\n",
       "    <tr>\n",
       "      <th>EE</th>\n",
       "      <td>4.539719e+07</td>\n",
       "    </tr>\n",
       "    <tr>\n",
       "      <th>ES</th>\n",
       "      <td>5.790045e+07</td>\n",
       "    </tr>\n",
       "    <tr>\n",
       "      <th>FI</th>\n",
       "      <td>1.435996e+09</td>\n",
       "    </tr>\n",
       "    <tr>\n",
       "      <th>FR</th>\n",
       "      <td>5.667531e+08</td>\n",
       "    </tr>\n",
       "    <tr>\n",
       "      <th>GR</th>\n",
       "      <td>1.456375e+07</td>\n",
       "    </tr>\n",
       "    <tr>\n",
       "      <th>HR</th>\n",
       "      <td>4.163192e+06</td>\n",
       "    </tr>\n",
       "    <tr>\n",
       "      <th>HU</th>\n",
       "      <td>2.148191e+08</td>\n",
       "    </tr>\n",
       "    <tr>\n",
       "      <th>IE</th>\n",
       "      <td>4.729030e+07</td>\n",
       "    </tr>\n",
       "    <tr>\n",
       "      <th>IS</th>\n",
       "      <td>4.451521e+06</td>\n",
       "    </tr>\n",
       "    <tr>\n",
       "      <th>IT</th>\n",
       "      <td>2.545105e+08</td>\n",
       "    </tr>\n",
       "    <tr>\n",
       "      <th>LI</th>\n",
       "      <td>5.881256e+05</td>\n",
       "    </tr>\n",
       "    <tr>\n",
       "      <th>LT</th>\n",
       "      <td>2.437244e+08</td>\n",
       "    </tr>\n",
       "    <tr>\n",
       "      <th>LU</th>\n",
       "      <td>2.178294e+07</td>\n",
       "    </tr>\n",
       "    <tr>\n",
       "      <th>LV</th>\n",
       "      <td>1.474382e+08</td>\n",
       "    </tr>\n",
       "    <tr>\n",
       "      <th>ME</th>\n",
       "      <td>4.188025e+05</td>\n",
       "    </tr>\n",
       "    <tr>\n",
       "      <th>MK</th>\n",
       "      <td>5.288550e+06</td>\n",
       "    </tr>\n",
       "    <tr>\n",
       "      <th>MT</th>\n",
       "      <td>2.296692e+07</td>\n",
       "    </tr>\n",
       "    <tr>\n",
       "      <th>NL</th>\n",
       "      <td>7.554172e+07</td>\n",
       "    </tr>\n",
       "    <tr>\n",
       "      <th>NO</th>\n",
       "      <td>1.716348e+09</td>\n",
       "    </tr>\n",
       "    <tr>\n",
       "      <th>PL</th>\n",
       "      <td>8.558897e+08</td>\n",
       "    </tr>\n",
       "    <tr>\n",
       "      <th>PT</th>\n",
       "      <td>2.004994e+06</td>\n",
       "    </tr>\n",
       "    <tr>\n",
       "      <th>RO</th>\n",
       "      <td>2.445574e+08</td>\n",
       "    </tr>\n",
       "    <tr>\n",
       "      <th>RS</th>\n",
       "      <td>1.770972e+07</td>\n",
       "    </tr>\n",
       "    <tr>\n",
       "      <th>SE</th>\n",
       "      <td>3.958751e+09</td>\n",
       "    </tr>\n",
       "    <tr>\n",
       "      <th>SI</th>\n",
       "      <td>1.155287e+08</td>\n",
       "    </tr>\n",
       "    <tr>\n",
       "      <th>SK</th>\n",
       "      <td>2.688488e+08</td>\n",
       "    </tr>\n",
       "    <tr>\n",
       "      <th>TR</th>\n",
       "      <td>4.152985e+08</td>\n",
       "    </tr>\n",
       "    <tr>\n",
       "      <th>UK</th>\n",
       "      <td>3.387751e+08</td>\n",
       "    </tr>\n",
       "  </tbody>\n",
       "</table>\n",
       "</div>"
      ],
      "text/plain": [
       "              R&D Expenditure (EURO)\n",
       "Country Code                        \n",
       "AL                      5.783430e+07\n",
       "AT                      2.145857e+09\n",
       "BE                      2.059377e+08\n",
       "BG                      1.013625e+08\n",
       "CH                      3.597332e+09\n",
       "CY                      8.442872e+07\n",
       "CZ                      1.331442e+08\n",
       "DE                      1.049265e+09\n",
       "DK                      2.043812e+09\n",
       "EE                      4.539719e+07\n",
       "ES                      5.790045e+07\n",
       "FI                      1.435996e+09\n",
       "FR                      5.667531e+08\n",
       "GR                      1.456375e+07\n",
       "HR                      4.163192e+06\n",
       "HU                      2.148191e+08\n",
       "IE                      4.729030e+07\n",
       "IS                      4.451521e+06\n",
       "IT                      2.545105e+08\n",
       "LI                      5.881256e+05\n",
       "LT                      2.437244e+08\n",
       "LU                      2.178294e+07\n",
       "LV                      1.474382e+08\n",
       "ME                      4.188025e+05\n",
       "MK                      5.288550e+06\n",
       "MT                      2.296692e+07\n",
       "NL                      7.554172e+07\n",
       "NO                      1.716348e+09\n",
       "PL                      8.558897e+08\n",
       "PT                      2.004994e+06\n",
       "RO                      2.445574e+08\n",
       "RS                      1.770972e+07\n",
       "SE                      3.958751e+09\n",
       "SI                      1.155287e+08\n",
       "SK                      2.688488e+08\n",
       "TR                      4.152985e+08\n",
       "UK                      3.387751e+08"
      ]
     },
     "execution_count": 151,
     "metadata": {},
     "output_type": "execute_result"
    }
   ],
   "source": [
    "#analysis data in 2013\n",
    "fd_2013 = finaldata_2013.groupby([\"Country Code\"])[\"R&D Expenditure (EURO)\"].sum()\n",
    "ffd_2013 = pd.DataFrame(fd_2013)\n",
    "ffd_2013"
   ]
  },
  {
   "cell_type": "code",
   "execution_count": 152,
   "metadata": {},
   "outputs": [
    {
     "data": {
      "text/plain": [
       "<matplotlib.axes._subplots.AxesSubplot at 0x1a178fb160>"
      ]
     },
     "execution_count": 152,
     "metadata": {},
     "output_type": "execute_result"
    },
    {
     "data": {
      "image/png": "[encoded data removed]",
      "text/plain": [
       "<Figure size 720x360 with 1 Axes>"
      ]
     },
     "metadata": {},
     "output_type": "display_data"
    }
   ],
   "source": [
    "fd_2013.plot.bar(figsize=(10,5), title = \"Regional Research and Development Expenditure in 2013\")"
   ]
  },
  {
   "cell_type": "code",
   "execution_count": 153,
   "metadata": {},
   "outputs": [
    {
     "data": {
      "text/plain": [
       "Text(0, 0.5, 'R&D Expediture(Euro) in Billions')"
      ]
     },
     "execution_count": 153,
     "metadata": {},
     "output_type": "execute_result"
    },
    {
     "data": {
      "image/png": "[encoded data removed]",
      "text/plain": [
       "<Figure size 1440x720 with 1 Axes>"
      ]
     },
     "metadata": {},
     "output_type": "display_data"
    }
   ],
   "source": [
    "plt.figure(figsize = (20,10))\n",
    "sns.pointplot(fd_2013.index, fd_2013.values)\n",
    "plt.title(\"Regional Research and Development Expenditure in 2013\")\n",
    "plt.ylabel(\"R&D Expediture(Euro) in Billions\")"
   ]
  },
  {
   "cell_type": "markdown",
   "metadata": {},
   "source": [
    "### Analysis of data in 2014\n"
   ]
  },
  {
   "cell_type": "code",
   "execution_count": 154,
   "metadata": {},
   "outputs": [
    {
     "data": {
      "text/html": [
       "<div>\n",
       "<style scoped>\n",
       "    .dataframe tbody tr th:only-of-type {\n",
       "        vertical-align: middle;\n",
       "    }\n",
       "\n",
       "    .dataframe tbody tr th {\n",
       "        vertical-align: top;\n",
       "    }\n",
       "\n",
       "    .dataframe thead th {\n",
       "        text-align: right;\n",
       "    }\n",
       "</style>\n",
       "<table border=\"1\" class=\"dataframe\">\n",
       "  <thead>\n",
       "    <tr style=\"text-align: right;\">\n",
       "      <th></th>\n",
       "      <th>R&amp;D Expenditure (EURO)</th>\n",
       "    </tr>\n",
       "    <tr>\n",
       "      <th>Country Code</th>\n",
       "      <th></th>\n",
       "    </tr>\n",
       "  </thead>\n",
       "  <tbody>\n",
       "    <tr>\n",
       "      <th>AL</th>\n",
       "      <td>4.205092e+06</td>\n",
       "    </tr>\n",
       "    <tr>\n",
       "      <th>AT</th>\n",
       "      <td>8.638084e+07</td>\n",
       "    </tr>\n",
       "    <tr>\n",
       "      <th>BE</th>\n",
       "      <td>1.120541e+08</td>\n",
       "    </tr>\n",
       "    <tr>\n",
       "      <th>BG</th>\n",
       "      <td>3.747954e+06</td>\n",
       "    </tr>\n",
       "    <tr>\n",
       "      <th>CH</th>\n",
       "      <td>4.094217e+09</td>\n",
       "    </tr>\n",
       "    <tr>\n",
       "      <th>CY</th>\n",
       "      <td>4.335862e+07</td>\n",
       "    </tr>\n",
       "    <tr>\n",
       "      <th>CZ</th>\n",
       "      <td>1.304276e+09</td>\n",
       "    </tr>\n",
       "    <tr>\n",
       "      <th>DE</th>\n",
       "      <td>1.000245e+09</td>\n",
       "    </tr>\n",
       "    <tr>\n",
       "      <th>DK</th>\n",
       "      <td>1.312918e+06</td>\n",
       "    </tr>\n",
       "    <tr>\n",
       "      <th>EE</th>\n",
       "      <td>8.570030e+06</td>\n",
       "    </tr>\n",
       "    <tr>\n",
       "      <th>ES</th>\n",
       "      <td>7.666511e+07</td>\n",
       "    </tr>\n",
       "    <tr>\n",
       "      <th>FI</th>\n",
       "      <td>1.560774e+09</td>\n",
       "    </tr>\n",
       "    <tr>\n",
       "      <th>FR</th>\n",
       "      <td>9.543053e+08</td>\n",
       "    </tr>\n",
       "    <tr>\n",
       "      <th>GR</th>\n",
       "      <td>2.767771e+08</td>\n",
       "    </tr>\n",
       "    <tr>\n",
       "      <th>HR</th>\n",
       "      <td>6.383286e+07</td>\n",
       "    </tr>\n",
       "    <tr>\n",
       "      <th>HU</th>\n",
       "      <td>2.896710e+08</td>\n",
       "    </tr>\n",
       "    <tr>\n",
       "      <th>IE</th>\n",
       "      <td>4.047274e+07</td>\n",
       "    </tr>\n",
       "    <tr>\n",
       "      <th>IS</th>\n",
       "      <td>6.911151e+06</td>\n",
       "    </tr>\n",
       "    <tr>\n",
       "      <th>IT</th>\n",
       "      <td>2.249856e+08</td>\n",
       "    </tr>\n",
       "    <tr>\n",
       "      <th>LI</th>\n",
       "      <td>5.314745e+04</td>\n",
       "    </tr>\n",
       "    <tr>\n",
       "      <th>LT</th>\n",
       "      <td>3.195161e+08</td>\n",
       "    </tr>\n",
       "    <tr>\n",
       "      <th>LU</th>\n",
       "      <td>2.446580e+07</td>\n",
       "    </tr>\n",
       "    <tr>\n",
       "      <th>LV</th>\n",
       "      <td>1.198185e+08</td>\n",
       "    </tr>\n",
       "    <tr>\n",
       "      <th>ME</th>\n",
       "      <td>6.548779e+05</td>\n",
       "    </tr>\n",
       "    <tr>\n",
       "      <th>MK</th>\n",
       "      <td>4.710002e+07</td>\n",
       "    </tr>\n",
       "    <tr>\n",
       "      <th>MT</th>\n",
       "      <td>2.627051e+07</td>\n",
       "    </tr>\n",
       "    <tr>\n",
       "      <th>NL</th>\n",
       "      <td>7.732218e+07</td>\n",
       "    </tr>\n",
       "    <tr>\n",
       "      <th>NO</th>\n",
       "      <td>3.349934e+06</td>\n",
       "    </tr>\n",
       "    <tr>\n",
       "      <th>PL</th>\n",
       "      <td>8.191369e+08</td>\n",
       "    </tr>\n",
       "    <tr>\n",
       "      <th>PT</th>\n",
       "      <td>4.407153e+07</td>\n",
       "    </tr>\n",
       "    <tr>\n",
       "      <th>RO</th>\n",
       "      <td>1.350695e+08</td>\n",
       "    </tr>\n",
       "    <tr>\n",
       "      <th>RS</th>\n",
       "      <td>1.195047e+08</td>\n",
       "    </tr>\n",
       "    <tr>\n",
       "      <th>SE</th>\n",
       "      <td>4.883710e+07</td>\n",
       "    </tr>\n",
       "    <tr>\n",
       "      <th>SI</th>\n",
       "      <td>1.365025e+08</td>\n",
       "    </tr>\n",
       "    <tr>\n",
       "      <th>SK</th>\n",
       "      <td>3.746766e+08</td>\n",
       "    </tr>\n",
       "    <tr>\n",
       "      <th>TR</th>\n",
       "      <td>4.926351e+08</td>\n",
       "    </tr>\n",
       "    <tr>\n",
       "      <th>UK</th>\n",
       "      <td>4.056108e+08</td>\n",
       "    </tr>\n",
       "  </tbody>\n",
       "</table>\n",
       "</div>"
      ],
      "text/plain": [
       "              R&D Expenditure (EURO)\n",
       "Country Code                        \n",
       "AL                      4.205092e+06\n",
       "AT                      8.638084e+07\n",
       "BE                      1.120541e+08\n",
       "BG                      3.747954e+06\n",
       "CH                      4.094217e+09\n",
       "CY                      4.335862e+07\n",
       "CZ                      1.304276e+09\n",
       "DE                      1.000245e+09\n",
       "DK                      1.312918e+06\n",
       "EE                      8.570030e+06\n",
       "ES                      7.666511e+07\n",
       "FI                      1.560774e+09\n",
       "FR                      9.543053e+08\n",
       "GR                      2.767771e+08\n",
       "HR                      6.383286e+07\n",
       "HU                      2.896710e+08\n",
       "IE                      4.047274e+07\n",
       "IS                      6.911151e+06\n",
       "IT                      2.249856e+08\n",
       "LI                      5.314745e+04\n",
       "LT                      3.195161e+08\n",
       "LU                      2.446580e+07\n",
       "LV                      1.198185e+08\n",
       "ME                      6.548779e+05\n",
       "MK                      4.710002e+07\n",
       "MT                      2.627051e+07\n",
       "NL                      7.732218e+07\n",
       "NO                      3.349934e+06\n",
       "PL                      8.191369e+08\n",
       "PT                      4.407153e+07\n",
       "RO                      1.350695e+08\n",
       "RS                      1.195047e+08\n",
       "SE                      4.883710e+07\n",
       "SI                      1.365025e+08\n",
       "SK                      3.746766e+08\n",
       "TR                      4.926351e+08\n",
       "UK                      4.056108e+08"
      ]
     },
     "execution_count": 154,
     "metadata": {},
     "output_type": "execute_result"
    }
   ],
   "source": [
    "#analysis data in 2014\n",
    "fd_2014 = finaldata_2014.groupby([\"Country Code\"])[\"R&D Expenditure (EURO)\"].sum()\n",
    "ffd_2014 = pd.DataFrame(fd_2014)\n",
    "ffd_2014"
   ]
  },
  {
   "cell_type": "code",
   "execution_count": 155,
   "metadata": {},
   "outputs": [
    {
     "data": {
      "text/plain": [
       "<matplotlib.axes._subplots.AxesSubplot at 0x1a178c4c88>"
      ]
     },
     "execution_count": 155,
     "metadata": {},
     "output_type": "execute_result"
    },
    {
     "data": {
      "image/png": "[encoded data removed]",
      "text/plain": [
       "<Figure size 720x360 with 1 Axes>"
      ]
     },
     "metadata": {},
     "output_type": "display_data"
    }
   ],
   "source": [
    "fd_2014.plot.bar(figsize=(10,5), title = \"Regional Research and Development Expenditure in 2014\")"
   ]
  },
  {
   "cell_type": "code",
   "execution_count": 156,
   "metadata": {},
   "outputs": [
    {
     "data": {
      "text/plain": [
       "Text(0, 0.5, 'R&D Expediture(Euro) in Billions')"
      ]
     },
     "execution_count": 156,
     "metadata": {},
     "output_type": "execute_result"
    },
    {
     "data": {
      "image/png": "[encoded data removed]",
      "text/plain": [
       "<Figure size 1440x720 with 1 Axes>"
      ]
     },
     "metadata": {},
     "output_type": "display_data"
    }
   ],
   "source": [
    "plt.figure(figsize = (20,10))\n",
    "sns.pointplot(fd_2014.index, fd_2014.values)\n",
    "plt.title(\"Regional Research and Development Expenditure in 2014\")\n",
    "plt.ylabel(\"R&D Expediture(Euro) in Billions\")"
   ]
  },
  {
   "cell_type": "markdown",
   "metadata": {},
   "source": [
    "### Analysis of data in 2015"
   ]
  },
  {
   "cell_type": "code",
   "execution_count": 157,
   "metadata": {},
   "outputs": [
    {
     "data": {
      "text/html": [
       "<div>\n",
       "<style scoped>\n",
       "    .dataframe tbody tr th:only-of-type {\n",
       "        vertical-align: middle;\n",
       "    }\n",
       "\n",
       "    .dataframe tbody tr th {\n",
       "        vertical-align: top;\n",
       "    }\n",
       "\n",
       "    .dataframe thead th {\n",
       "        text-align: right;\n",
       "    }\n",
       "</style>\n",
       "<table border=\"1\" class=\"dataframe\">\n",
       "  <thead>\n",
       "    <tr style=\"text-align: right;\">\n",
       "      <th></th>\n",
       "      <th>R&amp;D Expenditure (EURO)</th>\n",
       "    </tr>\n",
       "    <tr>\n",
       "      <th>Country Code</th>\n",
       "      <th></th>\n",
       "    </tr>\n",
       "  </thead>\n",
       "  <tbody>\n",
       "    <tr>\n",
       "      <th>AL</th>\n",
       "      <td>5.190641e+07</td>\n",
       "    </tr>\n",
       "    <tr>\n",
       "      <th>AT</th>\n",
       "      <td>2.285157e+09</td>\n",
       "    </tr>\n",
       "    <tr>\n",
       "      <th>BE</th>\n",
       "      <td>1.569732e+08</td>\n",
       "    </tr>\n",
       "    <tr>\n",
       "      <th>BG</th>\n",
       "      <td>1.137190e+08</td>\n",
       "    </tr>\n",
       "    <tr>\n",
       "      <th>CH</th>\n",
       "      <td>4.447051e+09</td>\n",
       "    </tr>\n",
       "    <tr>\n",
       "      <th>CY</th>\n",
       "      <td>6.967665e+07</td>\n",
       "    </tr>\n",
       "    <tr>\n",
       "      <th>CZ</th>\n",
       "      <td>1.141190e+08</td>\n",
       "    </tr>\n",
       "    <tr>\n",
       "      <th>DE</th>\n",
       "      <td>6.663119e+08</td>\n",
       "    </tr>\n",
       "    <tr>\n",
       "      <th>DK</th>\n",
       "      <td>5.444993e+07</td>\n",
       "    </tr>\n",
       "    <tr>\n",
       "      <th>EE</th>\n",
       "      <td>1.853612e+08</td>\n",
       "    </tr>\n",
       "    <tr>\n",
       "      <th>ES</th>\n",
       "      <td>2.027208e+08</td>\n",
       "    </tr>\n",
       "    <tr>\n",
       "      <th>FI</th>\n",
       "      <td>2.012082e+09</td>\n",
       "    </tr>\n",
       "    <tr>\n",
       "      <th>FR</th>\n",
       "      <td>8.573626e+08</td>\n",
       "    </tr>\n",
       "    <tr>\n",
       "      <th>GR</th>\n",
       "      <td>7.200179e+07</td>\n",
       "    </tr>\n",
       "    <tr>\n",
       "      <th>HR</th>\n",
       "      <td>3.072905e+07</td>\n",
       "    </tr>\n",
       "    <tr>\n",
       "      <th>HU</th>\n",
       "      <td>3.446169e+08</td>\n",
       "    </tr>\n",
       "    <tr>\n",
       "      <th>IE</th>\n",
       "      <td>7.461748e+07</td>\n",
       "    </tr>\n",
       "    <tr>\n",
       "      <th>IS</th>\n",
       "      <td>5.800191e+06</td>\n",
       "    </tr>\n",
       "    <tr>\n",
       "      <th>IT</th>\n",
       "      <td>2.055009e+08</td>\n",
       "    </tr>\n",
       "    <tr>\n",
       "      <th>LI</th>\n",
       "      <td>4.823375e+06</td>\n",
       "    </tr>\n",
       "    <tr>\n",
       "      <th>LT</th>\n",
       "      <td>4.536305e+08</td>\n",
       "    </tr>\n",
       "    <tr>\n",
       "      <th>LU</th>\n",
       "      <td>2.357402e+07</td>\n",
       "    </tr>\n",
       "    <tr>\n",
       "      <th>LV</th>\n",
       "      <td>1.603813e+08</td>\n",
       "    </tr>\n",
       "    <tr>\n",
       "      <th>ME</th>\n",
       "      <td>4.409644e+07</td>\n",
       "    </tr>\n",
       "    <tr>\n",
       "      <th>MK</th>\n",
       "      <td>1.704382e+07</td>\n",
       "    </tr>\n",
       "    <tr>\n",
       "      <th>MT</th>\n",
       "      <td>2.698044e+07</td>\n",
       "    </tr>\n",
       "    <tr>\n",
       "      <th>NL</th>\n",
       "      <td>4.599738e+08</td>\n",
       "    </tr>\n",
       "    <tr>\n",
       "      <th>NO</th>\n",
       "      <td>1.728548e+09</td>\n",
       "    </tr>\n",
       "    <tr>\n",
       "      <th>PL</th>\n",
       "      <td>1.034952e+09</td>\n",
       "    </tr>\n",
       "    <tr>\n",
       "      <th>PT</th>\n",
       "      <td>5.159621e+07</td>\n",
       "    </tr>\n",
       "    <tr>\n",
       "      <th>RO</th>\n",
       "      <td>3.001445e+08</td>\n",
       "    </tr>\n",
       "    <tr>\n",
       "      <th>RS</th>\n",
       "      <td>2.023573e+08</td>\n",
       "    </tr>\n",
       "    <tr>\n",
       "      <th>SE</th>\n",
       "      <td>1.805753e+08</td>\n",
       "    </tr>\n",
       "    <tr>\n",
       "      <th>SI</th>\n",
       "      <td>4.110128e+07</td>\n",
       "    </tr>\n",
       "    <tr>\n",
       "      <th>SK</th>\n",
       "      <td>2.262791e+08</td>\n",
       "    </tr>\n",
       "    <tr>\n",
       "      <th>TR</th>\n",
       "      <td>6.884625e+08</td>\n",
       "    </tr>\n",
       "    <tr>\n",
       "      <th>UK</th>\n",
       "      <td>6.252237e+08</td>\n",
       "    </tr>\n",
       "  </tbody>\n",
       "</table>\n",
       "</div>"
      ],
      "text/plain": [
       "              R&D Expenditure (EURO)\n",
       "Country Code                        \n",
       "AL                      5.190641e+07\n",
       "AT                      2.285157e+09\n",
       "BE                      1.569732e+08\n",
       "BG                      1.137190e+08\n",
       "CH                      4.447051e+09\n",
       "CY                      6.967665e+07\n",
       "CZ                      1.141190e+08\n",
       "DE                      6.663119e+08\n",
       "DK                      5.444993e+07\n",
       "EE                      1.853612e+08\n",
       "ES                      2.027208e+08\n",
       "FI                      2.012082e+09\n",
       "FR                      8.573626e+08\n",
       "GR                      7.200179e+07\n",
       "HR                      3.072905e+07\n",
       "HU                      3.446169e+08\n",
       "IE                      7.461748e+07\n",
       "IS                      5.800191e+06\n",
       "IT                      2.055009e+08\n",
       "LI                      4.823375e+06\n",
       "LT                      4.536305e+08\n",
       "LU                      2.357402e+07\n",
       "LV                      1.603813e+08\n",
       "ME                      4.409644e+07\n",
       "MK                      1.704382e+07\n",
       "MT                      2.698044e+07\n",
       "NL                      4.599738e+08\n",
       "NO                      1.728548e+09\n",
       "PL                      1.034952e+09\n",
       "PT                      5.159621e+07\n",
       "RO                      3.001445e+08\n",
       "RS                      2.023573e+08\n",
       "SE                      1.805753e+08\n",
       "SI                      4.110128e+07\n",
       "SK                      2.262791e+08\n",
       "TR                      6.884625e+08\n",
       "UK                      6.252237e+08"
      ]
     },
     "execution_count": 157,
     "metadata": {},
     "output_type": "execute_result"
    }
   ],
   "source": [
    "#analysis data in 2014\n",
    "fd_2015 = finaldata_2015.groupby([\"Country Code\"])[\"R&D Expenditure (EURO)\"].sum()\n",
    "ffd_2015 = pd.DataFrame(fd_2015)\n",
    "ffd_2015"
   ]
  },
  {
   "cell_type": "code",
   "execution_count": 158,
   "metadata": {},
   "outputs": [
    {
     "data": {
      "text/plain": [
       "<matplotlib.axes._subplots.AxesSubplot at 0x1a1c26f6d8>"
      ]
     },
     "execution_count": 158,
     "metadata": {},
     "output_type": "execute_result"
    },
    {
     "data": {
      "image/png": "[encoded data removed]",
      "text/plain": [
       "<Figure size 720x360 with 1 Axes>"
      ]
     },
     "metadata": {},
     "output_type": "display_data"
    }
   ],
   "source": [
    "fd_2015.plot.bar(figsize=(10,5), title = \"Regional Research and Development Expenditure in 2015\")"
   ]
  },
  {
   "cell_type": "code",
   "execution_count": 159,
   "metadata": {},
   "outputs": [
    {
     "data": {
      "text/plain": [
       "Text(0, 0.5, 'R&D Expediture(Euro) in Billions')"
      ]
     },
     "execution_count": 159,
     "metadata": {},
     "output_type": "execute_result"
    },
    {
     "data": {
      "image/png": "[encoded data removed]",
      "text/plain": [
       "<Figure size 1440x720 with 1 Axes>"
      ]
     },
     "metadata": {},
     "output_type": "display_data"
    }
   ],
   "source": [
    "plt.figure(figsize = (20,10))\n",
    "sns.pointplot(fd_2014.index, fd_2015.values)\n",
    "plt.title(\"Regional Research and Development Expenditure in 2015\")\n",
    "plt.ylabel(\"R&D Expediture(Euro) in Billions\")"
   ]
  },
  {
   "cell_type": "markdown",
   "metadata": {},
   "source": [
    "### Overall Analysis of data \n"
   ]
  },
  {
   "cell_type": "code",
   "execution_count": 160,
   "metadata": {},
   "outputs": [
    {
     "data": {
      "text/html": [
       "<div>\n",
       "<style scoped>\n",
       "    .dataframe tbody tr th:only-of-type {\n",
       "        vertical-align: middle;\n",
       "    }\n",
       "\n",
       "    .dataframe tbody tr th {\n",
       "        vertical-align: top;\n",
       "    }\n",
       "\n",
       "    .dataframe thead th {\n",
       "        text-align: right;\n",
       "    }\n",
       "</style>\n",
       "<table border=\"1\" class=\"dataframe\">\n",
       "  <thead>\n",
       "    <tr style=\"text-align: right;\">\n",
       "      <th></th>\n",
       "      <th></th>\n",
       "      <th>R&amp;D Expenditure (EURO)</th>\n",
       "    </tr>\n",
       "    <tr>\n",
       "      <th>Country Code</th>\n",
       "      <th>Reference year</th>\n",
       "      <th></th>\n",
       "    </tr>\n",
       "  </thead>\n",
       "  <tbody>\n",
       "    <tr>\n",
       "      <th>BE</th>\n",
       "      <th>2011</th>\n",
       "      <td>1.258651e+07</td>\n",
       "    </tr>\n",
       "    <tr>\n",
       "      <th>LT</th>\n",
       "      <th>2011</th>\n",
       "      <td>1.485392e+08</td>\n",
       "    </tr>\n",
       "    <tr>\n",
       "      <th>IT</th>\n",
       "      <th>2015</th>\n",
       "      <td>2.055009e+08</td>\n",
       "    </tr>\n",
       "    <tr>\n",
       "      <th>PL</th>\n",
       "      <th>2015</th>\n",
       "      <td>1.034952e+09</td>\n",
       "    </tr>\n",
       "    <tr>\n",
       "      <th>ME</th>\n",
       "      <th>2014</th>\n",
       "      <td>6.548779e+05</td>\n",
       "    </tr>\n",
       "  </tbody>\n",
       "</table>\n",
       "</div>"
      ],
      "text/plain": [
       "                             R&D Expenditure (EURO)\n",
       "Country Code Reference year                        \n",
       "BE           2011                      1.258651e+07\n",
       "LT           2011                      1.485392e+08\n",
       "IT           2015                      2.055009e+08\n",
       "PL           2015                      1.034952e+09\n",
       "ME           2014                      6.548779e+05"
      ]
     },
     "execution_count": 160,
     "metadata": {},
     "output_type": "execute_result"
    }
   ],
   "source": [
    "finaldata1  = finaldata.groupby([\"Country Code\", \"Reference year\"])[\"R&D Expenditure (EURO)\"].sum()\n",
    "finaldata2 = pd.DataFrame(finaldata1)\n",
    "finaldata2.sample(5)"
   ]
  },
  {
   "cell_type": "code",
   "execution_count": 161,
   "metadata": {},
   "outputs": [],
   "source": [
    "finaldata2 = finaldata2.reset_index()"
   ]
  },
  {
   "cell_type": "code",
   "execution_count": 162,
   "metadata": {},
   "outputs": [
    {
     "data": {
      "text/plain": [
       "Text(0.5, 20.799999999999983, 'Year')"
      ]
     },
     "execution_count": 162,
     "metadata": {},
     "output_type": "execute_result"
    },
    {
     "data": {
      "image/png": "[encoded data removed]",
      "text/plain": [
       "<Figure size 1164.38x1080 with 1 Axes>"
      ]
     },
     "metadata": {},
     "output_type": "display_data"
    }
   ],
   "source": [
    "sns.catplot(x = \"Country Code\", y = \"R&D Expenditure (EURO)\", hue = \"Reference year\", data=finaldata2, kind=\"point\",\n",
    "           height = 15)\n",
    "plt.title(\"Regional Research and Development Expenditure\")\n",
    "plt.ylabel(\"R&D Expenditure (EURO)\")\n",
    "plt.xlabel(\"Year\")"
   ]
  }
 ],
 "metadata": {
  "kernelspec": {
   "display_name": "Python 3",
   "language": "python",
   "name": "python3"
  },
  "language_info": {
   "codemirror_mode": {
    "name": "ipython",
    "version": 3
   },
   "file_extension": ".py",
   "mimetype": "text/x-python",
   "name": "python",
   "nbconvert_exporter": "python",
   "pygments_lexer": "ipython3",
   "version": "3.6.4"
  }
 },
 "nbformat": 4,
 "nbformat_minor": 2
}
